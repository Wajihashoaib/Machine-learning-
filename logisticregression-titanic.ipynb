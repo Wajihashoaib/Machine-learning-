{
 "cells": [
  {
   "cell_type": "markdown",
   "id": "4d231158",
   "metadata": {
    "papermill": {
     "duration": 0.006724,
     "end_time": "2022-07-15T13:54:30.939495",
     "exception": false,
     "start_time": "2022-07-15T13:54:30.932771",
     "status": "completed"
    },
    "tags": []
   },
   "source": [
    "# Titanic Dataset"
   ]
  },
  {
   "cell_type": "code",
   "execution_count": 1,
   "id": "1097eb16",
   "metadata": {
    "execution": {
     "iopub.execute_input": "2022-07-15T13:54:30.953218Z",
     "iopub.status.busy": "2022-07-15T13:54:30.952758Z",
     "iopub.status.idle": "2022-07-15T13:54:30.967578Z",
     "shell.execute_reply": "2022-07-15T13:54:30.966433Z"
    },
    "papermill": {
     "duration": 0.024604,
     "end_time": "2022-07-15T13:54:30.970264",
     "exception": false,
     "start_time": "2022-07-15T13:54:30.945660",
     "status": "completed"
    },
    "tags": []
   },
   "outputs": [],
   "source": [
    "import pandas as pd\n",
    "import numpy as np"
   ]
  },
  {
   "cell_type": "code",
   "execution_count": 2,
   "id": "e363da8e",
   "metadata": {
    "execution": {
     "iopub.execute_input": "2022-07-15T13:54:30.983984Z",
     "iopub.status.busy": "2022-07-15T13:54:30.983315Z",
     "iopub.status.idle": "2022-07-15T13:54:31.009119Z",
     "shell.execute_reply": "2022-07-15T13:54:31.008287Z"
    },
    "papermill": {
     "duration": 0.036172,
     "end_time": "2022-07-15T13:54:31.012294",
     "exception": false,
     "start_time": "2022-07-15T13:54:30.976122",
     "status": "completed"
    },
    "tags": []
   },
   "outputs": [],
   "source": [
    "df = pd.read_csv('../input/titanic-clean/titanic_clean1 (1).csv')"
   ]
  },
  {
   "cell_type": "code",
   "execution_count": 3,
   "id": "73e559f3",
   "metadata": {
    "execution": {
     "iopub.execute_input": "2022-07-15T13:54:31.025971Z",
     "iopub.status.busy": "2022-07-15T13:54:31.025347Z",
     "iopub.status.idle": "2022-07-15T13:54:31.049690Z",
     "shell.execute_reply": "2022-07-15T13:54:31.048588Z"
    },
    "papermill": {
     "duration": 0.033678,
     "end_time": "2022-07-15T13:54:31.051960",
     "exception": false,
     "start_time": "2022-07-15T13:54:31.018282",
     "status": "completed"
    },
    "tags": []
   },
   "outputs": [
    {
     "data": {
      "text/html": [
       "<div>\n",
       "<style scoped>\n",
       "    .dataframe tbody tr th:only-of-type {\n",
       "        vertical-align: middle;\n",
       "    }\n",
       "\n",
       "    .dataframe tbody tr th {\n",
       "        vertical-align: top;\n",
       "    }\n",
       "\n",
       "    .dataframe thead th {\n",
       "        text-align: right;\n",
       "    }\n",
       "</style>\n",
       "<table border=\"1\" class=\"dataframe\">\n",
       "  <thead>\n",
       "    <tr style=\"text-align: right;\">\n",
       "      <th></th>\n",
       "      <th>Unnamed: 0</th>\n",
       "      <th>Pclass</th>\n",
       "      <th>Age</th>\n",
       "      <th>SibSp</th>\n",
       "      <th>Parch</th>\n",
       "      <th>Fare</th>\n",
       "      <th>Embarked</th>\n",
       "      <th>Title</th>\n",
       "      <th>Gen_male</th>\n",
       "      <th>Survived</th>\n",
       "    </tr>\n",
       "  </thead>\n",
       "  <tbody>\n",
       "    <tr>\n",
       "      <th>0</th>\n",
       "      <td>0</td>\n",
       "      <td>3</td>\n",
       "      <td>22.0</td>\n",
       "      <td>1</td>\n",
       "      <td>0</td>\n",
       "      <td>7.2500</td>\n",
       "      <td>0</td>\n",
       "      <td>0</td>\n",
       "      <td>1</td>\n",
       "      <td>0</td>\n",
       "    </tr>\n",
       "    <tr>\n",
       "      <th>1</th>\n",
       "      <td>1</td>\n",
       "      <td>1</td>\n",
       "      <td>38.0</td>\n",
       "      <td>1</td>\n",
       "      <td>0</td>\n",
       "      <td>71.2833</td>\n",
       "      <td>1</td>\n",
       "      <td>1</td>\n",
       "      <td>0</td>\n",
       "      <td>1</td>\n",
       "    </tr>\n",
       "    <tr>\n",
       "      <th>2</th>\n",
       "      <td>2</td>\n",
       "      <td>3</td>\n",
       "      <td>26.0</td>\n",
       "      <td>0</td>\n",
       "      <td>0</td>\n",
       "      <td>7.9250</td>\n",
       "      <td>0</td>\n",
       "      <td>2</td>\n",
       "      <td>0</td>\n",
       "      <td>1</td>\n",
       "    </tr>\n",
       "    <tr>\n",
       "      <th>3</th>\n",
       "      <td>3</td>\n",
       "      <td>1</td>\n",
       "      <td>35.0</td>\n",
       "      <td>1</td>\n",
       "      <td>0</td>\n",
       "      <td>53.1000</td>\n",
       "      <td>0</td>\n",
       "      <td>1</td>\n",
       "      <td>0</td>\n",
       "      <td>1</td>\n",
       "    </tr>\n",
       "    <tr>\n",
       "      <th>4</th>\n",
       "      <td>4</td>\n",
       "      <td>3</td>\n",
       "      <td>35.0</td>\n",
       "      <td>0</td>\n",
       "      <td>0</td>\n",
       "      <td>8.0500</td>\n",
       "      <td>0</td>\n",
       "      <td>0</td>\n",
       "      <td>1</td>\n",
       "      <td>0</td>\n",
       "    </tr>\n",
       "  </tbody>\n",
       "</table>\n",
       "</div>"
      ],
      "text/plain": [
       "   Unnamed: 0  Pclass   Age  SibSp  Parch     Fare  Embarked  Title  Gen_male  \\\n",
       "0           0       3  22.0      1      0   7.2500         0      0         1   \n",
       "1           1       1  38.0      1      0  71.2833         1      1         0   \n",
       "2           2       3  26.0      0      0   7.9250         0      2         0   \n",
       "3           3       1  35.0      1      0  53.1000         0      1         0   \n",
       "4           4       3  35.0      0      0   8.0500         0      0         1   \n",
       "\n",
       "   Survived  \n",
       "0         0  \n",
       "1         1  \n",
       "2         1  \n",
       "3         1  \n",
       "4         0  "
      ]
     },
     "execution_count": 3,
     "metadata": {},
     "output_type": "execute_result"
    }
   ],
   "source": [
    "df.head()"
   ]
  },
  {
   "cell_type": "code",
   "execution_count": 4,
   "id": "8c5c81bf",
   "metadata": {
    "execution": {
     "iopub.execute_input": "2022-07-15T13:54:31.065731Z",
     "iopub.status.busy": "2022-07-15T13:54:31.065336Z",
     "iopub.status.idle": "2022-07-15T13:54:31.078644Z",
     "shell.execute_reply": "2022-07-15T13:54:31.077789Z"
    },
    "papermill": {
     "duration": 0.023098,
     "end_time": "2022-07-15T13:54:31.081122",
     "exception": false,
     "start_time": "2022-07-15T13:54:31.058024",
     "status": "completed"
    },
    "tags": []
   },
   "outputs": [],
   "source": [
    "df.drop(columns=['Unnamed: 0'], inplace=True)"
   ]
  },
  {
   "cell_type": "code",
   "execution_count": 5,
   "id": "0e1fd2c8",
   "metadata": {
    "execution": {
     "iopub.execute_input": "2022-07-15T13:54:31.096217Z",
     "iopub.status.busy": "2022-07-15T13:54:31.095105Z",
     "iopub.status.idle": "2022-07-15T13:54:31.102431Z",
     "shell.execute_reply": "2022-07-15T13:54:31.100616Z"
    },
    "papermill": {
     "duration": 0.017766,
     "end_time": "2022-07-15T13:54:31.104939",
     "exception": false,
     "start_time": "2022-07-15T13:54:31.087173",
     "status": "completed"
    },
    "tags": []
   },
   "outputs": [],
   "source": [
    "X = df.drop('Survived' , axis =1)"
   ]
  },
  {
   "cell_type": "code",
   "execution_count": 6,
   "id": "bc1bf190",
   "metadata": {
    "execution": {
     "iopub.execute_input": "2022-07-15T13:54:31.120876Z",
     "iopub.status.busy": "2022-07-15T13:54:31.120159Z",
     "iopub.status.idle": "2022-07-15T13:54:31.134187Z",
     "shell.execute_reply": "2022-07-15T13:54:31.133362Z"
    },
    "papermill": {
     "duration": 0.024493,
     "end_time": "2022-07-15T13:54:31.136322",
     "exception": false,
     "start_time": "2022-07-15T13:54:31.111829",
     "status": "completed"
    },
    "tags": []
   },
   "outputs": [
    {
     "data": {
      "text/html": [
       "<div>\n",
       "<style scoped>\n",
       "    .dataframe tbody tr th:only-of-type {\n",
       "        vertical-align: middle;\n",
       "    }\n",
       "\n",
       "    .dataframe tbody tr th {\n",
       "        vertical-align: top;\n",
       "    }\n",
       "\n",
       "    .dataframe thead th {\n",
       "        text-align: right;\n",
       "    }\n",
       "</style>\n",
       "<table border=\"1\" class=\"dataframe\">\n",
       "  <thead>\n",
       "    <tr style=\"text-align: right;\">\n",
       "      <th></th>\n",
       "      <th>Pclass</th>\n",
       "      <th>Age</th>\n",
       "      <th>SibSp</th>\n",
       "      <th>Parch</th>\n",
       "      <th>Fare</th>\n",
       "      <th>Embarked</th>\n",
       "      <th>Title</th>\n",
       "      <th>Gen_male</th>\n",
       "    </tr>\n",
       "  </thead>\n",
       "  <tbody>\n",
       "    <tr>\n",
       "      <th>0</th>\n",
       "      <td>3</td>\n",
       "      <td>22.0</td>\n",
       "      <td>1</td>\n",
       "      <td>0</td>\n",
       "      <td>7.2500</td>\n",
       "      <td>0</td>\n",
       "      <td>0</td>\n",
       "      <td>1</td>\n",
       "    </tr>\n",
       "    <tr>\n",
       "      <th>1</th>\n",
       "      <td>1</td>\n",
       "      <td>38.0</td>\n",
       "      <td>1</td>\n",
       "      <td>0</td>\n",
       "      <td>71.2833</td>\n",
       "      <td>1</td>\n",
       "      <td>1</td>\n",
       "      <td>0</td>\n",
       "    </tr>\n",
       "    <tr>\n",
       "      <th>2</th>\n",
       "      <td>3</td>\n",
       "      <td>26.0</td>\n",
       "      <td>0</td>\n",
       "      <td>0</td>\n",
       "      <td>7.9250</td>\n",
       "      <td>0</td>\n",
       "      <td>2</td>\n",
       "      <td>0</td>\n",
       "    </tr>\n",
       "    <tr>\n",
       "      <th>3</th>\n",
       "      <td>1</td>\n",
       "      <td>35.0</td>\n",
       "      <td>1</td>\n",
       "      <td>0</td>\n",
       "      <td>53.1000</td>\n",
       "      <td>0</td>\n",
       "      <td>1</td>\n",
       "      <td>0</td>\n",
       "    </tr>\n",
       "    <tr>\n",
       "      <th>4</th>\n",
       "      <td>3</td>\n",
       "      <td>35.0</td>\n",
       "      <td>0</td>\n",
       "      <td>0</td>\n",
       "      <td>8.0500</td>\n",
       "      <td>0</td>\n",
       "      <td>0</td>\n",
       "      <td>1</td>\n",
       "    </tr>\n",
       "  </tbody>\n",
       "</table>\n",
       "</div>"
      ],
      "text/plain": [
       "   Pclass   Age  SibSp  Parch     Fare  Embarked  Title  Gen_male\n",
       "0       3  22.0      1      0   7.2500         0      0         1\n",
       "1       1  38.0      1      0  71.2833         1      1         0\n",
       "2       3  26.0      0      0   7.9250         0      2         0\n",
       "3       1  35.0      1      0  53.1000         0      1         0\n",
       "4       3  35.0      0      0   8.0500         0      0         1"
      ]
     },
     "execution_count": 6,
     "metadata": {},
     "output_type": "execute_result"
    }
   ],
   "source": [
    "X.head()"
   ]
  },
  {
   "cell_type": "code",
   "execution_count": 7,
   "id": "77b1f1cf",
   "metadata": {
    "execution": {
     "iopub.execute_input": "2022-07-15T13:54:31.151034Z",
     "iopub.status.busy": "2022-07-15T13:54:31.150005Z",
     "iopub.status.idle": "2022-07-15T13:54:31.156893Z",
     "shell.execute_reply": "2022-07-15T13:54:31.155679Z"
    },
    "papermill": {
     "duration": 0.016862,
     "end_time": "2022-07-15T13:54:31.159433",
     "exception": false,
     "start_time": "2022-07-15T13:54:31.142571",
     "status": "completed"
    },
    "tags": []
   },
   "outputs": [],
   "source": [
    "Y = df['Survived']"
   ]
  },
  {
   "cell_type": "code",
   "execution_count": 8,
   "id": "4112ecdf",
   "metadata": {
    "execution": {
     "iopub.execute_input": "2022-07-15T13:54:31.173700Z",
     "iopub.status.busy": "2022-07-15T13:54:31.173313Z",
     "iopub.status.idle": "2022-07-15T13:54:31.180987Z",
     "shell.execute_reply": "2022-07-15T13:54:31.179815Z"
    },
    "papermill": {
     "duration": 0.017934,
     "end_time": "2022-07-15T13:54:31.183641",
     "exception": false,
     "start_time": "2022-07-15T13:54:31.165707",
     "status": "completed"
    },
    "tags": []
   },
   "outputs": [
    {
     "data": {
      "text/plain": [
       "0    0\n",
       "1    1\n",
       "2    1\n",
       "3    1\n",
       "4    0\n",
       "Name: Survived, dtype: int64"
      ]
     },
     "execution_count": 8,
     "metadata": {},
     "output_type": "execute_result"
    }
   ],
   "source": [
    "Y.head()"
   ]
  },
  {
   "cell_type": "code",
   "execution_count": 9,
   "id": "7279eb25",
   "metadata": {
    "execution": {
     "iopub.execute_input": "2022-07-15T13:54:31.198063Z",
     "iopub.status.busy": "2022-07-15T13:54:31.197661Z",
     "iopub.status.idle": "2022-07-15T13:54:32.376663Z",
     "shell.execute_reply": "2022-07-15T13:54:32.375144Z"
    },
    "papermill": {
     "duration": 1.189191,
     "end_time": "2022-07-15T13:54:32.379341",
     "exception": false,
     "start_time": "2022-07-15T13:54:31.190150",
     "status": "completed"
    },
    "tags": []
   },
   "outputs": [],
   "source": [
    "from sklearn.model_selection import train_test_split"
   ]
  },
  {
   "cell_type": "code",
   "execution_count": 10,
   "id": "6c1d838f",
   "metadata": {
    "execution": {
     "iopub.execute_input": "2022-07-15T13:54:32.394064Z",
     "iopub.status.busy": "2022-07-15T13:54:32.393678Z",
     "iopub.status.idle": "2022-07-15T13:54:32.401810Z",
     "shell.execute_reply": "2022-07-15T13:54:32.400615Z"
    },
    "papermill": {
     "duration": 0.018206,
     "end_time": "2022-07-15T13:54:32.404261",
     "exception": false,
     "start_time": "2022-07-15T13:54:32.386055",
     "status": "completed"
    },
    "tags": []
   },
   "outputs": [],
   "source": [
    "X_train , X_test , Y_train , Y_test = train_test_split(X , Y , test_size = 0.3)"
   ]
  },
  {
   "cell_type": "code",
   "execution_count": 11,
   "id": "b76029c4",
   "metadata": {
    "execution": {
     "iopub.execute_input": "2022-07-15T13:54:32.418363Z",
     "iopub.status.busy": "2022-07-15T13:54:32.417972Z",
     "iopub.status.idle": "2022-07-15T13:54:32.503804Z",
     "shell.execute_reply": "2022-07-15T13:54:32.502594Z"
    },
    "papermill": {
     "duration": 0.096401,
     "end_time": "2022-07-15T13:54:32.506945",
     "exception": false,
     "start_time": "2022-07-15T13:54:32.410544",
     "status": "completed"
    },
    "tags": []
   },
   "outputs": [],
   "source": [
    "from sklearn.linear_model import LogisticRegression"
   ]
  },
  {
   "cell_type": "code",
   "execution_count": 12,
   "id": "564e175b",
   "metadata": {
    "execution": {
     "iopub.execute_input": "2022-07-15T13:54:32.523762Z",
     "iopub.status.busy": "2022-07-15T13:54:32.523419Z",
     "iopub.status.idle": "2022-07-15T13:54:32.528473Z",
     "shell.execute_reply": "2022-07-15T13:54:32.527158Z"
    },
    "papermill": {
     "duration": 0.015529,
     "end_time": "2022-07-15T13:54:32.530746",
     "exception": false,
     "start_time": "2022-07-15T13:54:32.515217",
     "status": "completed"
    },
    "tags": []
   },
   "outputs": [],
   "source": [
    "model = LogisticRegression()"
   ]
  },
  {
   "cell_type": "code",
   "execution_count": 13,
   "id": "9e665372",
   "metadata": {
    "execution": {
     "iopub.execute_input": "2022-07-15T13:54:32.545503Z",
     "iopub.status.busy": "2022-07-15T13:54:32.545041Z",
     "iopub.status.idle": "2022-07-15T13:54:32.551779Z",
     "shell.execute_reply": "2022-07-15T13:54:32.550664Z"
    },
    "papermill": {
     "duration": 0.016792,
     "end_time": "2022-07-15T13:54:32.553899",
     "exception": false,
     "start_time": "2022-07-15T13:54:32.537107",
     "status": "completed"
    },
    "tags": []
   },
   "outputs": [
    {
     "data": {
      "text/plain": [
       "2"
      ]
     },
     "execution_count": 13,
     "metadata": {},
     "output_type": "execute_result"
    }
   ],
   "source": [
    "X_train.ndim"
   ]
  },
  {
   "cell_type": "code",
   "execution_count": 14,
   "id": "16fdb20e",
   "metadata": {
    "execution": {
     "iopub.execute_input": "2022-07-15T13:54:32.569014Z",
     "iopub.status.busy": "2022-07-15T13:54:32.568275Z",
     "iopub.status.idle": "2022-07-15T13:54:32.575959Z",
     "shell.execute_reply": "2022-07-15T13:54:32.574678Z"
    },
    "papermill": {
     "duration": 0.018107,
     "end_time": "2022-07-15T13:54:32.578480",
     "exception": false,
     "start_time": "2022-07-15T13:54:32.560373",
     "status": "completed"
    },
    "tags": []
   },
   "outputs": [
    {
     "data": {
      "text/plain": [
       "1"
      ]
     },
     "execution_count": 14,
     "metadata": {},
     "output_type": "execute_result"
    }
   ],
   "source": [
    "Y_train.ndim"
   ]
  },
  {
   "cell_type": "code",
   "execution_count": 15,
   "id": "5499b319",
   "metadata": {
    "execution": {
     "iopub.execute_input": "2022-07-15T13:54:32.593399Z",
     "iopub.status.busy": "2022-07-15T13:54:32.592992Z",
     "iopub.status.idle": "2022-07-15T13:54:32.641730Z",
     "shell.execute_reply": "2022-07-15T13:54:32.640272Z"
    },
    "papermill": {
     "duration": 0.058986,
     "end_time": "2022-07-15T13:54:32.644361",
     "exception": false,
     "start_time": "2022-07-15T13:54:32.585375",
     "status": "completed"
    },
    "tags": []
   },
   "outputs": [
    {
     "name": "stderr",
     "output_type": "stream",
     "text": [
      "/opt/conda/lib/python3.7/site-packages/sklearn/linear_model/_logistic.py:818: ConvergenceWarning: lbfgs failed to converge (status=1):\n",
      "STOP: TOTAL NO. of ITERATIONS REACHED LIMIT.\n",
      "\n",
      "Increase the number of iterations (max_iter) or scale the data as shown in:\n",
      "    https://scikit-learn.org/stable/modules/preprocessing.html\n",
      "Please also refer to the documentation for alternative solver options:\n",
      "    https://scikit-learn.org/stable/modules/linear_model.html#logistic-regression\n",
      "  extra_warning_msg=_LOGISTIC_SOLVER_CONVERGENCE_MSG,\n"
     ]
    },
    {
     "data": {
      "text/plain": [
       "LogisticRegression()"
      ]
     },
     "execution_count": 15,
     "metadata": {},
     "output_type": "execute_result"
    }
   ],
   "source": [
    "model.fit(X_train , Y_train)"
   ]
  },
  {
   "cell_type": "code",
   "execution_count": 16,
   "id": "333686cb",
   "metadata": {
    "execution": {
     "iopub.execute_input": "2022-07-15T13:54:32.659346Z",
     "iopub.status.busy": "2022-07-15T13:54:32.658963Z",
     "iopub.status.idle": "2022-07-15T13:54:32.666291Z",
     "shell.execute_reply": "2022-07-15T13:54:32.665028Z"
    },
    "papermill": {
     "duration": 0.017392,
     "end_time": "2022-07-15T13:54:32.668430",
     "exception": false,
     "start_time": "2022-07-15T13:54:32.651038",
     "status": "completed"
    },
    "tags": []
   },
   "outputs": [],
   "source": [
    "predict = model.predict(X_test)"
   ]
  },
  {
   "cell_type": "code",
   "execution_count": 17,
   "id": "b5fd60fe",
   "metadata": {
    "execution": {
     "iopub.execute_input": "2022-07-15T13:54:32.683536Z",
     "iopub.status.busy": "2022-07-15T13:54:32.683105Z",
     "iopub.status.idle": "2022-07-15T13:54:32.688235Z",
     "shell.execute_reply": "2022-07-15T13:54:32.687121Z"
    },
    "papermill": {
     "duration": 0.015393,
     "end_time": "2022-07-15T13:54:32.690537",
     "exception": false,
     "start_time": "2022-07-15T13:54:32.675144",
     "status": "completed"
    },
    "tags": []
   },
   "outputs": [],
   "source": [
    "from sklearn.metrics import accuracy_score"
   ]
  },
  {
   "cell_type": "code",
   "execution_count": 18,
   "id": "1343fabc",
   "metadata": {
    "execution": {
     "iopub.execute_input": "2022-07-15T13:54:32.705948Z",
     "iopub.status.busy": "2022-07-15T13:54:32.705567Z",
     "iopub.status.idle": "2022-07-15T13:54:32.713999Z",
     "shell.execute_reply": "2022-07-15T13:54:32.712749Z"
    },
    "papermill": {
     "duration": 0.018968,
     "end_time": "2022-07-15T13:54:32.716544",
     "exception": false,
     "start_time": "2022-07-15T13:54:32.697576",
     "status": "completed"
    },
    "tags": []
   },
   "outputs": [
    {
     "data": {
      "text/plain": [
       "0.72264631043257"
      ]
     },
     "execution_count": 18,
     "metadata": {},
     "output_type": "execute_result"
    }
   ],
   "source": [
    "accuracy_score(Y_test ,predict)"
   ]
  }
 ],
 "metadata": {
  "kernelspec": {
   "display_name": "Python 3",
   "language": "python",
   "name": "python3"
  },
  "language_info": {
   "codemirror_mode": {
    "name": "ipython",
    "version": 3
   },
   "file_extension": ".py",
   "mimetype": "text/x-python",
   "name": "python",
   "nbconvert_exporter": "python",
   "pygments_lexer": "ipython3",
   "version": "3.7.12"
  },
  "papermill": {
   "default_parameters": {},
   "duration": 13.13768,
   "end_time": "2022-07-15T13:54:33.444062",
   "environment_variables": {},
   "exception": null,
   "input_path": "__notebook__.ipynb",
   "output_path": "__notebook__.ipynb",
   "parameters": {},
   "start_time": "2022-07-15T13:54:20.306382",
   "version": "2.3.4"
  }
 },
 "nbformat": 4,
 "nbformat_minor": 5
}
