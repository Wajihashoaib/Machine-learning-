{
  "nbformat": 4,
  "nbformat_minor": 0,
  "metadata": {
    "colab": {
      "provenance": [],
      "collapsed_sections": []
    },
    "kernelspec": {
      "name": "python3",
      "display_name": "Python 3"
    },
    "language_info": {
      "name": "python"
    }
  },
  "cells": [
    {
      "cell_type": "markdown",
      "source": [
        "# A Relational agent program in Python"
      ],
      "metadata": {
        "id": "r6xcdcOFSJ8h"
      }
    },
    {
      "cell_type": "markdown",
      "source": [
        "Relational Agents are one kind of Al program, involving animated characters that produce gestures such as smiling, blinking, and nodding."
      ],
      "metadata": {
        "id": "WJx69NenSjYz"
      }
    },
    {
      "cell_type": "markdown",
      "source": [
        "# Objectives:\n",
        "To get acquainted with Python and the use of production rules."
      ],
      "metadata": {
        "id": "H8dgK-EwSO-R"
      }
    },
    {
      "cell_type": "markdown",
      "source": [
        "# Project Description: \n",
        "We will program the gesture selection component of a relational agent. The set of actions will be: \n",
        "1. Smile \n",
        "2. Frown \n",
        "3. Nod \n",
        "4. Blink "
      ],
      "metadata": {
        "id": "wUaAQotASw1r"
      }
    },
    {
      "cell_type": "markdown",
      "source": [
        "# Percepts:"
      ],
      "metadata": {
        "id": "lKk2hcicTMU_"
      }
    },
    {
      "cell_type": "markdown",
      "source": [
        "Percepts will be a user's communication to the program, consisting of two elements: \n",
        "1. content (Positive, Negative, Unsure) \n",
        "2. mood (Happy, Sad, Neutral)"
      ],
      "metadata": {
        "id": "2PazhbKETBuj"
      }
    },
    {
      "cell_type": "markdown",
      "source": [
        "# Output:\n",
        "The output is a gesture that the relational agent should perform when responding.\n",
        "The agent's gesture selection strategy is defined as: \n",
        "\n",
        "\n",
        "\n",
        "\n",
        "\n",
        "*   If happy and either positive, smile \n",
        "*   If happy and unsure, nod \n",
        "*   If sad, frown \n",
        "*   If neutral and positive or negative, nod \n",
        "*   If neutral and unsure, blink \n"
      ],
      "metadata": {
        "id": "dCzijrYaTX0j"
      }
    },
    {
      "cell_type": "markdown",
      "source": [
        "# Task:\n",
        "Implement a production-rule driven relational agent with the behavior as above. Input will be a list of Python, Your main function should be called gestures()\n",
        "\n"
      ],
      "metadata": {
        "id": "3A2mopLLUl4C"
      }
    },
    {
      "cell_type": "markdown",
      "source": [
        "# List of Inputs"
      ],
      "metadata": {
        "id": "Bs5u-5ota-CU"
      }
    },
    {
      "cell_type": "code",
      "execution_count": 40,
      "metadata": {
        "id": "YcXXp-c5QaCr"
      },
      "outputs": [],
      "source": [
        "list_of_gestures = ['smile', 'nod' , 'blink' , 'frown']\n",
        "list_of_mood = ['happy','sad','neutral']\n",
        "list_of_content = ['positive','negative','unsure']"
      ]
    },
    {
      "cell_type": "markdown",
      "source": [
        "# Importing Library for random Input"
      ],
      "metadata": {
        "id": "h7HVyByUaDgP"
      }
    },
    {
      "cell_type": "code",
      "source": [
        "import random"
      ],
      "metadata": {
        "id": "aJqSFWbPWzdb"
      },
      "execution_count": 41,
      "outputs": []
    },
    {
      "cell_type": "markdown",
      "source": [
        "# Main Function"
      ],
      "metadata": {
        "id": "v-i-7SXgbNv0"
      }
    },
    {
      "cell_type": "code",
      "source": [
        "new_gest =[]\n",
        "def gestures():\n",
        "  select_random_gesture = random.choice(list_of_gestures)\n",
        "  new_gest.append(select_random_gesture)\n",
        "  return new_gest\n",
        "\n",
        "answer = gestures()\n",
        "print(answer)\n",
        "\n",
        "if answer == ['smile']:\n",
        "  print('Relaxing....')\n",
        "\n",
        "elif answer == ['nod']:\n",
        "  print('Respecting...')\n",
        "\n",
        "elif answer == ['frown']:\n",
        "  print('Sad...')\n",
        "\n",
        "elif answer == ['blink']:\n",
        "  print('watching a show...')\n",
        "\n",
        "else:\n",
        "  print('Doing Nothing...')\n"
      ],
      "metadata": {
        "colab": {
          "base_uri": "https://localhost:8080/"
        },
        "id": "2zLBBbRtEvTs",
        "outputId": "d75f3213-d0a9-46f1-f3fb-8da069c1434d"
      },
      "execution_count": 56,
      "outputs": [
        {
          "output_type": "stream",
          "name": "stdout",
          "text": [
            "['nod']\n",
            "Respecting...\n"
          ]
        }
      ]
    },
    {
      "cell_type": "code",
      "source": [
        "def make_gesture():\n",
        "  input_var = int(input('What kind of music do you want to listen? \\n1) Sad\\n2) Rock\\n3) Calm\\n4) Random\\n'))\n",
        "  if input_var == 1:\n",
        "    print(list_of_gestures[3])\n",
        "  elif input_var == 2:\n",
        "    print(list_of_gestures[2])\n",
        "  elif input_var == 3:\n",
        "    print(list_of_gestures[0])\n",
        "  elif input_var == 4:\n",
        "    print(list_of_gestures[1])\n",
        "  else:\n",
        "    print(random.choice(list_of_gestures))\n",
        "\n",
        "make_gesture()"
      ],
      "metadata": {
        "colab": {
          "base_uri": "https://localhost:8080/"
        },
        "id": "5l-V3N98Lbn6",
        "outputId": "e9537eda-6e1c-4ff7-d083-85bbb26b27c2"
      },
      "execution_count": 54,
      "outputs": [
        {
          "output_type": "stream",
          "name": "stdout",
          "text": [
            "What kind of music do you want to listen? \n",
            "1) Sad\n",
            "2) Rock\n",
            "3) Calm\n",
            "4) Random\n",
            "1\n",
            "frown\n"
          ]
        }
      ]
    },
    {
      "cell_type": "code",
      "source": [
        "action=random.choice(list_of_gestures)\n",
        "content=random.choice(list_of_content)\n",
        "mood=random.choice(list_of_mood)"
      ],
      "metadata": {
        "id": "327q71dfMUX5"
      },
      "execution_count": 57,
      "outputs": []
    },
    {
      "cell_type": "code",
      "source": [
        "print(content , ' and ' , mood)"
      ],
      "metadata": {
        "colab": {
          "base_uri": "https://localhost:8080/"
        },
        "id": "gA0O98O-5kiZ",
        "outputId": "9703a6f6-751c-43ff-e752-5f5320893c5c"
      },
      "execution_count": 42,
      "outputs": [
        {
          "output_type": "stream",
          "name": "stdout",
          "text": [
            "positive  and  sad\n"
          ]
        }
      ]
    },
    {
      "cell_type": "code",
      "source": [
        "def predict_agent():\n",
        "  if mood ==('happy') and content ==('positive'):\n",
        "    print(\"smile\")\n",
        "  if mood ==('happy') and content==('unsure'):\n",
        "    print(\"nod\")\n",
        "  if mood==('sad'):\n",
        "    print(\"frown\")\n",
        "  if mood==('neutral') and content==('positive') or content==('negative'):\n",
        "    print(\"nod\")\n",
        "  if mood==('neutral') and content==('unsure'):\n",
        "    print(\"Blink\")\n",
        "\n",
        "predict_agent()"
      ],
      "metadata": {
        "colab": {
          "base_uri": "https://localhost:8080/"
        },
        "id": "1W_KXc-98vx4",
        "outputId": "4c526d8a-5742-472e-fe88-db1c1397433e"
      },
      "execution_count": 55,
      "outputs": [
        {
          "output_type": "stream",
          "name": "stdout",
          "text": [
            "frown\n"
          ]
        }
      ]
    }
  ]
}