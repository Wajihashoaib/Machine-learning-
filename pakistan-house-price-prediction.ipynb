{
 "cells": [
  {
   "cell_type": "markdown",
   "id": "36644abb",
   "metadata": {
    "papermill": {
     "duration": 0.012541,
     "end_time": "2022-07-20T08:55:43.283258",
     "exception": false,
     "start_time": "2022-07-20T08:55:43.270717",
     "status": "completed"
    },
    "tags": []
   },
   "source": [
    "# House Price Prediction Using Linear Regression and KNN"
   ]
  },
  {
   "cell_type": "markdown",
   "id": "8416d975",
   "metadata": {
    "papermill": {
     "duration": 0.010598,
     "end_time": "2022-07-20T08:55:43.304996",
     "exception": false,
     "start_time": "2022-07-20T08:55:43.294398",
     "status": "completed"
    },
    "tags": []
   },
   "source": [
    "# Importing Libraries "
   ]
  },
  {
   "cell_type": "code",
   "execution_count": 1,
   "id": "8643393b",
   "metadata": {
    "execution": {
     "iopub.execute_input": "2022-07-20T08:55:43.329060Z",
     "iopub.status.busy": "2022-07-20T08:55:43.328263Z",
     "iopub.status.idle": "2022-07-20T08:55:44.781270Z",
     "shell.execute_reply": "2022-07-20T08:55:44.780092Z"
    },
    "papermill": {
     "duration": 1.46852,
     "end_time": "2022-07-20T08:55:44.784392",
     "exception": false,
     "start_time": "2022-07-20T08:55:43.315872",
     "status": "completed"
    },
    "tags": []
   },
   "outputs": [],
   "source": [
    "import pandas as pd\n",
    "import numpy as np\n",
    "import seaborn as sns\n",
    "import matplotlib.pyplot as plt\n",
    "from sklearn.linear_model import LinearRegression\n",
    "from sklearn.model_selection import train_test_split\n",
    "from sklearn.metrics import mean_absolute_error, mean_squared_error , r2_score"
   ]
  },
  {
   "cell_type": "code",
   "execution_count": 2,
   "id": "8b7d655c",
   "metadata": {
    "execution": {
     "iopub.execute_input": "2022-07-20T08:55:44.809309Z",
     "iopub.status.busy": "2022-07-20T08:55:44.808756Z",
     "iopub.status.idle": "2022-07-20T08:55:46.103238Z",
     "shell.execute_reply": "2022-07-20T08:55:46.101985Z"
    },
    "papermill": {
     "duration": 1.310286,
     "end_time": "2022-07-20T08:55:46.106142",
     "exception": false,
     "start_time": "2022-07-20T08:55:44.795856",
     "status": "completed"
    },
    "tags": []
   },
   "outputs": [],
   "source": [
    "df = pd.read_csv('../input/pakistan-house-price-prediction/Entities.csv')"
   ]
  },
  {
   "cell_type": "code",
   "execution_count": 3,
   "id": "b9aeb6ef",
   "metadata": {
    "execution": {
     "iopub.execute_input": "2022-07-20T08:55:46.130767Z",
     "iopub.status.busy": "2022-07-20T08:55:46.130332Z",
     "iopub.status.idle": "2022-07-20T08:55:46.318482Z",
     "shell.execute_reply": "2022-07-20T08:55:46.317326Z"
    },
    "papermill": {
     "duration": 0.204319,
     "end_time": "2022-07-20T08:55:46.321576",
     "exception": false,
     "start_time": "2022-07-20T08:55:46.117257",
     "status": "completed"
    },
    "tags": []
   },
   "outputs": [
    {
     "name": "stdout",
     "output_type": "stream",
     "text": [
      "<class 'pandas.core.frame.DataFrame'>\n",
      "RangeIndex: 168446 entries, 0 to 168445\n",
      "Data columns (total 18 columns):\n",
      " #   Column         Non-Null Count   Dtype  \n",
      "---  ------         --------------   -----  \n",
      " 0   Unnamed: 0     168446 non-null  int64  \n",
      " 1   property_id    168446 non-null  int64  \n",
      " 2   location_id    168446 non-null  int64  \n",
      " 3   page_url       168446 non-null  object \n",
      " 4   property_type  168446 non-null  object \n",
      " 5   price          168446 non-null  int64  \n",
      " 6   location       168446 non-null  object \n",
      " 7   city           168446 non-null  object \n",
      " 8   province_name  168446 non-null  object \n",
      " 9   latitude       168446 non-null  float64\n",
      " 10  longitude      168446 non-null  float64\n",
      " 11  baths          168446 non-null  int64  \n",
      " 12  purpose        168446 non-null  object \n",
      " 13  bedrooms       168446 non-null  int64  \n",
      " 14  date_added     168446 non-null  object \n",
      " 15  agency         124375 non-null  object \n",
      " 16  agent          124374 non-null  object \n",
      " 17  Total_Area     168446 non-null  float64\n",
      "dtypes: float64(3), int64(6), object(9)\n",
      "memory usage: 23.1+ MB\n"
     ]
    }
   ],
   "source": [
    "df.info()"
   ]
  },
  {
   "cell_type": "code",
   "execution_count": 4,
   "id": "1a10cb6e",
   "metadata": {
    "execution": {
     "iopub.execute_input": "2022-07-20T08:55:46.347256Z",
     "iopub.status.busy": "2022-07-20T08:55:46.346522Z",
     "iopub.status.idle": "2022-07-20T08:55:46.374913Z",
     "shell.execute_reply": "2022-07-20T08:55:46.373690Z"
    },
    "papermill": {
     "duration": 0.044219,
     "end_time": "2022-07-20T08:55:46.377452",
     "exception": false,
     "start_time": "2022-07-20T08:55:46.333233",
     "status": "completed"
    },
    "tags": []
   },
   "outputs": [
    {
     "data": {
      "text/html": [
       "<div>\n",
       "<style scoped>\n",
       "    .dataframe tbody tr th:only-of-type {\n",
       "        vertical-align: middle;\n",
       "    }\n",
       "\n",
       "    .dataframe tbody tr th {\n",
       "        vertical-align: top;\n",
       "    }\n",
       "\n",
       "    .dataframe thead th {\n",
       "        text-align: right;\n",
       "    }\n",
       "</style>\n",
       "<table border=\"1\" class=\"dataframe\">\n",
       "  <thead>\n",
       "    <tr style=\"text-align: right;\">\n",
       "      <th></th>\n",
       "      <th>Unnamed: 0</th>\n",
       "      <th>property_id</th>\n",
       "      <th>location_id</th>\n",
       "      <th>page_url</th>\n",
       "      <th>property_type</th>\n",
       "      <th>price</th>\n",
       "      <th>location</th>\n",
       "      <th>city</th>\n",
       "      <th>province_name</th>\n",
       "      <th>latitude</th>\n",
       "      <th>longitude</th>\n",
       "      <th>baths</th>\n",
       "      <th>purpose</th>\n",
       "      <th>bedrooms</th>\n",
       "      <th>date_added</th>\n",
       "      <th>agency</th>\n",
       "      <th>agent</th>\n",
       "      <th>Total_Area</th>\n",
       "    </tr>\n",
       "  </thead>\n",
       "  <tbody>\n",
       "    <tr>\n",
       "      <th>0</th>\n",
       "      <td>0</td>\n",
       "      <td>237062</td>\n",
       "      <td>3325</td>\n",
       "      <td>https://www.zameen.com/Property/g_10_g_10_2_gr...</td>\n",
       "      <td>Flat</td>\n",
       "      <td>10000000</td>\n",
       "      <td>G-10</td>\n",
       "      <td>Islamabad</td>\n",
       "      <td>Islamabad Capital</td>\n",
       "      <td>33.679890</td>\n",
       "      <td>73.012640</td>\n",
       "      <td>2</td>\n",
       "      <td>For Sale</td>\n",
       "      <td>2</td>\n",
       "      <td>2/4/2019</td>\n",
       "      <td>NaN</td>\n",
       "      <td>NaN</td>\n",
       "      <td>1089.004</td>\n",
       "    </tr>\n",
       "    <tr>\n",
       "      <th>1</th>\n",
       "      <td>1</td>\n",
       "      <td>346905</td>\n",
       "      <td>3236</td>\n",
       "      <td>https://www.zameen.com/Property/e_11_2_service...</td>\n",
       "      <td>Flat</td>\n",
       "      <td>6900000</td>\n",
       "      <td>E-11</td>\n",
       "      <td>Islamabad</td>\n",
       "      <td>Islamabad Capital</td>\n",
       "      <td>33.700993</td>\n",
       "      <td>72.971492</td>\n",
       "      <td>3</td>\n",
       "      <td>For Sale</td>\n",
       "      <td>3</td>\n",
       "      <td>5/4/2019</td>\n",
       "      <td>NaN</td>\n",
       "      <td>NaN</td>\n",
       "      <td>15246.056</td>\n",
       "    </tr>\n",
       "    <tr>\n",
       "      <th>2</th>\n",
       "      <td>2</td>\n",
       "      <td>386513</td>\n",
       "      <td>764</td>\n",
       "      <td>https://www.zameen.com/Property/islamabad_g_15...</td>\n",
       "      <td>House</td>\n",
       "      <td>16500000</td>\n",
       "      <td>G-15</td>\n",
       "      <td>Islamabad</td>\n",
       "      <td>Islamabad Capital</td>\n",
       "      <td>33.631486</td>\n",
       "      <td>72.926559</td>\n",
       "      <td>6</td>\n",
       "      <td>For Sale</td>\n",
       "      <td>5</td>\n",
       "      <td>7/17/2019</td>\n",
       "      <td>NaN</td>\n",
       "      <td>NaN</td>\n",
       "      <td>2178.008</td>\n",
       "    </tr>\n",
       "    <tr>\n",
       "      <th>3</th>\n",
       "      <td>3</td>\n",
       "      <td>656161</td>\n",
       "      <td>340</td>\n",
       "      <td>https://www.zameen.com/Property/islamabad_bani...</td>\n",
       "      <td>House</td>\n",
       "      <td>43500000</td>\n",
       "      <td>Bani Gala</td>\n",
       "      <td>Islamabad</td>\n",
       "      <td>Islamabad Capital</td>\n",
       "      <td>33.707573</td>\n",
       "      <td>73.151199</td>\n",
       "      <td>4</td>\n",
       "      <td>For Sale</td>\n",
       "      <td>4</td>\n",
       "      <td>4/5/2019</td>\n",
       "      <td>NaN</td>\n",
       "      <td>NaN</td>\n",
       "      <td>10890.000</td>\n",
       "    </tr>\n",
       "    <tr>\n",
       "      <th>4</th>\n",
       "      <td>4</td>\n",
       "      <td>841645</td>\n",
       "      <td>3226</td>\n",
       "      <td>https://www.zameen.com/Property/dha_valley_dha...</td>\n",
       "      <td>House</td>\n",
       "      <td>7000000</td>\n",
       "      <td>DHA Defence</td>\n",
       "      <td>Islamabad</td>\n",
       "      <td>Islamabad Capital</td>\n",
       "      <td>33.492591</td>\n",
       "      <td>73.301339</td>\n",
       "      <td>3</td>\n",
       "      <td>For Sale</td>\n",
       "      <td>3</td>\n",
       "      <td>7/10/2019</td>\n",
       "      <td>Easy Property</td>\n",
       "      <td>Muhammad Junaid Ceo Muhammad Shahid Director</td>\n",
       "      <td>2178.008</td>\n",
       "    </tr>\n",
       "  </tbody>\n",
       "</table>\n",
       "</div>"
      ],
      "text/plain": [
       "   Unnamed: 0  property_id  location_id  \\\n",
       "0           0       237062         3325   \n",
       "1           1       346905         3236   \n",
       "2           2       386513          764   \n",
       "3           3       656161          340   \n",
       "4           4       841645         3226   \n",
       "\n",
       "                                            page_url property_type     price  \\\n",
       "0  https://www.zameen.com/Property/g_10_g_10_2_gr...          Flat  10000000   \n",
       "1  https://www.zameen.com/Property/e_11_2_service...          Flat   6900000   \n",
       "2  https://www.zameen.com/Property/islamabad_g_15...         House  16500000   \n",
       "3  https://www.zameen.com/Property/islamabad_bani...         House  43500000   \n",
       "4  https://www.zameen.com/Property/dha_valley_dha...         House   7000000   \n",
       "\n",
       "      location       city      province_name   latitude  longitude  baths  \\\n",
       "0         G-10  Islamabad  Islamabad Capital  33.679890  73.012640      2   \n",
       "1         E-11  Islamabad  Islamabad Capital  33.700993  72.971492      3   \n",
       "2         G-15  Islamabad  Islamabad Capital  33.631486  72.926559      6   \n",
       "3    Bani Gala  Islamabad  Islamabad Capital  33.707573  73.151199      4   \n",
       "4  DHA Defence  Islamabad  Islamabad Capital  33.492591  73.301339      3   \n",
       "\n",
       "    purpose  bedrooms date_added         agency  \\\n",
       "0  For Sale         2   2/4/2019            NaN   \n",
       "1  For Sale         3   5/4/2019            NaN   \n",
       "2  For Sale         5  7/17/2019            NaN   \n",
       "3  For Sale         4   4/5/2019            NaN   \n",
       "4  For Sale         3  7/10/2019  Easy Property   \n",
       "\n",
       "                                          agent  Total_Area  \n",
       "0                                           NaN    1089.004  \n",
       "1                                           NaN   15246.056  \n",
       "2                                           NaN    2178.008  \n",
       "3                                           NaN   10890.000  \n",
       "4  Muhammad Junaid Ceo Muhammad Shahid Director    2178.008  "
      ]
     },
     "execution_count": 4,
     "metadata": {},
     "output_type": "execute_result"
    }
   ],
   "source": [
    "df.head()"
   ]
  },
  {
   "cell_type": "markdown",
   "id": "f319b2dc",
   "metadata": {
    "papermill": {
     "duration": 0.011326,
     "end_time": "2022-07-20T08:55:46.400963",
     "exception": false,
     "start_time": "2022-07-20T08:55:46.389637",
     "status": "completed"
    },
    "tags": []
   },
   "source": [
    "# Missing Values"
   ]
  },
  {
   "cell_type": "code",
   "execution_count": 5,
   "id": "80dbd1a5",
   "metadata": {
    "execution": {
     "iopub.execute_input": "2022-07-20T08:55:46.427719Z",
     "iopub.status.busy": "2022-07-20T08:55:46.427307Z",
     "iopub.status.idle": "2022-07-20T08:55:46.597209Z",
     "shell.execute_reply": "2022-07-20T08:55:46.595947Z"
    },
    "papermill": {
     "duration": 0.186227,
     "end_time": "2022-07-20T08:55:46.599565",
     "exception": false,
     "start_time": "2022-07-20T08:55:46.413338",
     "status": "completed"
    },
    "tags": []
   },
   "outputs": [
    {
     "data": {
      "text/plain": [
       "Unnamed: 0           0\n",
       "property_id          0\n",
       "location_id          0\n",
       "page_url             0\n",
       "property_type        0\n",
       "price                0\n",
       "location             0\n",
       "city                 0\n",
       "province_name        0\n",
       "latitude             0\n",
       "longitude            0\n",
       "baths                0\n",
       "purpose              0\n",
       "bedrooms             0\n",
       "date_added           0\n",
       "agency           44071\n",
       "agent            44072\n",
       "Total_Area           0\n",
       "dtype: int64"
      ]
     },
     "execution_count": 5,
     "metadata": {},
     "output_type": "execute_result"
    }
   ],
   "source": [
    "df.isnull().sum()"
   ]
  },
  {
   "cell_type": "markdown",
   "id": "86956f98",
   "metadata": {
    "papermill": {
     "duration": 0.011257,
     "end_time": "2022-07-20T08:55:46.622373",
     "exception": false,
     "start_time": "2022-07-20T08:55:46.611116",
     "status": "completed"
    },
    "tags": []
   },
   "source": [
    " **Property_id and location_id can be dropped because  it doesn't carry important information**"
   ]
  },
  {
   "cell_type": "code",
   "execution_count": 6,
   "id": "1539e564",
   "metadata": {
    "execution": {
     "iopub.execute_input": "2022-07-20T08:55:46.647632Z",
     "iopub.status.busy": "2022-07-20T08:55:46.647019Z",
     "iopub.status.idle": "2022-07-20T08:55:46.673624Z",
     "shell.execute_reply": "2022-07-20T08:55:46.672314Z"
    },
    "papermill": {
     "duration": 0.04268,
     "end_time": "2022-07-20T08:55:46.676556",
     "exception": false,
     "start_time": "2022-07-20T08:55:46.633876",
     "status": "completed"
    },
    "tags": []
   },
   "outputs": [],
   "source": [
    "df.drop(['Unnamed: 0' , 'property_id' , 'location_id'] , axis = 1 , inplace = True)"
   ]
  },
  {
   "cell_type": "markdown",
   "id": "4aa1895a",
   "metadata": {
    "papermill": {
     "duration": 0.011436,
     "end_time": "2022-07-20T08:55:46.699666",
     "exception": false,
     "start_time": "2022-07-20T08:55:46.688230",
     "status": "completed"
    },
    "tags": []
   },
   "source": [
    "**Page Url is just for reference so it is also not important**"
   ]
  },
  {
   "cell_type": "code",
   "execution_count": 7,
   "id": "aa68ada0",
   "metadata": {
    "execution": {
     "iopub.execute_input": "2022-07-20T08:55:46.724515Z",
     "iopub.status.busy": "2022-07-20T08:55:46.724076Z",
     "iopub.status.idle": "2022-07-20T08:55:46.754821Z",
     "shell.execute_reply": "2022-07-20T08:55:46.753416Z"
    },
    "papermill": {
     "duration": 0.046611,
     "end_time": "2022-07-20T08:55:46.757731",
     "exception": false,
     "start_time": "2022-07-20T08:55:46.711120",
     "status": "completed"
    },
    "tags": []
   },
   "outputs": [],
   "source": [
    "df.drop(['page_url'] , axis = 1 , inplace = True)"
   ]
  },
  {
   "cell_type": "markdown",
   "id": "183fcfe8",
   "metadata": {
    "papermill": {
     "duration": 0.011484,
     "end_time": "2022-07-20T08:55:46.781311",
     "exception": false,
     "start_time": "2022-07-20T08:55:46.769827",
     "status": "completed"
    },
    "tags": []
   },
   "source": [
    "**longitude and latitude is available so we can drop location**"
   ]
  },
  {
   "cell_type": "code",
   "execution_count": 8,
   "id": "72afa7cb",
   "metadata": {
    "execution": {
     "iopub.execute_input": "2022-07-20T08:55:46.806789Z",
     "iopub.status.busy": "2022-07-20T08:55:46.806331Z",
     "iopub.status.idle": "2022-07-20T08:55:46.829583Z",
     "shell.execute_reply": "2022-07-20T08:55:46.828678Z"
    },
    "papermill": {
     "duration": 0.039192,
     "end_time": "2022-07-20T08:55:46.832250",
     "exception": false,
     "start_time": "2022-07-20T08:55:46.793058",
     "status": "completed"
    },
    "tags": []
   },
   "outputs": [],
   "source": [
    "df.drop(['location'],axis=1 , inplace = True)"
   ]
  },
  {
   "cell_type": "markdown",
   "id": "17758dc2",
   "metadata": {
    "papermill": {
     "duration": 0.011815,
     "end_time": "2022-07-20T08:55:46.855895",
     "exception": false,
     "start_time": "2022-07-20T08:55:46.844080",
     "status": "completed"
    },
    "tags": []
   },
   "source": [
    "**'agency' and 'agent' conatin very less data so it can also be dropped**"
   ]
  },
  {
   "cell_type": "code",
   "execution_count": 9,
   "id": "ec0677cd",
   "metadata": {
    "execution": {
     "iopub.execute_input": "2022-07-20T08:55:46.882392Z",
     "iopub.status.busy": "2022-07-20T08:55:46.881636Z",
     "iopub.status.idle": "2022-07-20T08:55:46.902441Z",
     "shell.execute_reply": "2022-07-20T08:55:46.901149Z"
    },
    "papermill": {
     "duration": 0.037649,
     "end_time": "2022-07-20T08:55:46.905288",
     "exception": false,
     "start_time": "2022-07-20T08:55:46.867639",
     "status": "completed"
    },
    "tags": []
   },
   "outputs": [],
   "source": [
    "df.drop(['agency' , 'agent'],axis=1 , inplace = True)"
   ]
  },
  {
   "cell_type": "markdown",
   "id": "72605a29",
   "metadata": {
    "papermill": {
     "duration": 0.012252,
     "end_time": "2022-07-20T08:55:46.929327",
     "exception": false,
     "start_time": "2022-07-20T08:55:46.917075",
     "status": "completed"
    },
    "tags": []
   },
   "source": [
    "# **Now For Categorical data**"
   ]
  },
  {
   "cell_type": "code",
   "execution_count": 10,
   "id": "9dbd9254",
   "metadata": {
    "execution": {
     "iopub.execute_input": "2022-07-20T08:55:46.954396Z",
     "iopub.status.busy": "2022-07-20T08:55:46.953985Z",
     "iopub.status.idle": "2022-07-20T08:55:46.990448Z",
     "shell.execute_reply": "2022-07-20T08:55:46.989079Z"
    },
    "papermill": {
     "duration": 0.05209,
     "end_time": "2022-07-20T08:55:46.993070",
     "exception": false,
     "start_time": "2022-07-20T08:55:46.940980",
     "status": "completed"
    },
    "tags": []
   },
   "outputs": [
    {
     "data": {
      "text/plain": [
       "Karachi       60484\n",
       "Lahore        41427\n",
       "Islamabad     37426\n",
       "Rawalpindi    20976\n",
       "Faisalabad     8133\n",
       "Name: city, dtype: int64"
      ]
     },
     "execution_count": 10,
     "metadata": {},
     "output_type": "execute_result"
    }
   ],
   "source": [
    "df.city.value_counts()"
   ]
  },
  {
   "cell_type": "code",
   "execution_count": 11,
   "id": "9cceaec8",
   "metadata": {
    "execution": {
     "iopub.execute_input": "2022-07-20T08:55:47.019090Z",
     "iopub.status.busy": "2022-07-20T08:55:47.018170Z",
     "iopub.status.idle": "2022-07-20T08:55:47.074409Z",
     "shell.execute_reply": "2022-07-20T08:55:47.073175Z"
    },
    "papermill": {
     "duration": 0.072059,
     "end_time": "2022-07-20T08:55:47.077316",
     "exception": false,
     "start_time": "2022-07-20T08:55:47.005257",
     "status": "completed"
    },
    "tags": []
   },
   "outputs": [],
   "source": [
    "dff = pd.get_dummies(df , columns= ['city'] , prefix = 'C')"
   ]
  },
  {
   "cell_type": "code",
   "execution_count": 12,
   "id": "64756df8",
   "metadata": {
    "execution": {
     "iopub.execute_input": "2022-07-20T08:55:47.102253Z",
     "iopub.status.busy": "2022-07-20T08:55:47.101868Z",
     "iopub.status.idle": "2022-07-20T08:55:47.121950Z",
     "shell.execute_reply": "2022-07-20T08:55:47.120644Z"
    },
    "papermill": {
     "duration": 0.03551,
     "end_time": "2022-07-20T08:55:47.124484",
     "exception": false,
     "start_time": "2022-07-20T08:55:47.088974",
     "status": "completed"
    },
    "tags": []
   },
   "outputs": [
    {
     "data": {
      "text/html": [
       "<div>\n",
       "<style scoped>\n",
       "    .dataframe tbody tr th:only-of-type {\n",
       "        vertical-align: middle;\n",
       "    }\n",
       "\n",
       "    .dataframe tbody tr th {\n",
       "        vertical-align: top;\n",
       "    }\n",
       "\n",
       "    .dataframe thead th {\n",
       "        text-align: right;\n",
       "    }\n",
       "</style>\n",
       "<table border=\"1\" class=\"dataframe\">\n",
       "  <thead>\n",
       "    <tr style=\"text-align: right;\">\n",
       "      <th></th>\n",
       "      <th>property_type</th>\n",
       "      <th>price</th>\n",
       "      <th>province_name</th>\n",
       "      <th>latitude</th>\n",
       "      <th>longitude</th>\n",
       "      <th>baths</th>\n",
       "      <th>purpose</th>\n",
       "      <th>bedrooms</th>\n",
       "      <th>date_added</th>\n",
       "      <th>Total_Area</th>\n",
       "      <th>C_Faisalabad</th>\n",
       "      <th>C_Islamabad</th>\n",
       "      <th>C_Karachi</th>\n",
       "      <th>C_Lahore</th>\n",
       "      <th>C_Rawalpindi</th>\n",
       "    </tr>\n",
       "  </thead>\n",
       "  <tbody>\n",
       "    <tr>\n",
       "      <th>0</th>\n",
       "      <td>Flat</td>\n",
       "      <td>10000000</td>\n",
       "      <td>Islamabad Capital</td>\n",
       "      <td>33.679890</td>\n",
       "      <td>73.012640</td>\n",
       "      <td>2</td>\n",
       "      <td>For Sale</td>\n",
       "      <td>2</td>\n",
       "      <td>2/4/2019</td>\n",
       "      <td>1089.004</td>\n",
       "      <td>0</td>\n",
       "      <td>1</td>\n",
       "      <td>0</td>\n",
       "      <td>0</td>\n",
       "      <td>0</td>\n",
       "    </tr>\n",
       "    <tr>\n",
       "      <th>1</th>\n",
       "      <td>Flat</td>\n",
       "      <td>6900000</td>\n",
       "      <td>Islamabad Capital</td>\n",
       "      <td>33.700993</td>\n",
       "      <td>72.971492</td>\n",
       "      <td>3</td>\n",
       "      <td>For Sale</td>\n",
       "      <td>3</td>\n",
       "      <td>5/4/2019</td>\n",
       "      <td>15246.056</td>\n",
       "      <td>0</td>\n",
       "      <td>1</td>\n",
       "      <td>0</td>\n",
       "      <td>0</td>\n",
       "      <td>0</td>\n",
       "    </tr>\n",
       "    <tr>\n",
       "      <th>2</th>\n",
       "      <td>House</td>\n",
       "      <td>16500000</td>\n",
       "      <td>Islamabad Capital</td>\n",
       "      <td>33.631486</td>\n",
       "      <td>72.926559</td>\n",
       "      <td>6</td>\n",
       "      <td>For Sale</td>\n",
       "      <td>5</td>\n",
       "      <td>7/17/2019</td>\n",
       "      <td>2178.008</td>\n",
       "      <td>0</td>\n",
       "      <td>1</td>\n",
       "      <td>0</td>\n",
       "      <td>0</td>\n",
       "      <td>0</td>\n",
       "    </tr>\n",
       "    <tr>\n",
       "      <th>3</th>\n",
       "      <td>House</td>\n",
       "      <td>43500000</td>\n",
       "      <td>Islamabad Capital</td>\n",
       "      <td>33.707573</td>\n",
       "      <td>73.151199</td>\n",
       "      <td>4</td>\n",
       "      <td>For Sale</td>\n",
       "      <td>4</td>\n",
       "      <td>4/5/2019</td>\n",
       "      <td>10890.000</td>\n",
       "      <td>0</td>\n",
       "      <td>1</td>\n",
       "      <td>0</td>\n",
       "      <td>0</td>\n",
       "      <td>0</td>\n",
       "    </tr>\n",
       "    <tr>\n",
       "      <th>4</th>\n",
       "      <td>House</td>\n",
       "      <td>7000000</td>\n",
       "      <td>Islamabad Capital</td>\n",
       "      <td>33.492591</td>\n",
       "      <td>73.301339</td>\n",
       "      <td>3</td>\n",
       "      <td>For Sale</td>\n",
       "      <td>3</td>\n",
       "      <td>7/10/2019</td>\n",
       "      <td>2178.008</td>\n",
       "      <td>0</td>\n",
       "      <td>1</td>\n",
       "      <td>0</td>\n",
       "      <td>0</td>\n",
       "      <td>0</td>\n",
       "    </tr>\n",
       "  </tbody>\n",
       "</table>\n",
       "</div>"
      ],
      "text/plain": [
       "  property_type     price      province_name   latitude  longitude  baths  \\\n",
       "0          Flat  10000000  Islamabad Capital  33.679890  73.012640      2   \n",
       "1          Flat   6900000  Islamabad Capital  33.700993  72.971492      3   \n",
       "2         House  16500000  Islamabad Capital  33.631486  72.926559      6   \n",
       "3         House  43500000  Islamabad Capital  33.707573  73.151199      4   \n",
       "4         House   7000000  Islamabad Capital  33.492591  73.301339      3   \n",
       "\n",
       "    purpose  bedrooms date_added  Total_Area  C_Faisalabad  C_Islamabad  \\\n",
       "0  For Sale         2   2/4/2019    1089.004             0            1   \n",
       "1  For Sale         3   5/4/2019   15246.056             0            1   \n",
       "2  For Sale         5  7/17/2019    2178.008             0            1   \n",
       "3  For Sale         4   4/5/2019   10890.000             0            1   \n",
       "4  For Sale         3  7/10/2019    2178.008             0            1   \n",
       "\n",
       "   C_Karachi  C_Lahore  C_Rawalpindi  \n",
       "0          0         0             0  \n",
       "1          0         0             0  \n",
       "2          0         0             0  \n",
       "3          0         0             0  \n",
       "4          0         0             0  "
      ]
     },
     "execution_count": 12,
     "metadata": {},
     "output_type": "execute_result"
    }
   ],
   "source": [
    "dff.head()"
   ]
  },
  {
   "cell_type": "code",
   "execution_count": 13,
   "id": "a9e9b660",
   "metadata": {
    "execution": {
     "iopub.execute_input": "2022-07-20T08:55:47.150480Z",
     "iopub.status.busy": "2022-07-20T08:55:47.150087Z",
     "iopub.status.idle": "2022-07-20T08:55:47.185642Z",
     "shell.execute_reply": "2022-07-20T08:55:47.184343Z"
    },
    "papermill": {
     "duration": 0.05156,
     "end_time": "2022-07-20T08:55:47.187982",
     "exception": false,
     "start_time": "2022-07-20T08:55:47.136422",
     "status": "completed"
    },
    "tags": []
   },
   "outputs": [
    {
     "data": {
      "text/plain": [
       "Punjab               70536\n",
       "Sindh                60484\n",
       "Islamabad Capital    37426\n",
       "Name: province_name, dtype: int64"
      ]
     },
     "execution_count": 13,
     "metadata": {},
     "output_type": "execute_result"
    }
   ],
   "source": [
    "dff.province_name.value_counts()"
   ]
  },
  {
   "cell_type": "code",
   "execution_count": 14,
   "id": "53b4925e",
   "metadata": {
    "execution": {
     "iopub.execute_input": "2022-07-20T08:55:47.214122Z",
     "iopub.status.busy": "2022-07-20T08:55:47.213218Z",
     "iopub.status.idle": "2022-07-20T08:55:47.291212Z",
     "shell.execute_reply": "2022-07-20T08:55:47.289633Z"
    },
    "papermill": {
     "duration": 0.094133,
     "end_time": "2022-07-20T08:55:47.294114",
     "exception": false,
     "start_time": "2022-07-20T08:55:47.199981",
     "status": "completed"
    },
    "tags": []
   },
   "outputs": [],
   "source": [
    "dff1 = pd.get_dummies(dff, columns = ['province_name'] , prefix = 'P')"
   ]
  },
  {
   "cell_type": "code",
   "execution_count": 15,
   "id": "81d947df",
   "metadata": {
    "execution": {
     "iopub.execute_input": "2022-07-20T08:55:47.321181Z",
     "iopub.status.busy": "2022-07-20T08:55:47.320143Z",
     "iopub.status.idle": "2022-07-20T08:55:47.338191Z",
     "shell.execute_reply": "2022-07-20T08:55:47.337459Z"
    },
    "papermill": {
     "duration": 0.034011,
     "end_time": "2022-07-20T08:55:47.340289",
     "exception": false,
     "start_time": "2022-07-20T08:55:47.306278",
     "status": "completed"
    },
    "tags": []
   },
   "outputs": [
    {
     "data": {
      "text/html": [
       "<div>\n",
       "<style scoped>\n",
       "    .dataframe tbody tr th:only-of-type {\n",
       "        vertical-align: middle;\n",
       "    }\n",
       "\n",
       "    .dataframe tbody tr th {\n",
       "        vertical-align: top;\n",
       "    }\n",
       "\n",
       "    .dataframe thead th {\n",
       "        text-align: right;\n",
       "    }\n",
       "</style>\n",
       "<table border=\"1\" class=\"dataframe\">\n",
       "  <thead>\n",
       "    <tr style=\"text-align: right;\">\n",
       "      <th></th>\n",
       "      <th>property_type</th>\n",
       "      <th>price</th>\n",
       "      <th>latitude</th>\n",
       "      <th>longitude</th>\n",
       "      <th>baths</th>\n",
       "      <th>purpose</th>\n",
       "      <th>bedrooms</th>\n",
       "      <th>date_added</th>\n",
       "      <th>Total_Area</th>\n",
       "      <th>C_Faisalabad</th>\n",
       "      <th>C_Islamabad</th>\n",
       "      <th>C_Karachi</th>\n",
       "      <th>C_Lahore</th>\n",
       "      <th>C_Rawalpindi</th>\n",
       "      <th>P_Islamabad Capital</th>\n",
       "      <th>P_Punjab</th>\n",
       "      <th>P_Sindh</th>\n",
       "    </tr>\n",
       "  </thead>\n",
       "  <tbody>\n",
       "    <tr>\n",
       "      <th>0</th>\n",
       "      <td>Flat</td>\n",
       "      <td>10000000</td>\n",
       "      <td>33.679890</td>\n",
       "      <td>73.012640</td>\n",
       "      <td>2</td>\n",
       "      <td>For Sale</td>\n",
       "      <td>2</td>\n",
       "      <td>2/4/2019</td>\n",
       "      <td>1089.004</td>\n",
       "      <td>0</td>\n",
       "      <td>1</td>\n",
       "      <td>0</td>\n",
       "      <td>0</td>\n",
       "      <td>0</td>\n",
       "      <td>1</td>\n",
       "      <td>0</td>\n",
       "      <td>0</td>\n",
       "    </tr>\n",
       "    <tr>\n",
       "      <th>1</th>\n",
       "      <td>Flat</td>\n",
       "      <td>6900000</td>\n",
       "      <td>33.700993</td>\n",
       "      <td>72.971492</td>\n",
       "      <td>3</td>\n",
       "      <td>For Sale</td>\n",
       "      <td>3</td>\n",
       "      <td>5/4/2019</td>\n",
       "      <td>15246.056</td>\n",
       "      <td>0</td>\n",
       "      <td>1</td>\n",
       "      <td>0</td>\n",
       "      <td>0</td>\n",
       "      <td>0</td>\n",
       "      <td>1</td>\n",
       "      <td>0</td>\n",
       "      <td>0</td>\n",
       "    </tr>\n",
       "    <tr>\n",
       "      <th>2</th>\n",
       "      <td>House</td>\n",
       "      <td>16500000</td>\n",
       "      <td>33.631486</td>\n",
       "      <td>72.926559</td>\n",
       "      <td>6</td>\n",
       "      <td>For Sale</td>\n",
       "      <td>5</td>\n",
       "      <td>7/17/2019</td>\n",
       "      <td>2178.008</td>\n",
       "      <td>0</td>\n",
       "      <td>1</td>\n",
       "      <td>0</td>\n",
       "      <td>0</td>\n",
       "      <td>0</td>\n",
       "      <td>1</td>\n",
       "      <td>0</td>\n",
       "      <td>0</td>\n",
       "    </tr>\n",
       "    <tr>\n",
       "      <th>3</th>\n",
       "      <td>House</td>\n",
       "      <td>43500000</td>\n",
       "      <td>33.707573</td>\n",
       "      <td>73.151199</td>\n",
       "      <td>4</td>\n",
       "      <td>For Sale</td>\n",
       "      <td>4</td>\n",
       "      <td>4/5/2019</td>\n",
       "      <td>10890.000</td>\n",
       "      <td>0</td>\n",
       "      <td>1</td>\n",
       "      <td>0</td>\n",
       "      <td>0</td>\n",
       "      <td>0</td>\n",
       "      <td>1</td>\n",
       "      <td>0</td>\n",
       "      <td>0</td>\n",
       "    </tr>\n",
       "    <tr>\n",
       "      <th>4</th>\n",
       "      <td>House</td>\n",
       "      <td>7000000</td>\n",
       "      <td>33.492591</td>\n",
       "      <td>73.301339</td>\n",
       "      <td>3</td>\n",
       "      <td>For Sale</td>\n",
       "      <td>3</td>\n",
       "      <td>7/10/2019</td>\n",
       "      <td>2178.008</td>\n",
       "      <td>0</td>\n",
       "      <td>1</td>\n",
       "      <td>0</td>\n",
       "      <td>0</td>\n",
       "      <td>0</td>\n",
       "      <td>1</td>\n",
       "      <td>0</td>\n",
       "      <td>0</td>\n",
       "    </tr>\n",
       "  </tbody>\n",
       "</table>\n",
       "</div>"
      ],
      "text/plain": [
       "  property_type     price   latitude  longitude  baths   purpose  bedrooms  \\\n",
       "0          Flat  10000000  33.679890  73.012640      2  For Sale         2   \n",
       "1          Flat   6900000  33.700993  72.971492      3  For Sale         3   \n",
       "2         House  16500000  33.631486  72.926559      6  For Sale         5   \n",
       "3         House  43500000  33.707573  73.151199      4  For Sale         4   \n",
       "4         House   7000000  33.492591  73.301339      3  For Sale         3   \n",
       "\n",
       "  date_added  Total_Area  C_Faisalabad  C_Islamabad  C_Karachi  C_Lahore  \\\n",
       "0   2/4/2019    1089.004             0            1          0         0   \n",
       "1   5/4/2019   15246.056             0            1          0         0   \n",
       "2  7/17/2019    2178.008             0            1          0         0   \n",
       "3   4/5/2019   10890.000             0            1          0         0   \n",
       "4  7/10/2019    2178.008             0            1          0         0   \n",
       "\n",
       "   C_Rawalpindi  P_Islamabad Capital  P_Punjab  P_Sindh  \n",
       "0             0                    1         0        0  \n",
       "1             0                    1         0        0  \n",
       "2             0                    1         0        0  \n",
       "3             0                    1         0        0  \n",
       "4             0                    1         0        0  "
      ]
     },
     "execution_count": 15,
     "metadata": {},
     "output_type": "execute_result"
    }
   ],
   "source": [
    "dff1.head()"
   ]
  },
  {
   "cell_type": "code",
   "execution_count": 16,
   "id": "84dfb53e",
   "metadata": {
    "execution": {
     "iopub.execute_input": "2022-07-20T08:55:47.367931Z",
     "iopub.status.busy": "2022-07-20T08:55:47.367223Z",
     "iopub.status.idle": "2022-07-20T08:55:47.399518Z",
     "shell.execute_reply": "2022-07-20T08:55:47.398208Z"
    },
    "papermill": {
     "duration": 0.049452,
     "end_time": "2022-07-20T08:55:47.402552",
     "exception": false,
     "start_time": "2022-07-20T08:55:47.353100",
     "status": "completed"
    },
    "tags": []
   },
   "outputs": [],
   "source": [
    "dff1.drop(['purpose'] , axis = 1 , inplace = True)"
   ]
  },
  {
   "cell_type": "code",
   "execution_count": 17,
   "id": "7ee2373c",
   "metadata": {
    "execution": {
     "iopub.execute_input": "2022-07-20T08:55:47.430129Z",
     "iopub.status.busy": "2022-07-20T08:55:47.429702Z",
     "iopub.status.idle": "2022-07-20T08:55:47.449499Z",
     "shell.execute_reply": "2022-07-20T08:55:47.448190Z"
    },
    "papermill": {
     "duration": 0.037146,
     "end_time": "2022-07-20T08:55:47.452330",
     "exception": false,
     "start_time": "2022-07-20T08:55:47.415184",
     "status": "completed"
    },
    "tags": []
   },
   "outputs": [
    {
     "data": {
      "text/html": [
       "<div>\n",
       "<style scoped>\n",
       "    .dataframe tbody tr th:only-of-type {\n",
       "        vertical-align: middle;\n",
       "    }\n",
       "\n",
       "    .dataframe tbody tr th {\n",
       "        vertical-align: top;\n",
       "    }\n",
       "\n",
       "    .dataframe thead th {\n",
       "        text-align: right;\n",
       "    }\n",
       "</style>\n",
       "<table border=\"1\" class=\"dataframe\">\n",
       "  <thead>\n",
       "    <tr style=\"text-align: right;\">\n",
       "      <th></th>\n",
       "      <th>property_type</th>\n",
       "      <th>price</th>\n",
       "      <th>latitude</th>\n",
       "      <th>longitude</th>\n",
       "      <th>baths</th>\n",
       "      <th>bedrooms</th>\n",
       "      <th>date_added</th>\n",
       "      <th>Total_Area</th>\n",
       "      <th>C_Faisalabad</th>\n",
       "      <th>C_Islamabad</th>\n",
       "      <th>C_Karachi</th>\n",
       "      <th>C_Lahore</th>\n",
       "      <th>C_Rawalpindi</th>\n",
       "      <th>P_Islamabad Capital</th>\n",
       "      <th>P_Punjab</th>\n",
       "      <th>P_Sindh</th>\n",
       "    </tr>\n",
       "  </thead>\n",
       "  <tbody>\n",
       "    <tr>\n",
       "      <th>0</th>\n",
       "      <td>Flat</td>\n",
       "      <td>10000000</td>\n",
       "      <td>33.679890</td>\n",
       "      <td>73.012640</td>\n",
       "      <td>2</td>\n",
       "      <td>2</td>\n",
       "      <td>2/4/2019</td>\n",
       "      <td>1089.004</td>\n",
       "      <td>0</td>\n",
       "      <td>1</td>\n",
       "      <td>0</td>\n",
       "      <td>0</td>\n",
       "      <td>0</td>\n",
       "      <td>1</td>\n",
       "      <td>0</td>\n",
       "      <td>0</td>\n",
       "    </tr>\n",
       "    <tr>\n",
       "      <th>1</th>\n",
       "      <td>Flat</td>\n",
       "      <td>6900000</td>\n",
       "      <td>33.700993</td>\n",
       "      <td>72.971492</td>\n",
       "      <td>3</td>\n",
       "      <td>3</td>\n",
       "      <td>5/4/2019</td>\n",
       "      <td>15246.056</td>\n",
       "      <td>0</td>\n",
       "      <td>1</td>\n",
       "      <td>0</td>\n",
       "      <td>0</td>\n",
       "      <td>0</td>\n",
       "      <td>1</td>\n",
       "      <td>0</td>\n",
       "      <td>0</td>\n",
       "    </tr>\n",
       "    <tr>\n",
       "      <th>2</th>\n",
       "      <td>House</td>\n",
       "      <td>16500000</td>\n",
       "      <td>33.631486</td>\n",
       "      <td>72.926559</td>\n",
       "      <td>6</td>\n",
       "      <td>5</td>\n",
       "      <td>7/17/2019</td>\n",
       "      <td>2178.008</td>\n",
       "      <td>0</td>\n",
       "      <td>1</td>\n",
       "      <td>0</td>\n",
       "      <td>0</td>\n",
       "      <td>0</td>\n",
       "      <td>1</td>\n",
       "      <td>0</td>\n",
       "      <td>0</td>\n",
       "    </tr>\n",
       "    <tr>\n",
       "      <th>3</th>\n",
       "      <td>House</td>\n",
       "      <td>43500000</td>\n",
       "      <td>33.707573</td>\n",
       "      <td>73.151199</td>\n",
       "      <td>4</td>\n",
       "      <td>4</td>\n",
       "      <td>4/5/2019</td>\n",
       "      <td>10890.000</td>\n",
       "      <td>0</td>\n",
       "      <td>1</td>\n",
       "      <td>0</td>\n",
       "      <td>0</td>\n",
       "      <td>0</td>\n",
       "      <td>1</td>\n",
       "      <td>0</td>\n",
       "      <td>0</td>\n",
       "    </tr>\n",
       "    <tr>\n",
       "      <th>4</th>\n",
       "      <td>House</td>\n",
       "      <td>7000000</td>\n",
       "      <td>33.492591</td>\n",
       "      <td>73.301339</td>\n",
       "      <td>3</td>\n",
       "      <td>3</td>\n",
       "      <td>7/10/2019</td>\n",
       "      <td>2178.008</td>\n",
       "      <td>0</td>\n",
       "      <td>1</td>\n",
       "      <td>0</td>\n",
       "      <td>0</td>\n",
       "      <td>0</td>\n",
       "      <td>1</td>\n",
       "      <td>0</td>\n",
       "      <td>0</td>\n",
       "    </tr>\n",
       "  </tbody>\n",
       "</table>\n",
       "</div>"
      ],
      "text/plain": [
       "  property_type     price   latitude  longitude  baths  bedrooms date_added  \\\n",
       "0          Flat  10000000  33.679890  73.012640      2         2   2/4/2019   \n",
       "1          Flat   6900000  33.700993  72.971492      3         3   5/4/2019   \n",
       "2         House  16500000  33.631486  72.926559      6         5  7/17/2019   \n",
       "3         House  43500000  33.707573  73.151199      4         4   4/5/2019   \n",
       "4         House   7000000  33.492591  73.301339      3         3  7/10/2019   \n",
       "\n",
       "   Total_Area  C_Faisalabad  C_Islamabad  C_Karachi  C_Lahore  C_Rawalpindi  \\\n",
       "0    1089.004             0            1          0         0             0   \n",
       "1   15246.056             0            1          0         0             0   \n",
       "2    2178.008             0            1          0         0             0   \n",
       "3   10890.000             0            1          0         0             0   \n",
       "4    2178.008             0            1          0         0             0   \n",
       "\n",
       "   P_Islamabad Capital  P_Punjab  P_Sindh  \n",
       "0                    1         0        0  \n",
       "1                    1         0        0  \n",
       "2                    1         0        0  \n",
       "3                    1         0        0  \n",
       "4                    1         0        0  "
      ]
     },
     "execution_count": 17,
     "metadata": {},
     "output_type": "execute_result"
    }
   ],
   "source": [
    "dff1.head()"
   ]
  },
  {
   "cell_type": "code",
   "execution_count": 18,
   "id": "ee981f6c",
   "metadata": {
    "execution": {
     "iopub.execute_input": "2022-07-20T08:55:47.480469Z",
     "iopub.status.busy": "2022-07-20T08:55:47.480002Z",
     "iopub.status.idle": "2022-07-20T08:55:47.514922Z",
     "shell.execute_reply": "2022-07-20T08:55:47.513788Z"
    },
    "papermill": {
     "duration": 0.051949,
     "end_time": "2022-07-20T08:55:47.517340",
     "exception": false,
     "start_time": "2022-07-20T08:55:47.465391",
     "status": "completed"
    },
    "tags": []
   },
   "outputs": [
    {
     "data": {
      "text/plain": [
       "House            105468\n",
       "Flat              38238\n",
       "Upper Portion     13774\n",
       "Lower Portion      9229\n",
       "Room                685\n",
       "Farm House          657\n",
       "Penthouse           395\n",
       "Name: property_type, dtype: int64"
      ]
     },
     "execution_count": 18,
     "metadata": {},
     "output_type": "execute_result"
    }
   ],
   "source": [
    "dff1.property_type.value_counts()"
   ]
  },
  {
   "cell_type": "code",
   "execution_count": 19,
   "id": "5e5990a3",
   "metadata": {
    "execution": {
     "iopub.execute_input": "2022-07-20T08:55:47.544920Z",
     "iopub.status.busy": "2022-07-20T08:55:47.544483Z",
     "iopub.status.idle": "2022-07-20T08:55:47.591684Z",
     "shell.execute_reply": "2022-07-20T08:55:47.590364Z"
    },
    "papermill": {
     "duration": 0.064618,
     "end_time": "2022-07-20T08:55:47.594776",
     "exception": false,
     "start_time": "2022-07-20T08:55:47.530158",
     "status": "completed"
    },
    "tags": []
   },
   "outputs": [],
   "source": [
    "dff2 = pd.get_dummies(dff1, columns = ['property_type'] , prefix = 'P')"
   ]
  },
  {
   "cell_type": "code",
   "execution_count": 20,
   "id": "8f99f778",
   "metadata": {
    "execution": {
     "iopub.execute_input": "2022-07-20T08:55:47.623151Z",
     "iopub.status.busy": "2022-07-20T08:55:47.622767Z",
     "iopub.status.idle": "2022-07-20T08:55:47.645941Z",
     "shell.execute_reply": "2022-07-20T08:55:47.644664Z"
    },
    "papermill": {
     "duration": 0.040269,
     "end_time": "2022-07-20T08:55:47.648380",
     "exception": false,
     "start_time": "2022-07-20T08:55:47.608111",
     "status": "completed"
    },
    "tags": []
   },
   "outputs": [
    {
     "data": {
      "text/html": [
       "<div>\n",
       "<style scoped>\n",
       "    .dataframe tbody tr th:only-of-type {\n",
       "        vertical-align: middle;\n",
       "    }\n",
       "\n",
       "    .dataframe tbody tr th {\n",
       "        vertical-align: top;\n",
       "    }\n",
       "\n",
       "    .dataframe thead th {\n",
       "        text-align: right;\n",
       "    }\n",
       "</style>\n",
       "<table border=\"1\" class=\"dataframe\">\n",
       "  <thead>\n",
       "    <tr style=\"text-align: right;\">\n",
       "      <th></th>\n",
       "      <th>price</th>\n",
       "      <th>latitude</th>\n",
       "      <th>longitude</th>\n",
       "      <th>baths</th>\n",
       "      <th>bedrooms</th>\n",
       "      <th>date_added</th>\n",
       "      <th>Total_Area</th>\n",
       "      <th>C_Faisalabad</th>\n",
       "      <th>C_Islamabad</th>\n",
       "      <th>C_Karachi</th>\n",
       "      <th>...</th>\n",
       "      <th>P_Islamabad Capital</th>\n",
       "      <th>P_Punjab</th>\n",
       "      <th>P_Sindh</th>\n",
       "      <th>P_Farm House</th>\n",
       "      <th>P_Flat</th>\n",
       "      <th>P_House</th>\n",
       "      <th>P_Lower Portion</th>\n",
       "      <th>P_Penthouse</th>\n",
       "      <th>P_Room</th>\n",
       "      <th>P_Upper Portion</th>\n",
       "    </tr>\n",
       "  </thead>\n",
       "  <tbody>\n",
       "    <tr>\n",
       "      <th>0</th>\n",
       "      <td>10000000</td>\n",
       "      <td>33.679890</td>\n",
       "      <td>73.012640</td>\n",
       "      <td>2</td>\n",
       "      <td>2</td>\n",
       "      <td>2/4/2019</td>\n",
       "      <td>1089.004</td>\n",
       "      <td>0</td>\n",
       "      <td>1</td>\n",
       "      <td>0</td>\n",
       "      <td>...</td>\n",
       "      <td>1</td>\n",
       "      <td>0</td>\n",
       "      <td>0</td>\n",
       "      <td>0</td>\n",
       "      <td>1</td>\n",
       "      <td>0</td>\n",
       "      <td>0</td>\n",
       "      <td>0</td>\n",
       "      <td>0</td>\n",
       "      <td>0</td>\n",
       "    </tr>\n",
       "    <tr>\n",
       "      <th>1</th>\n",
       "      <td>6900000</td>\n",
       "      <td>33.700993</td>\n",
       "      <td>72.971492</td>\n",
       "      <td>3</td>\n",
       "      <td>3</td>\n",
       "      <td>5/4/2019</td>\n",
       "      <td>15246.056</td>\n",
       "      <td>0</td>\n",
       "      <td>1</td>\n",
       "      <td>0</td>\n",
       "      <td>...</td>\n",
       "      <td>1</td>\n",
       "      <td>0</td>\n",
       "      <td>0</td>\n",
       "      <td>0</td>\n",
       "      <td>1</td>\n",
       "      <td>0</td>\n",
       "      <td>0</td>\n",
       "      <td>0</td>\n",
       "      <td>0</td>\n",
       "      <td>0</td>\n",
       "    </tr>\n",
       "    <tr>\n",
       "      <th>2</th>\n",
       "      <td>16500000</td>\n",
       "      <td>33.631486</td>\n",
       "      <td>72.926559</td>\n",
       "      <td>6</td>\n",
       "      <td>5</td>\n",
       "      <td>7/17/2019</td>\n",
       "      <td>2178.008</td>\n",
       "      <td>0</td>\n",
       "      <td>1</td>\n",
       "      <td>0</td>\n",
       "      <td>...</td>\n",
       "      <td>1</td>\n",
       "      <td>0</td>\n",
       "      <td>0</td>\n",
       "      <td>0</td>\n",
       "      <td>0</td>\n",
       "      <td>1</td>\n",
       "      <td>0</td>\n",
       "      <td>0</td>\n",
       "      <td>0</td>\n",
       "      <td>0</td>\n",
       "    </tr>\n",
       "    <tr>\n",
       "      <th>3</th>\n",
       "      <td>43500000</td>\n",
       "      <td>33.707573</td>\n",
       "      <td>73.151199</td>\n",
       "      <td>4</td>\n",
       "      <td>4</td>\n",
       "      <td>4/5/2019</td>\n",
       "      <td>10890.000</td>\n",
       "      <td>0</td>\n",
       "      <td>1</td>\n",
       "      <td>0</td>\n",
       "      <td>...</td>\n",
       "      <td>1</td>\n",
       "      <td>0</td>\n",
       "      <td>0</td>\n",
       "      <td>0</td>\n",
       "      <td>0</td>\n",
       "      <td>1</td>\n",
       "      <td>0</td>\n",
       "      <td>0</td>\n",
       "      <td>0</td>\n",
       "      <td>0</td>\n",
       "    </tr>\n",
       "    <tr>\n",
       "      <th>4</th>\n",
       "      <td>7000000</td>\n",
       "      <td>33.492591</td>\n",
       "      <td>73.301339</td>\n",
       "      <td>3</td>\n",
       "      <td>3</td>\n",
       "      <td>7/10/2019</td>\n",
       "      <td>2178.008</td>\n",
       "      <td>0</td>\n",
       "      <td>1</td>\n",
       "      <td>0</td>\n",
       "      <td>...</td>\n",
       "      <td>1</td>\n",
       "      <td>0</td>\n",
       "      <td>0</td>\n",
       "      <td>0</td>\n",
       "      <td>0</td>\n",
       "      <td>1</td>\n",
       "      <td>0</td>\n",
       "      <td>0</td>\n",
       "      <td>0</td>\n",
       "      <td>0</td>\n",
       "    </tr>\n",
       "  </tbody>\n",
       "</table>\n",
       "<p>5 rows × 22 columns</p>\n",
       "</div>"
      ],
      "text/plain": [
       "      price   latitude  longitude  baths  bedrooms date_added  Total_Area  \\\n",
       "0  10000000  33.679890  73.012640      2         2   2/4/2019    1089.004   \n",
       "1   6900000  33.700993  72.971492      3         3   5/4/2019   15246.056   \n",
       "2  16500000  33.631486  72.926559      6         5  7/17/2019    2178.008   \n",
       "3  43500000  33.707573  73.151199      4         4   4/5/2019   10890.000   \n",
       "4   7000000  33.492591  73.301339      3         3  7/10/2019    2178.008   \n",
       "\n",
       "   C_Faisalabad  C_Islamabad  C_Karachi  ...  P_Islamabad Capital  P_Punjab  \\\n",
       "0             0            1          0  ...                    1         0   \n",
       "1             0            1          0  ...                    1         0   \n",
       "2             0            1          0  ...                    1         0   \n",
       "3             0            1          0  ...                    1         0   \n",
       "4             0            1          0  ...                    1         0   \n",
       "\n",
       "   P_Sindh  P_Farm House  P_Flat  P_House  P_Lower Portion  P_Penthouse  \\\n",
       "0        0             0       1        0                0            0   \n",
       "1        0             0       1        0                0            0   \n",
       "2        0             0       0        1                0            0   \n",
       "3        0             0       0        1                0            0   \n",
       "4        0             0       0        1                0            0   \n",
       "\n",
       "   P_Room  P_Upper Portion  \n",
       "0       0                0  \n",
       "1       0                0  \n",
       "2       0                0  \n",
       "3       0                0  \n",
       "4       0                0  \n",
       "\n",
       "[5 rows x 22 columns]"
      ]
     },
     "execution_count": 20,
     "metadata": {},
     "output_type": "execute_result"
    }
   ],
   "source": [
    "dff2.head()"
   ]
  },
  {
   "cell_type": "code",
   "execution_count": 21,
   "id": "e2fc3326",
   "metadata": {
    "execution": {
     "iopub.execute_input": "2022-07-20T08:55:47.677878Z",
     "iopub.status.busy": "2022-07-20T08:55:47.677475Z",
     "iopub.status.idle": "2022-07-20T08:56:00.016256Z",
     "shell.execute_reply": "2022-07-20T08:56:00.015315Z"
    },
    "papermill": {
     "duration": 12.356644,
     "end_time": "2022-07-20T08:56:00.018962",
     "exception": false,
     "start_time": "2022-07-20T08:55:47.662318",
     "status": "completed"
    },
    "tags": []
   },
   "outputs": [],
   "source": [
    "dff2['year'] = pd.DatetimeIndex(dff2['date_added']).year"
   ]
  },
  {
   "cell_type": "code",
   "execution_count": 22,
   "id": "b11ca1ac",
   "metadata": {
    "execution": {
     "iopub.execute_input": "2022-07-20T08:56:00.051335Z",
     "iopub.status.busy": "2022-07-20T08:56:00.050688Z",
     "iopub.status.idle": "2022-07-20T08:56:00.073183Z",
     "shell.execute_reply": "2022-07-20T08:56:00.071994Z"
    },
    "papermill": {
     "duration": 0.042354,
     "end_time": "2022-07-20T08:56:00.075784",
     "exception": false,
     "start_time": "2022-07-20T08:56:00.033430",
     "status": "completed"
    },
    "tags": []
   },
   "outputs": [
    {
     "data": {
      "text/html": [
       "<div>\n",
       "<style scoped>\n",
       "    .dataframe tbody tr th:only-of-type {\n",
       "        vertical-align: middle;\n",
       "    }\n",
       "\n",
       "    .dataframe tbody tr th {\n",
       "        vertical-align: top;\n",
       "    }\n",
       "\n",
       "    .dataframe thead th {\n",
       "        text-align: right;\n",
       "    }\n",
       "</style>\n",
       "<table border=\"1\" class=\"dataframe\">\n",
       "  <thead>\n",
       "    <tr style=\"text-align: right;\">\n",
       "      <th></th>\n",
       "      <th>price</th>\n",
       "      <th>latitude</th>\n",
       "      <th>longitude</th>\n",
       "      <th>baths</th>\n",
       "      <th>bedrooms</th>\n",
       "      <th>date_added</th>\n",
       "      <th>Total_Area</th>\n",
       "      <th>C_Faisalabad</th>\n",
       "      <th>C_Islamabad</th>\n",
       "      <th>C_Karachi</th>\n",
       "      <th>...</th>\n",
       "      <th>P_Punjab</th>\n",
       "      <th>P_Sindh</th>\n",
       "      <th>P_Farm House</th>\n",
       "      <th>P_Flat</th>\n",
       "      <th>P_House</th>\n",
       "      <th>P_Lower Portion</th>\n",
       "      <th>P_Penthouse</th>\n",
       "      <th>P_Room</th>\n",
       "      <th>P_Upper Portion</th>\n",
       "      <th>year</th>\n",
       "    </tr>\n",
       "  </thead>\n",
       "  <tbody>\n",
       "    <tr>\n",
       "      <th>0</th>\n",
       "      <td>10000000</td>\n",
       "      <td>33.679890</td>\n",
       "      <td>73.012640</td>\n",
       "      <td>2</td>\n",
       "      <td>2</td>\n",
       "      <td>2/4/2019</td>\n",
       "      <td>1089.004</td>\n",
       "      <td>0</td>\n",
       "      <td>1</td>\n",
       "      <td>0</td>\n",
       "      <td>...</td>\n",
       "      <td>0</td>\n",
       "      <td>0</td>\n",
       "      <td>0</td>\n",
       "      <td>1</td>\n",
       "      <td>0</td>\n",
       "      <td>0</td>\n",
       "      <td>0</td>\n",
       "      <td>0</td>\n",
       "      <td>0</td>\n",
       "      <td>2019</td>\n",
       "    </tr>\n",
       "    <tr>\n",
       "      <th>1</th>\n",
       "      <td>6900000</td>\n",
       "      <td>33.700993</td>\n",
       "      <td>72.971492</td>\n",
       "      <td>3</td>\n",
       "      <td>3</td>\n",
       "      <td>5/4/2019</td>\n",
       "      <td>15246.056</td>\n",
       "      <td>0</td>\n",
       "      <td>1</td>\n",
       "      <td>0</td>\n",
       "      <td>...</td>\n",
       "      <td>0</td>\n",
       "      <td>0</td>\n",
       "      <td>0</td>\n",
       "      <td>1</td>\n",
       "      <td>0</td>\n",
       "      <td>0</td>\n",
       "      <td>0</td>\n",
       "      <td>0</td>\n",
       "      <td>0</td>\n",
       "      <td>2019</td>\n",
       "    </tr>\n",
       "    <tr>\n",
       "      <th>2</th>\n",
       "      <td>16500000</td>\n",
       "      <td>33.631486</td>\n",
       "      <td>72.926559</td>\n",
       "      <td>6</td>\n",
       "      <td>5</td>\n",
       "      <td>7/17/2019</td>\n",
       "      <td>2178.008</td>\n",
       "      <td>0</td>\n",
       "      <td>1</td>\n",
       "      <td>0</td>\n",
       "      <td>...</td>\n",
       "      <td>0</td>\n",
       "      <td>0</td>\n",
       "      <td>0</td>\n",
       "      <td>0</td>\n",
       "      <td>1</td>\n",
       "      <td>0</td>\n",
       "      <td>0</td>\n",
       "      <td>0</td>\n",
       "      <td>0</td>\n",
       "      <td>2019</td>\n",
       "    </tr>\n",
       "    <tr>\n",
       "      <th>3</th>\n",
       "      <td>43500000</td>\n",
       "      <td>33.707573</td>\n",
       "      <td>73.151199</td>\n",
       "      <td>4</td>\n",
       "      <td>4</td>\n",
       "      <td>4/5/2019</td>\n",
       "      <td>10890.000</td>\n",
       "      <td>0</td>\n",
       "      <td>1</td>\n",
       "      <td>0</td>\n",
       "      <td>...</td>\n",
       "      <td>0</td>\n",
       "      <td>0</td>\n",
       "      <td>0</td>\n",
       "      <td>0</td>\n",
       "      <td>1</td>\n",
       "      <td>0</td>\n",
       "      <td>0</td>\n",
       "      <td>0</td>\n",
       "      <td>0</td>\n",
       "      <td>2019</td>\n",
       "    </tr>\n",
       "    <tr>\n",
       "      <th>4</th>\n",
       "      <td>7000000</td>\n",
       "      <td>33.492591</td>\n",
       "      <td>73.301339</td>\n",
       "      <td>3</td>\n",
       "      <td>3</td>\n",
       "      <td>7/10/2019</td>\n",
       "      <td>2178.008</td>\n",
       "      <td>0</td>\n",
       "      <td>1</td>\n",
       "      <td>0</td>\n",
       "      <td>...</td>\n",
       "      <td>0</td>\n",
       "      <td>0</td>\n",
       "      <td>0</td>\n",
       "      <td>0</td>\n",
       "      <td>1</td>\n",
       "      <td>0</td>\n",
       "      <td>0</td>\n",
       "      <td>0</td>\n",
       "      <td>0</td>\n",
       "      <td>2019</td>\n",
       "    </tr>\n",
       "  </tbody>\n",
       "</table>\n",
       "<p>5 rows × 23 columns</p>\n",
       "</div>"
      ],
      "text/plain": [
       "      price   latitude  longitude  baths  bedrooms date_added  Total_Area  \\\n",
       "0  10000000  33.679890  73.012640      2         2   2/4/2019    1089.004   \n",
       "1   6900000  33.700993  72.971492      3         3   5/4/2019   15246.056   \n",
       "2  16500000  33.631486  72.926559      6         5  7/17/2019    2178.008   \n",
       "3  43500000  33.707573  73.151199      4         4   4/5/2019   10890.000   \n",
       "4   7000000  33.492591  73.301339      3         3  7/10/2019    2178.008   \n",
       "\n",
       "   C_Faisalabad  C_Islamabad  C_Karachi  ...  P_Punjab  P_Sindh  P_Farm House  \\\n",
       "0             0            1          0  ...         0        0             0   \n",
       "1             0            1          0  ...         0        0             0   \n",
       "2             0            1          0  ...         0        0             0   \n",
       "3             0            1          0  ...         0        0             0   \n",
       "4             0            1          0  ...         0        0             0   \n",
       "\n",
       "   P_Flat  P_House  P_Lower Portion  P_Penthouse  P_Room  P_Upper Portion  \\\n",
       "0       1        0                0            0       0                0   \n",
       "1       1        0                0            0       0                0   \n",
       "2       0        1                0            0       0                0   \n",
       "3       0        1                0            0       0                0   \n",
       "4       0        1                0            0       0                0   \n",
       "\n",
       "   year  \n",
       "0  2019  \n",
       "1  2019  \n",
       "2  2019  \n",
       "3  2019  \n",
       "4  2019  \n",
       "\n",
       "[5 rows x 23 columns]"
      ]
     },
     "execution_count": 22,
     "metadata": {},
     "output_type": "execute_result"
    }
   ],
   "source": [
    "dff2.head()"
   ]
  },
  {
   "cell_type": "code",
   "execution_count": 23,
   "id": "362f9c31",
   "metadata": {
    "execution": {
     "iopub.execute_input": "2022-07-20T08:56:00.107437Z",
     "iopub.status.busy": "2022-07-20T08:56:00.106254Z",
     "iopub.status.idle": "2022-07-20T08:56:00.129328Z",
     "shell.execute_reply": "2022-07-20T08:56:00.128324Z"
    },
    "papermill": {
     "duration": 0.041672,
     "end_time": "2022-07-20T08:56:00.132114",
     "exception": false,
     "start_time": "2022-07-20T08:56:00.090442",
     "status": "completed"
    },
    "tags": []
   },
   "outputs": [],
   "source": [
    "dff2.drop(['date_added'] , axis = 1 , inplace = True)"
   ]
  },
  {
   "cell_type": "code",
   "execution_count": 24,
   "id": "21e431b6",
   "metadata": {
    "execution": {
     "iopub.execute_input": "2022-07-20T08:56:00.162312Z",
     "iopub.status.busy": "2022-07-20T08:56:00.161521Z",
     "iopub.status.idle": "2022-07-20T08:56:00.206678Z",
     "shell.execute_reply": "2022-07-20T08:56:00.205475Z"
    },
    "papermill": {
     "duration": 0.063402,
     "end_time": "2022-07-20T08:56:00.209267",
     "exception": false,
     "start_time": "2022-07-20T08:56:00.145865",
     "status": "completed"
    },
    "tags": []
   },
   "outputs": [
    {
     "data": {
      "text/html": [
       "<div>\n",
       "<style scoped>\n",
       "    .dataframe tbody tr th:only-of-type {\n",
       "        vertical-align: middle;\n",
       "    }\n",
       "\n",
       "    .dataframe tbody tr th {\n",
       "        vertical-align: top;\n",
       "    }\n",
       "\n",
       "    .dataframe thead th {\n",
       "        text-align: right;\n",
       "    }\n",
       "</style>\n",
       "<table border=\"1\" class=\"dataframe\">\n",
       "  <thead>\n",
       "    <tr style=\"text-align: right;\">\n",
       "      <th></th>\n",
       "      <th>price</th>\n",
       "      <th>latitude</th>\n",
       "      <th>longitude</th>\n",
       "      <th>baths</th>\n",
       "      <th>bedrooms</th>\n",
       "      <th>Total_Area</th>\n",
       "      <th>C_Faisalabad</th>\n",
       "      <th>C_Islamabad</th>\n",
       "      <th>C_Karachi</th>\n",
       "      <th>C_Lahore</th>\n",
       "      <th>...</th>\n",
       "      <th>P_Punjab</th>\n",
       "      <th>P_Sindh</th>\n",
       "      <th>P_Farm House</th>\n",
       "      <th>P_Flat</th>\n",
       "      <th>P_House</th>\n",
       "      <th>P_Lower Portion</th>\n",
       "      <th>P_Penthouse</th>\n",
       "      <th>P_Room</th>\n",
       "      <th>P_Upper Portion</th>\n",
       "      <th>year</th>\n",
       "    </tr>\n",
       "  </thead>\n",
       "  <tbody>\n",
       "    <tr>\n",
       "      <th>0</th>\n",
       "      <td>10000000</td>\n",
       "      <td>33.679890</td>\n",
       "      <td>73.012640</td>\n",
       "      <td>2</td>\n",
       "      <td>2</td>\n",
       "      <td>1089.004</td>\n",
       "      <td>0</td>\n",
       "      <td>1</td>\n",
       "      <td>0</td>\n",
       "      <td>0</td>\n",
       "      <td>...</td>\n",
       "      <td>0</td>\n",
       "      <td>0</td>\n",
       "      <td>0</td>\n",
       "      <td>1</td>\n",
       "      <td>0</td>\n",
       "      <td>0</td>\n",
       "      <td>0</td>\n",
       "      <td>0</td>\n",
       "      <td>0</td>\n",
       "      <td>2019</td>\n",
       "    </tr>\n",
       "    <tr>\n",
       "      <th>1</th>\n",
       "      <td>6900000</td>\n",
       "      <td>33.700993</td>\n",
       "      <td>72.971492</td>\n",
       "      <td>3</td>\n",
       "      <td>3</td>\n",
       "      <td>15246.056</td>\n",
       "      <td>0</td>\n",
       "      <td>1</td>\n",
       "      <td>0</td>\n",
       "      <td>0</td>\n",
       "      <td>...</td>\n",
       "      <td>0</td>\n",
       "      <td>0</td>\n",
       "      <td>0</td>\n",
       "      <td>1</td>\n",
       "      <td>0</td>\n",
       "      <td>0</td>\n",
       "      <td>0</td>\n",
       "      <td>0</td>\n",
       "      <td>0</td>\n",
       "      <td>2019</td>\n",
       "    </tr>\n",
       "    <tr>\n",
       "      <th>2</th>\n",
       "      <td>16500000</td>\n",
       "      <td>33.631486</td>\n",
       "      <td>72.926559</td>\n",
       "      <td>6</td>\n",
       "      <td>5</td>\n",
       "      <td>2178.008</td>\n",
       "      <td>0</td>\n",
       "      <td>1</td>\n",
       "      <td>0</td>\n",
       "      <td>0</td>\n",
       "      <td>...</td>\n",
       "      <td>0</td>\n",
       "      <td>0</td>\n",
       "      <td>0</td>\n",
       "      <td>0</td>\n",
       "      <td>1</td>\n",
       "      <td>0</td>\n",
       "      <td>0</td>\n",
       "      <td>0</td>\n",
       "      <td>0</td>\n",
       "      <td>2019</td>\n",
       "    </tr>\n",
       "    <tr>\n",
       "      <th>3</th>\n",
       "      <td>43500000</td>\n",
       "      <td>33.707573</td>\n",
       "      <td>73.151199</td>\n",
       "      <td>4</td>\n",
       "      <td>4</td>\n",
       "      <td>10890.000</td>\n",
       "      <td>0</td>\n",
       "      <td>1</td>\n",
       "      <td>0</td>\n",
       "      <td>0</td>\n",
       "      <td>...</td>\n",
       "      <td>0</td>\n",
       "      <td>0</td>\n",
       "      <td>0</td>\n",
       "      <td>0</td>\n",
       "      <td>1</td>\n",
       "      <td>0</td>\n",
       "      <td>0</td>\n",
       "      <td>0</td>\n",
       "      <td>0</td>\n",
       "      <td>2019</td>\n",
       "    </tr>\n",
       "    <tr>\n",
       "      <th>4</th>\n",
       "      <td>7000000</td>\n",
       "      <td>33.492591</td>\n",
       "      <td>73.301339</td>\n",
       "      <td>3</td>\n",
       "      <td>3</td>\n",
       "      <td>2178.008</td>\n",
       "      <td>0</td>\n",
       "      <td>1</td>\n",
       "      <td>0</td>\n",
       "      <td>0</td>\n",
       "      <td>...</td>\n",
       "      <td>0</td>\n",
       "      <td>0</td>\n",
       "      <td>0</td>\n",
       "      <td>0</td>\n",
       "      <td>1</td>\n",
       "      <td>0</td>\n",
       "      <td>0</td>\n",
       "      <td>0</td>\n",
       "      <td>0</td>\n",
       "      <td>2019</td>\n",
       "    </tr>\n",
       "    <tr>\n",
       "      <th>...</th>\n",
       "      <td>...</td>\n",
       "      <td>...</td>\n",
       "      <td>...</td>\n",
       "      <td>...</td>\n",
       "      <td>...</td>\n",
       "      <td>...</td>\n",
       "      <td>...</td>\n",
       "      <td>...</td>\n",
       "      <td>...</td>\n",
       "      <td>...</td>\n",
       "      <td>...</td>\n",
       "      <td>...</td>\n",
       "      <td>...</td>\n",
       "      <td>...</td>\n",
       "      <td>...</td>\n",
       "      <td>...</td>\n",
       "      <td>...</td>\n",
       "      <td>...</td>\n",
       "      <td>...</td>\n",
       "      <td>...</td>\n",
       "      <td>...</td>\n",
       "    </tr>\n",
       "    <tr>\n",
       "      <th>168441</th>\n",
       "      <td>26500000</td>\n",
       "      <td>25.029909</td>\n",
       "      <td>67.137192</td>\n",
       "      <td>0</td>\n",
       "      <td>6</td>\n",
       "      <td>26136.096</td>\n",
       "      <td>0</td>\n",
       "      <td>0</td>\n",
       "      <td>1</td>\n",
       "      <td>0</td>\n",
       "      <td>...</td>\n",
       "      <td>0</td>\n",
       "      <td>1</td>\n",
       "      <td>0</td>\n",
       "      <td>0</td>\n",
       "      <td>1</td>\n",
       "      <td>0</td>\n",
       "      <td>0</td>\n",
       "      <td>0</td>\n",
       "      <td>0</td>\n",
       "      <td>2019</td>\n",
       "    </tr>\n",
       "    <tr>\n",
       "      <th>168442</th>\n",
       "      <td>12500000</td>\n",
       "      <td>25.017951</td>\n",
       "      <td>67.136393</td>\n",
       "      <td>0</td>\n",
       "      <td>3</td>\n",
       "      <td>2178.008</td>\n",
       "      <td>0</td>\n",
       "      <td>0</td>\n",
       "      <td>1</td>\n",
       "      <td>0</td>\n",
       "      <td>...</td>\n",
       "      <td>0</td>\n",
       "      <td>1</td>\n",
       "      <td>0</td>\n",
       "      <td>0</td>\n",
       "      <td>1</td>\n",
       "      <td>0</td>\n",
       "      <td>0</td>\n",
       "      <td>0</td>\n",
       "      <td>0</td>\n",
       "      <td>2019</td>\n",
       "    </tr>\n",
       "    <tr>\n",
       "      <th>168443</th>\n",
       "      <td>27000000</td>\n",
       "      <td>25.015384</td>\n",
       "      <td>67.116330</td>\n",
       "      <td>0</td>\n",
       "      <td>6</td>\n",
       "      <td>26136.096</td>\n",
       "      <td>0</td>\n",
       "      <td>0</td>\n",
       "      <td>1</td>\n",
       "      <td>0</td>\n",
       "      <td>...</td>\n",
       "      <td>0</td>\n",
       "      <td>1</td>\n",
       "      <td>0</td>\n",
       "      <td>0</td>\n",
       "      <td>1</td>\n",
       "      <td>0</td>\n",
       "      <td>0</td>\n",
       "      <td>0</td>\n",
       "      <td>0</td>\n",
       "      <td>2019</td>\n",
       "    </tr>\n",
       "    <tr>\n",
       "      <th>168444</th>\n",
       "      <td>11000000</td>\n",
       "      <td>25.013265</td>\n",
       "      <td>67.120818</td>\n",
       "      <td>0</td>\n",
       "      <td>3</td>\n",
       "      <td>21235.578</td>\n",
       "      <td>0</td>\n",
       "      <td>0</td>\n",
       "      <td>1</td>\n",
       "      <td>0</td>\n",
       "      <td>...</td>\n",
       "      <td>0</td>\n",
       "      <td>1</td>\n",
       "      <td>0</td>\n",
       "      <td>0</td>\n",
       "      <td>1</td>\n",
       "      <td>0</td>\n",
       "      <td>0</td>\n",
       "      <td>0</td>\n",
       "      <td>0</td>\n",
       "      <td>2019</td>\n",
       "    </tr>\n",
       "    <tr>\n",
       "      <th>168445</th>\n",
       "      <td>9000000</td>\n",
       "      <td>25.113565</td>\n",
       "      <td>67.353811</td>\n",
       "      <td>3</td>\n",
       "      <td>3</td>\n",
       "      <td>25591.594</td>\n",
       "      <td>0</td>\n",
       "      <td>0</td>\n",
       "      <td>1</td>\n",
       "      <td>0</td>\n",
       "      <td>...</td>\n",
       "      <td>0</td>\n",
       "      <td>1</td>\n",
       "      <td>0</td>\n",
       "      <td>0</td>\n",
       "      <td>1</td>\n",
       "      <td>0</td>\n",
       "      <td>0</td>\n",
       "      <td>0</td>\n",
       "      <td>0</td>\n",
       "      <td>2019</td>\n",
       "    </tr>\n",
       "  </tbody>\n",
       "</table>\n",
       "<p>168446 rows × 22 columns</p>\n",
       "</div>"
      ],
      "text/plain": [
       "           price   latitude  longitude  baths  bedrooms  Total_Area  \\\n",
       "0       10000000  33.679890  73.012640      2         2    1089.004   \n",
       "1        6900000  33.700993  72.971492      3         3   15246.056   \n",
       "2       16500000  33.631486  72.926559      6         5    2178.008   \n",
       "3       43500000  33.707573  73.151199      4         4   10890.000   \n",
       "4        7000000  33.492591  73.301339      3         3    2178.008   \n",
       "...          ...        ...        ...    ...       ...         ...   \n",
       "168441  26500000  25.029909  67.137192      0         6   26136.096   \n",
       "168442  12500000  25.017951  67.136393      0         3    2178.008   \n",
       "168443  27000000  25.015384  67.116330      0         6   26136.096   \n",
       "168444  11000000  25.013265  67.120818      0         3   21235.578   \n",
       "168445   9000000  25.113565  67.353811      3         3   25591.594   \n",
       "\n",
       "        C_Faisalabad  C_Islamabad  C_Karachi  C_Lahore  ...  P_Punjab  \\\n",
       "0                  0            1          0         0  ...         0   \n",
       "1                  0            1          0         0  ...         0   \n",
       "2                  0            1          0         0  ...         0   \n",
       "3                  0            1          0         0  ...         0   \n",
       "4                  0            1          0         0  ...         0   \n",
       "...              ...          ...        ...       ...  ...       ...   \n",
       "168441             0            0          1         0  ...         0   \n",
       "168442             0            0          1         0  ...         0   \n",
       "168443             0            0          1         0  ...         0   \n",
       "168444             0            0          1         0  ...         0   \n",
       "168445             0            0          1         0  ...         0   \n",
       "\n",
       "        P_Sindh  P_Farm House  P_Flat  P_House  P_Lower Portion  P_Penthouse  \\\n",
       "0             0             0       1        0                0            0   \n",
       "1             0             0       1        0                0            0   \n",
       "2             0             0       0        1                0            0   \n",
       "3             0             0       0        1                0            0   \n",
       "4             0             0       0        1                0            0   \n",
       "...         ...           ...     ...      ...              ...          ...   \n",
       "168441        1             0       0        1                0            0   \n",
       "168442        1             0       0        1                0            0   \n",
       "168443        1             0       0        1                0            0   \n",
       "168444        1             0       0        1                0            0   \n",
       "168445        1             0       0        1                0            0   \n",
       "\n",
       "        P_Room  P_Upper Portion  year  \n",
       "0            0                0  2019  \n",
       "1            0                0  2019  \n",
       "2            0                0  2019  \n",
       "3            0                0  2019  \n",
       "4            0                0  2019  \n",
       "...        ...              ...   ...  \n",
       "168441       0                0  2019  \n",
       "168442       0                0  2019  \n",
       "168443       0                0  2019  \n",
       "168444       0                0  2019  \n",
       "168445       0                0  2019  \n",
       "\n",
       "[168446 rows x 22 columns]"
      ]
     },
     "execution_count": 24,
     "metadata": {},
     "output_type": "execute_result"
    }
   ],
   "source": [
    "dff2"
   ]
  },
  {
   "cell_type": "code",
   "execution_count": 25,
   "id": "67838348",
   "metadata": {
    "execution": {
     "iopub.execute_input": "2022-07-20T08:56:00.240992Z",
     "iopub.status.busy": "2022-07-20T08:56:00.239932Z",
     "iopub.status.idle": "2022-07-20T08:56:00.250449Z",
     "shell.execute_reply": "2022-07-20T08:56:00.249034Z"
    },
    "papermill": {
     "duration": 0.029668,
     "end_time": "2022-07-20T08:56:00.253412",
     "exception": false,
     "start_time": "2022-07-20T08:56:00.223744",
     "status": "completed"
    },
    "tags": []
   },
   "outputs": [],
   "source": [
    "x = dff2.drop('price' , axis =1)"
   ]
  },
  {
   "cell_type": "code",
   "execution_count": 26,
   "id": "eadd569f",
   "metadata": {
    "execution": {
     "iopub.execute_input": "2022-07-20T08:56:00.284427Z",
     "iopub.status.busy": "2022-07-20T08:56:00.284045Z",
     "iopub.status.idle": "2022-07-20T08:56:00.306610Z",
     "shell.execute_reply": "2022-07-20T08:56:00.305224Z"
    },
    "papermill": {
     "duration": 0.040821,
     "end_time": "2022-07-20T08:56:00.308973",
     "exception": false,
     "start_time": "2022-07-20T08:56:00.268152",
     "status": "completed"
    },
    "tags": []
   },
   "outputs": [
    {
     "data": {
      "text/html": [
       "<div>\n",
       "<style scoped>\n",
       "    .dataframe tbody tr th:only-of-type {\n",
       "        vertical-align: middle;\n",
       "    }\n",
       "\n",
       "    .dataframe tbody tr th {\n",
       "        vertical-align: top;\n",
       "    }\n",
       "\n",
       "    .dataframe thead th {\n",
       "        text-align: right;\n",
       "    }\n",
       "</style>\n",
       "<table border=\"1\" class=\"dataframe\">\n",
       "  <thead>\n",
       "    <tr style=\"text-align: right;\">\n",
       "      <th></th>\n",
       "      <th>latitude</th>\n",
       "      <th>longitude</th>\n",
       "      <th>baths</th>\n",
       "      <th>bedrooms</th>\n",
       "      <th>Total_Area</th>\n",
       "      <th>C_Faisalabad</th>\n",
       "      <th>C_Islamabad</th>\n",
       "      <th>C_Karachi</th>\n",
       "      <th>C_Lahore</th>\n",
       "      <th>C_Rawalpindi</th>\n",
       "      <th>...</th>\n",
       "      <th>P_Punjab</th>\n",
       "      <th>P_Sindh</th>\n",
       "      <th>P_Farm House</th>\n",
       "      <th>P_Flat</th>\n",
       "      <th>P_House</th>\n",
       "      <th>P_Lower Portion</th>\n",
       "      <th>P_Penthouse</th>\n",
       "      <th>P_Room</th>\n",
       "      <th>P_Upper Portion</th>\n",
       "      <th>year</th>\n",
       "    </tr>\n",
       "  </thead>\n",
       "  <tbody>\n",
       "    <tr>\n",
       "      <th>0</th>\n",
       "      <td>33.679890</td>\n",
       "      <td>73.012640</td>\n",
       "      <td>2</td>\n",
       "      <td>2</td>\n",
       "      <td>1089.004</td>\n",
       "      <td>0</td>\n",
       "      <td>1</td>\n",
       "      <td>0</td>\n",
       "      <td>0</td>\n",
       "      <td>0</td>\n",
       "      <td>...</td>\n",
       "      <td>0</td>\n",
       "      <td>0</td>\n",
       "      <td>0</td>\n",
       "      <td>1</td>\n",
       "      <td>0</td>\n",
       "      <td>0</td>\n",
       "      <td>0</td>\n",
       "      <td>0</td>\n",
       "      <td>0</td>\n",
       "      <td>2019</td>\n",
       "    </tr>\n",
       "    <tr>\n",
       "      <th>1</th>\n",
       "      <td>33.700993</td>\n",
       "      <td>72.971492</td>\n",
       "      <td>3</td>\n",
       "      <td>3</td>\n",
       "      <td>15246.056</td>\n",
       "      <td>0</td>\n",
       "      <td>1</td>\n",
       "      <td>0</td>\n",
       "      <td>0</td>\n",
       "      <td>0</td>\n",
       "      <td>...</td>\n",
       "      <td>0</td>\n",
       "      <td>0</td>\n",
       "      <td>0</td>\n",
       "      <td>1</td>\n",
       "      <td>0</td>\n",
       "      <td>0</td>\n",
       "      <td>0</td>\n",
       "      <td>0</td>\n",
       "      <td>0</td>\n",
       "      <td>2019</td>\n",
       "    </tr>\n",
       "    <tr>\n",
       "      <th>2</th>\n",
       "      <td>33.631486</td>\n",
       "      <td>72.926559</td>\n",
       "      <td>6</td>\n",
       "      <td>5</td>\n",
       "      <td>2178.008</td>\n",
       "      <td>0</td>\n",
       "      <td>1</td>\n",
       "      <td>0</td>\n",
       "      <td>0</td>\n",
       "      <td>0</td>\n",
       "      <td>...</td>\n",
       "      <td>0</td>\n",
       "      <td>0</td>\n",
       "      <td>0</td>\n",
       "      <td>0</td>\n",
       "      <td>1</td>\n",
       "      <td>0</td>\n",
       "      <td>0</td>\n",
       "      <td>0</td>\n",
       "      <td>0</td>\n",
       "      <td>2019</td>\n",
       "    </tr>\n",
       "    <tr>\n",
       "      <th>3</th>\n",
       "      <td>33.707573</td>\n",
       "      <td>73.151199</td>\n",
       "      <td>4</td>\n",
       "      <td>4</td>\n",
       "      <td>10890.000</td>\n",
       "      <td>0</td>\n",
       "      <td>1</td>\n",
       "      <td>0</td>\n",
       "      <td>0</td>\n",
       "      <td>0</td>\n",
       "      <td>...</td>\n",
       "      <td>0</td>\n",
       "      <td>0</td>\n",
       "      <td>0</td>\n",
       "      <td>0</td>\n",
       "      <td>1</td>\n",
       "      <td>0</td>\n",
       "      <td>0</td>\n",
       "      <td>0</td>\n",
       "      <td>0</td>\n",
       "      <td>2019</td>\n",
       "    </tr>\n",
       "    <tr>\n",
       "      <th>4</th>\n",
       "      <td>33.492591</td>\n",
       "      <td>73.301339</td>\n",
       "      <td>3</td>\n",
       "      <td>3</td>\n",
       "      <td>2178.008</td>\n",
       "      <td>0</td>\n",
       "      <td>1</td>\n",
       "      <td>0</td>\n",
       "      <td>0</td>\n",
       "      <td>0</td>\n",
       "      <td>...</td>\n",
       "      <td>0</td>\n",
       "      <td>0</td>\n",
       "      <td>0</td>\n",
       "      <td>0</td>\n",
       "      <td>1</td>\n",
       "      <td>0</td>\n",
       "      <td>0</td>\n",
       "      <td>0</td>\n",
       "      <td>0</td>\n",
       "      <td>2019</td>\n",
       "    </tr>\n",
       "  </tbody>\n",
       "</table>\n",
       "<p>5 rows × 21 columns</p>\n",
       "</div>"
      ],
      "text/plain": [
       "    latitude  longitude  baths  bedrooms  Total_Area  C_Faisalabad  \\\n",
       "0  33.679890  73.012640      2         2    1089.004             0   \n",
       "1  33.700993  72.971492      3         3   15246.056             0   \n",
       "2  33.631486  72.926559      6         5    2178.008             0   \n",
       "3  33.707573  73.151199      4         4   10890.000             0   \n",
       "4  33.492591  73.301339      3         3    2178.008             0   \n",
       "\n",
       "   C_Islamabad  C_Karachi  C_Lahore  C_Rawalpindi  ...  P_Punjab  P_Sindh  \\\n",
       "0            1          0         0             0  ...         0        0   \n",
       "1            1          0         0             0  ...         0        0   \n",
       "2            1          0         0             0  ...         0        0   \n",
       "3            1          0         0             0  ...         0        0   \n",
       "4            1          0         0             0  ...         0        0   \n",
       "\n",
       "   P_Farm House  P_Flat  P_House  P_Lower Portion  P_Penthouse  P_Room  \\\n",
       "0             0       1        0                0            0       0   \n",
       "1             0       1        0                0            0       0   \n",
       "2             0       0        1                0            0       0   \n",
       "3             0       0        1                0            0       0   \n",
       "4             0       0        1                0            0       0   \n",
       "\n",
       "   P_Upper Portion  year  \n",
       "0                0  2019  \n",
       "1                0  2019  \n",
       "2                0  2019  \n",
       "3                0  2019  \n",
       "4                0  2019  \n",
       "\n",
       "[5 rows x 21 columns]"
      ]
     },
     "execution_count": 26,
     "metadata": {},
     "output_type": "execute_result"
    }
   ],
   "source": [
    "x.head()"
   ]
  },
  {
   "cell_type": "code",
   "execution_count": 27,
   "id": "89bd5266",
   "metadata": {
    "execution": {
     "iopub.execute_input": "2022-07-20T08:56:00.340509Z",
     "iopub.status.busy": "2022-07-20T08:56:00.339515Z",
     "iopub.status.idle": "2022-07-20T08:56:00.344958Z",
     "shell.execute_reply": "2022-07-20T08:56:00.343925Z"
    },
    "papermill": {
     "duration": 0.023573,
     "end_time": "2022-07-20T08:56:00.347101",
     "exception": false,
     "start_time": "2022-07-20T08:56:00.323528",
     "status": "completed"
    },
    "tags": []
   },
   "outputs": [],
   "source": [
    "y = dff2['price']"
   ]
  },
  {
   "cell_type": "code",
   "execution_count": 28,
   "id": "0480881f",
   "metadata": {
    "execution": {
     "iopub.execute_input": "2022-07-20T08:56:00.378467Z",
     "iopub.status.busy": "2022-07-20T08:56:00.377724Z",
     "iopub.status.idle": "2022-07-20T08:56:00.385094Z",
     "shell.execute_reply": "2022-07-20T08:56:00.383851Z"
    },
    "papermill": {
     "duration": 0.025826,
     "end_time": "2022-07-20T08:56:00.387622",
     "exception": false,
     "start_time": "2022-07-20T08:56:00.361796",
     "status": "completed"
    },
    "tags": []
   },
   "outputs": [
    {
     "data": {
      "text/plain": [
       "0    10000000\n",
       "1     6900000\n",
       "2    16500000\n",
       "3    43500000\n",
       "4     7000000\n",
       "Name: price, dtype: int64"
      ]
     },
     "execution_count": 28,
     "metadata": {},
     "output_type": "execute_result"
    }
   ],
   "source": [
    "y.head()"
   ]
  },
  {
   "cell_type": "markdown",
   "id": "f348306f",
   "metadata": {
    "papermill": {
     "duration": 0.014654,
     "end_time": "2022-07-20T08:56:00.417474",
     "exception": false,
     "start_time": "2022-07-20T08:56:00.402820",
     "status": "completed"
    },
    "tags": []
   },
   "source": [
    "# Linear Regression "
   ]
  },
  {
   "cell_type": "code",
   "execution_count": 29,
   "id": "ed3eba33",
   "metadata": {
    "execution": {
     "iopub.execute_input": "2022-07-20T08:56:00.449317Z",
     "iopub.status.busy": "2022-07-20T08:56:00.448308Z",
     "iopub.status.idle": "2022-07-20T08:56:00.493100Z",
     "shell.execute_reply": "2022-07-20T08:56:00.491823Z"
    },
    "papermill": {
     "duration": 0.063661,
     "end_time": "2022-07-20T08:56:00.495778",
     "exception": false,
     "start_time": "2022-07-20T08:56:00.432117",
     "status": "completed"
    },
    "tags": []
   },
   "outputs": [],
   "source": [
    "train_x , test_x , train_y , test_y = train_test_split(x , y , test_size = 0.3)"
   ]
  },
  {
   "cell_type": "code",
   "execution_count": 30,
   "id": "b5750ffc",
   "metadata": {
    "execution": {
     "iopub.execute_input": "2022-07-20T08:56:00.528656Z",
     "iopub.status.busy": "2022-07-20T08:56:00.527914Z",
     "iopub.status.idle": "2022-07-20T08:56:00.532462Z",
     "shell.execute_reply": "2022-07-20T08:56:00.531586Z"
    },
    "papermill": {
     "duration": 0.023296,
     "end_time": "2022-07-20T08:56:00.534819",
     "exception": false,
     "start_time": "2022-07-20T08:56:00.511523",
     "status": "completed"
    },
    "tags": []
   },
   "outputs": [],
   "source": [
    "model = LinearRegression()"
   ]
  },
  {
   "cell_type": "code",
   "execution_count": 31,
   "id": "38b5eae1",
   "metadata": {
    "execution": {
     "iopub.execute_input": "2022-07-20T08:56:00.568436Z",
     "iopub.status.busy": "2022-07-20T08:56:00.567653Z",
     "iopub.status.idle": "2022-07-20T08:56:00.683165Z",
     "shell.execute_reply": "2022-07-20T08:56:00.681794Z"
    },
    "papermill": {
     "duration": 0.136851,
     "end_time": "2022-07-20T08:56:00.686822",
     "exception": false,
     "start_time": "2022-07-20T08:56:00.549971",
     "status": "completed"
    },
    "tags": []
   },
   "outputs": [
    {
     "data": {
      "text/plain": [
       "LinearRegression()"
      ]
     },
     "execution_count": 31,
     "metadata": {},
     "output_type": "execute_result"
    }
   ],
   "source": [
    "model.fit(train_x , train_y)"
   ]
  },
  {
   "cell_type": "code",
   "execution_count": 32,
   "id": "e5161dac",
   "metadata": {
    "execution": {
     "iopub.execute_input": "2022-07-20T08:56:00.743374Z",
     "iopub.status.busy": "2022-07-20T08:56:00.742701Z",
     "iopub.status.idle": "2022-07-20T08:56:00.778340Z",
     "shell.execute_reply": "2022-07-20T08:56:00.776941Z"
    },
    "papermill": {
     "duration": 0.067541,
     "end_time": "2022-07-20T08:56:00.781389",
     "exception": false,
     "start_time": "2022-07-20T08:56:00.713848",
     "status": "completed"
    },
    "tags": []
   },
   "outputs": [],
   "source": [
    "predict = model.predict(test_x)"
   ]
  },
  {
   "cell_type": "code",
   "execution_count": 33,
   "id": "60347c48",
   "metadata": {
    "execution": {
     "iopub.execute_input": "2022-07-20T08:56:00.839586Z",
     "iopub.status.busy": "2022-07-20T08:56:00.838939Z",
     "iopub.status.idle": "2022-07-20T08:56:00.850073Z",
     "shell.execute_reply": "2022-07-20T08:56:00.848748Z"
    },
    "papermill": {
     "duration": 0.045239,
     "end_time": "2022-07-20T08:56:00.853796",
     "exception": false,
     "start_time": "2022-07-20T08:56:00.808557",
     "status": "completed"
    },
    "tags": []
   },
   "outputs": [
    {
     "data": {
      "text/plain": [
       "15374571.040111536"
      ]
     },
     "execution_count": 33,
     "metadata": {},
     "output_type": "execute_result"
    }
   ],
   "source": [
    "mean_absolute_error(predict, test_y)"
   ]
  },
  {
   "cell_type": "code",
   "execution_count": 34,
   "id": "325d3909",
   "metadata": {
    "execution": {
     "iopub.execute_input": "2022-07-20T08:56:00.899771Z",
     "iopub.status.busy": "2022-07-20T08:56:00.899382Z",
     "iopub.status.idle": "2022-07-20T08:56:00.906896Z",
     "shell.execute_reply": "2022-07-20T08:56:00.906020Z"
    },
    "papermill": {
     "duration": 0.027867,
     "end_time": "2022-07-20T08:56:00.909071",
     "exception": false,
     "start_time": "2022-07-20T08:56:00.881204",
     "status": "completed"
    },
    "tags": []
   },
   "outputs": [
    {
     "data": {
      "text/plain": [
       "1062608148868978.0"
      ]
     },
     "execution_count": 34,
     "metadata": {},
     "output_type": "execute_result"
    }
   ],
   "source": [
    "mean_squared_error(predict, test_y)"
   ]
  },
  {
   "cell_type": "code",
   "execution_count": 35,
   "id": "a9a1f8d2",
   "metadata": {
    "execution": {
     "iopub.execute_input": "2022-07-20T08:56:00.941958Z",
     "iopub.status.busy": "2022-07-20T08:56:00.941015Z",
     "iopub.status.idle": "2022-07-20T08:56:00.949072Z",
     "shell.execute_reply": "2022-07-20T08:56:00.948293Z"
    },
    "papermill": {
     "duration": 0.026872,
     "end_time": "2022-07-20T08:56:00.951232",
     "exception": false,
     "start_time": "2022-07-20T08:56:00.924360",
     "status": "completed"
    },
    "tags": []
   },
   "outputs": [
    {
     "data": {
      "text/plain": [
       "-4.498797915558164"
      ]
     },
     "execution_count": 35,
     "metadata": {},
     "output_type": "execute_result"
    }
   ],
   "source": [
    "r2_score(predict, test_y)"
   ]
  }
 ],
 "metadata": {
  "kernelspec": {
   "display_name": "Python 3",
   "language": "python",
   "name": "python3"
  },
  "language_info": {
   "codemirror_mode": {
    "name": "ipython",
    "version": 3
   },
   "file_extension": ".py",
   "mimetype": "text/x-python",
   "name": "python",
   "nbconvert_exporter": "python",
   "pygments_lexer": "ipython3",
   "version": "3.7.12"
  },
  "papermill": {
   "default_parameters": {},
   "duration": 29.357539,
   "end_time": "2022-07-20T08:56:01.789712",
   "environment_variables": {},
   "exception": null,
   "input_path": "__notebook__.ipynb",
   "output_path": "__notebook__.ipynb",
   "parameters": {},
   "start_time": "2022-07-20T08:55:32.432173",
   "version": "2.3.4"
  }
 },
 "nbformat": 4,
 "nbformat_minor": 5
}
