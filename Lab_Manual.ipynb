{
  "cells": [
    {
      "cell_type": "markdown",
      "metadata": {
        "id": "view-in-github",
        "colab_type": "text"
      },
      "source": [
        "<a href=\"https://colab.research.google.com/github/Wajihashoaib/Machine-learning-/blob/main/Lab_Manual.ipynb\" target=\"_parent\"><img src=\"https://colab.research.google.com/assets/colab-badge.svg\" alt=\"Open In Colab\"/></a>"
      ]
    },
    {
      "cell_type": "markdown",
      "metadata": {
        "id": "0qOuVwA25TXX"
      },
      "source": [
        "#Importing Libraries"
      ]
    },
    {
      "cell_type": "code",
      "execution_count": null,
      "metadata": {
        "id": "PnJsW9UM5YNZ"
      },
      "outputs": [],
      "source": [
        "import pandas as pd #for data manupulation\n",
        "import numpy as np  #for numbers and array\n",
        "from sklearn import preprocessing #for preprocessing\n",
        "label_encoder=preprocessing.LabelEncoder()  # for to label the data\n",
        "from sklearn.model_selection import train_test_split #for to split data\n",
        "from sklearn.preprocessing import normalize #for noramalize data"
      ]
    },
    {
      "cell_type": "markdown",
      "metadata": {
        "id": "GMpkPHxi1LiP"
      },
      "source": [
        "# QUESTION NO 1\n",
        " **Demonstration of pre-processing on dataset iris.csv in python**\n"
      ]
    },
    {
      "cell_type": "code",
      "execution_count": null,
      "metadata": {
        "id": "qZj-FzNN08Nl"
      },
      "outputs": [],
      "source": [
        "df = pd.read_csv('Iris.csv')"
      ]
    },
    {
      "cell_type": "code",
      "execution_count": null,
      "metadata": {
        "colab": {
          "base_uri": "https://localhost:8080/",
          "height": 112
        },
        "id": "w6NOvVW45cK0",
        "outputId": "cf610297-fcc7-43b4-a77f-d1be59043284"
      },
      "outputs": [
        {
          "output_type": "execute_result",
          "data": {
            "text/plain": [
              "   Id  SepalLengthCm  SepalWidthCm  PetalLengthCm  PetalWidthCm      Species\n",
              "0   1            5.1           3.5            1.4           0.2  Iris-setosa\n",
              "1   2            4.9           3.0            1.4           0.2  Iris-setosa"
            ],
            "text/html": [
              "\n",
              "  <div id=\"df-dd0ebbef-c543-4517-8b1b-a284b7963086\">\n",
              "    <div class=\"colab-df-container\">\n",
              "      <div>\n",
              "<style scoped>\n",
              "    .dataframe tbody tr th:only-of-type {\n",
              "        vertical-align: middle;\n",
              "    }\n",
              "\n",
              "    .dataframe tbody tr th {\n",
              "        vertical-align: top;\n",
              "    }\n",
              "\n",
              "    .dataframe thead th {\n",
              "        text-align: right;\n",
              "    }\n",
              "</style>\n",
              "<table border=\"1\" class=\"dataframe\">\n",
              "  <thead>\n",
              "    <tr style=\"text-align: right;\">\n",
              "      <th></th>\n",
              "      <th>Id</th>\n",
              "      <th>SepalLengthCm</th>\n",
              "      <th>SepalWidthCm</th>\n",
              "      <th>PetalLengthCm</th>\n",
              "      <th>PetalWidthCm</th>\n",
              "      <th>Species</th>\n",
              "    </tr>\n",
              "  </thead>\n",
              "  <tbody>\n",
              "    <tr>\n",
              "      <th>0</th>\n",
              "      <td>1</td>\n",
              "      <td>5.1</td>\n",
              "      <td>3.5</td>\n",
              "      <td>1.4</td>\n",
              "      <td>0.2</td>\n",
              "      <td>Iris-setosa</td>\n",
              "    </tr>\n",
              "    <tr>\n",
              "      <th>1</th>\n",
              "      <td>2</td>\n",
              "      <td>4.9</td>\n",
              "      <td>3.0</td>\n",
              "      <td>1.4</td>\n",
              "      <td>0.2</td>\n",
              "      <td>Iris-setosa</td>\n",
              "    </tr>\n",
              "  </tbody>\n",
              "</table>\n",
              "</div>\n",
              "      <button class=\"colab-df-convert\" onclick=\"convertToInteractive('df-dd0ebbef-c543-4517-8b1b-a284b7963086')\"\n",
              "              title=\"Convert this dataframe to an interactive table.\"\n",
              "              style=\"display:none;\">\n",
              "        \n",
              "  <svg xmlns=\"http://www.w3.org/2000/svg\" height=\"24px\"viewBox=\"0 0 24 24\"\n",
              "       width=\"24px\">\n",
              "    <path d=\"M0 0h24v24H0V0z\" fill=\"none\"/>\n",
              "    <path d=\"M18.56 5.44l.94 2.06.94-2.06 2.06-.94-2.06-.94-.94-2.06-.94 2.06-2.06.94zm-11 1L8.5 8.5l.94-2.06 2.06-.94-2.06-.94L8.5 2.5l-.94 2.06-2.06.94zm10 10l.94 2.06.94-2.06 2.06-.94-2.06-.94-.94-2.06-.94 2.06-2.06.94z\"/><path d=\"M17.41 7.96l-1.37-1.37c-.4-.4-.92-.59-1.43-.59-.52 0-1.04.2-1.43.59L10.3 9.45l-7.72 7.72c-.78.78-.78 2.05 0 2.83L4 21.41c.39.39.9.59 1.41.59.51 0 1.02-.2 1.41-.59l7.78-7.78 2.81-2.81c.8-.78.8-2.07 0-2.86zM5.41 20L4 18.59l7.72-7.72 1.47 1.35L5.41 20z\"/>\n",
              "  </svg>\n",
              "      </button>\n",
              "      \n",
              "  <style>\n",
              "    .colab-df-container {\n",
              "      display:flex;\n",
              "      flex-wrap:wrap;\n",
              "      gap: 12px;\n",
              "    }\n",
              "\n",
              "    .colab-df-convert {\n",
              "      background-color: #E8F0FE;\n",
              "      border: none;\n",
              "      border-radius: 50%;\n",
              "      cursor: pointer;\n",
              "      display: none;\n",
              "      fill: #1967D2;\n",
              "      height: 32px;\n",
              "      padding: 0 0 0 0;\n",
              "      width: 32px;\n",
              "    }\n",
              "\n",
              "    .colab-df-convert:hover {\n",
              "      background-color: #E2EBFA;\n",
              "      box-shadow: 0px 1px 2px rgba(60, 64, 67, 0.3), 0px 1px 3px 1px rgba(60, 64, 67, 0.15);\n",
              "      fill: #174EA6;\n",
              "    }\n",
              "\n",
              "    [theme=dark] .colab-df-convert {\n",
              "      background-color: #3B4455;\n",
              "      fill: #D2E3FC;\n",
              "    }\n",
              "\n",
              "    [theme=dark] .colab-df-convert:hover {\n",
              "      background-color: #434B5C;\n",
              "      box-shadow: 0px 1px 3px 1px rgba(0, 0, 0, 0.15);\n",
              "      filter: drop-shadow(0px 1px 2px rgba(0, 0, 0, 0.3));\n",
              "      fill: #FFFFFF;\n",
              "    }\n",
              "  </style>\n",
              "\n",
              "      <script>\n",
              "        const buttonEl =\n",
              "          document.querySelector('#df-dd0ebbef-c543-4517-8b1b-a284b7963086 button.colab-df-convert');\n",
              "        buttonEl.style.display =\n",
              "          google.colab.kernel.accessAllowed ? 'block' : 'none';\n",
              "\n",
              "        async function convertToInteractive(key) {\n",
              "          const element = document.querySelector('#df-dd0ebbef-c543-4517-8b1b-a284b7963086');\n",
              "          const dataTable =\n",
              "            await google.colab.kernel.invokeFunction('convertToInteractive',\n",
              "                                                     [key], {});\n",
              "          if (!dataTable) return;\n",
              "\n",
              "          const docLinkHtml = 'Like what you see? Visit the ' +\n",
              "            '<a target=\"_blank\" href=https://colab.research.google.com/notebooks/data_table.ipynb>data table notebook</a>'\n",
              "            + ' to learn more about interactive tables.';\n",
              "          element.innerHTML = '';\n",
              "          dataTable['output_type'] = 'display_data';\n",
              "          await google.colab.output.renderOutput(dataTable, element);\n",
              "          const docLink = document.createElement('div');\n",
              "          docLink.innerHTML = docLinkHtml;\n",
              "          element.appendChild(docLink);\n",
              "        }\n",
              "      </script>\n",
              "    </div>\n",
              "  </div>\n",
              "  "
            ]
          },
          "metadata": {},
          "execution_count": 3
        }
      ],
      "source": [
        "df.head(2)"
      ]
    },
    {
      "cell_type": "code",
      "execution_count": null,
      "metadata": {
        "colab": {
          "base_uri": "https://localhost:8080/"
        },
        "id": "6Mq8dFoG5rAt",
        "outputId": "a56fc20f-eaf7-431b-9623-f34672b0cf83"
      },
      "outputs": [
        {
          "output_type": "execute_result",
          "data": {
            "text/plain": [
              "Id               0\n",
              "SepalLengthCm    0\n",
              "SepalWidthCm     0\n",
              "PetalLengthCm    0\n",
              "PetalWidthCm     0\n",
              "Species          0\n",
              "dtype: int64"
            ]
          },
          "metadata": {},
          "execution_count": 4
        }
      ],
      "source": [
        "df.isnull().sum()"
      ]
    },
    {
      "cell_type": "code",
      "execution_count": null,
      "metadata": {
        "id": "VQqm2mt08vzl"
      },
      "outputs": [],
      "source": [
        "df.drop(\"Id\",axis=1,inplace=True)"
      ]
    },
    {
      "cell_type": "code",
      "execution_count": null,
      "metadata": {
        "id": "gt_6ctqg82dw"
      },
      "outputs": [],
      "source": [
        "df[\"Species\"]=label_encoder.fit_transform(df['Species'])"
      ]
    },
    {
      "cell_type": "code",
      "execution_count": null,
      "metadata": {
        "id": "RR2MAXeY84Dm"
      },
      "outputs": [],
      "source": [
        "Y=df[\"Species\"]\n",
        "X=df.loc[:,df.columns!=\"Species\"]"
      ]
    },
    {
      "cell_type": "code",
      "execution_count": null,
      "metadata": {
        "id": "s0qmEqTL9JHB"
      },
      "outputs": [],
      "source": [
        "X=normalize(X,axis=0)"
      ]
    },
    {
      "cell_type": "code",
      "execution_count": null,
      "metadata": {
        "id": "pAsDou-19RXL"
      },
      "outputs": [],
      "source": [
        "X_train,X_test,y_train,y_test=train_test_split(X,Y,test_size=0.2)"
      ]
    },
    {
      "cell_type": "markdown",
      "metadata": {
        "id": "0Ji891D9-GGn"
      },
      "source": [
        "# QUESTION NO 3"
      ]
    },
    {
      "cell_type": "markdown",
      "metadata": {
        "id": "qqop1Xd3KW9B"
      },
      "source": [
        "**Convert weather.arff in weather.csv in python**"
      ]
    },
    {
      "cell_type": "code",
      "execution_count": null,
      "metadata": {
        "id": "kD43grPN-JFK"
      },
      "outputs": [],
      "source": [
        "#Load the data using \"arff.loadarff\" then convert it to dataframe\n",
        "from scipy.io import arff\n",
        "data = arff.loadarff('/content/weather.numeric.arff')\n",
        "df2 = pd.DataFrame(data[0])"
      ]
    },
    {
      "cell_type": "code",
      "execution_count": null,
      "metadata": {
        "id": "leYrt07yEMzD"
      },
      "outputs": [],
      "source": [
        "df2.to_csv('weather.csv')"
      ]
    },
    {
      "cell_type": "code",
      "execution_count": null,
      "metadata": {
        "id": "tFT2P0kUGMw5"
      },
      "outputs": [],
      "source": [
        "WD= pd.read_csv('weather.csv')"
      ]
    },
    {
      "cell_type": "markdown",
      "metadata": {
        "id": "rMROYe4xKlhp"
      },
      "source": [
        "# QUESTION NO 2"
      ]
    },
    {
      "cell_type": "markdown",
      "metadata": {
        "id": "QxY5RpQC-9sX"
      },
      "source": [
        "Demonstration of pre-processing on dataset weather.csv in python "
      ]
    },
    {
      "cell_type": "code",
      "execution_count": null,
      "metadata": {
        "colab": {
          "base_uri": "https://localhost:8080/",
          "height": 112
        },
        "id": "8Quso07IJKjV",
        "outputId": "3ab4c148-3f49-4e98-d85d-d43df7248806"
      },
      "outputs": [
        {
          "output_type": "execute_result",
          "data": {
            "text/plain": [
              "   Unnamed: 0   outlook  temperature  humidity     windy   play\n",
              "0           0  b'sunny'         85.0      85.0  b'FALSE'  b'no'\n",
              "1           1  b'sunny'         80.0      90.0   b'TRUE'  b'no'"
            ],
            "text/html": [
              "\n",
              "  <div id=\"df-f8d1ae42-7658-48a6-a8a3-50c418503f26\">\n",
              "    <div class=\"colab-df-container\">\n",
              "      <div>\n",
              "<style scoped>\n",
              "    .dataframe tbody tr th:only-of-type {\n",
              "        vertical-align: middle;\n",
              "    }\n",
              "\n",
              "    .dataframe tbody tr th {\n",
              "        vertical-align: top;\n",
              "    }\n",
              "\n",
              "    .dataframe thead th {\n",
              "        text-align: right;\n",
              "    }\n",
              "</style>\n",
              "<table border=\"1\" class=\"dataframe\">\n",
              "  <thead>\n",
              "    <tr style=\"text-align: right;\">\n",
              "      <th></th>\n",
              "      <th>Unnamed: 0</th>\n",
              "      <th>outlook</th>\n",
              "      <th>temperature</th>\n",
              "      <th>humidity</th>\n",
              "      <th>windy</th>\n",
              "      <th>play</th>\n",
              "    </tr>\n",
              "  </thead>\n",
              "  <tbody>\n",
              "    <tr>\n",
              "      <th>0</th>\n",
              "      <td>0</td>\n",
              "      <td>b'sunny'</td>\n",
              "      <td>85.0</td>\n",
              "      <td>85.0</td>\n",
              "      <td>b'FALSE'</td>\n",
              "      <td>b'no'</td>\n",
              "    </tr>\n",
              "    <tr>\n",
              "      <th>1</th>\n",
              "      <td>1</td>\n",
              "      <td>b'sunny'</td>\n",
              "      <td>80.0</td>\n",
              "      <td>90.0</td>\n",
              "      <td>b'TRUE'</td>\n",
              "      <td>b'no'</td>\n",
              "    </tr>\n",
              "  </tbody>\n",
              "</table>\n",
              "</div>\n",
              "      <button class=\"colab-df-convert\" onclick=\"convertToInteractive('df-f8d1ae42-7658-48a6-a8a3-50c418503f26')\"\n",
              "              title=\"Convert this dataframe to an interactive table.\"\n",
              "              style=\"display:none;\">\n",
              "        \n",
              "  <svg xmlns=\"http://www.w3.org/2000/svg\" height=\"24px\"viewBox=\"0 0 24 24\"\n",
              "       width=\"24px\">\n",
              "    <path d=\"M0 0h24v24H0V0z\" fill=\"none\"/>\n",
              "    <path d=\"M18.56 5.44l.94 2.06.94-2.06 2.06-.94-2.06-.94-.94-2.06-.94 2.06-2.06.94zm-11 1L8.5 8.5l.94-2.06 2.06-.94-2.06-.94L8.5 2.5l-.94 2.06-2.06.94zm10 10l.94 2.06.94-2.06 2.06-.94-2.06-.94-.94-2.06-.94 2.06-2.06.94z\"/><path d=\"M17.41 7.96l-1.37-1.37c-.4-.4-.92-.59-1.43-.59-.52 0-1.04.2-1.43.59L10.3 9.45l-7.72 7.72c-.78.78-.78 2.05 0 2.83L4 21.41c.39.39.9.59 1.41.59.51 0 1.02-.2 1.41-.59l7.78-7.78 2.81-2.81c.8-.78.8-2.07 0-2.86zM5.41 20L4 18.59l7.72-7.72 1.47 1.35L5.41 20z\"/>\n",
              "  </svg>\n",
              "      </button>\n",
              "      \n",
              "  <style>\n",
              "    .colab-df-container {\n",
              "      display:flex;\n",
              "      flex-wrap:wrap;\n",
              "      gap: 12px;\n",
              "    }\n",
              "\n",
              "    .colab-df-convert {\n",
              "      background-color: #E8F0FE;\n",
              "      border: none;\n",
              "      border-radius: 50%;\n",
              "      cursor: pointer;\n",
              "      display: none;\n",
              "      fill: #1967D2;\n",
              "      height: 32px;\n",
              "      padding: 0 0 0 0;\n",
              "      width: 32px;\n",
              "    }\n",
              "\n",
              "    .colab-df-convert:hover {\n",
              "      background-color: #E2EBFA;\n",
              "      box-shadow: 0px 1px 2px rgba(60, 64, 67, 0.3), 0px 1px 3px 1px rgba(60, 64, 67, 0.15);\n",
              "      fill: #174EA6;\n",
              "    }\n",
              "\n",
              "    [theme=dark] .colab-df-convert {\n",
              "      background-color: #3B4455;\n",
              "      fill: #D2E3FC;\n",
              "    }\n",
              "\n",
              "    [theme=dark] .colab-df-convert:hover {\n",
              "      background-color: #434B5C;\n",
              "      box-shadow: 0px 1px 3px 1px rgba(0, 0, 0, 0.15);\n",
              "      filter: drop-shadow(0px 1px 2px rgba(0, 0, 0, 0.3));\n",
              "      fill: #FFFFFF;\n",
              "    }\n",
              "  </style>\n",
              "\n",
              "      <script>\n",
              "        const buttonEl =\n",
              "          document.querySelector('#df-f8d1ae42-7658-48a6-a8a3-50c418503f26 button.colab-df-convert');\n",
              "        buttonEl.style.display =\n",
              "          google.colab.kernel.accessAllowed ? 'block' : 'none';\n",
              "\n",
              "        async function convertToInteractive(key) {\n",
              "          const element = document.querySelector('#df-f8d1ae42-7658-48a6-a8a3-50c418503f26');\n",
              "          const dataTable =\n",
              "            await google.colab.kernel.invokeFunction('convertToInteractive',\n",
              "                                                     [key], {});\n",
              "          if (!dataTable) return;\n",
              "\n",
              "          const docLinkHtml = 'Like what you see? Visit the ' +\n",
              "            '<a target=\"_blank\" href=https://colab.research.google.com/notebooks/data_table.ipynb>data table notebook</a>'\n",
              "            + ' to learn more about interactive tables.';\n",
              "          element.innerHTML = '';\n",
              "          dataTable['output_type'] = 'display_data';\n",
              "          await google.colab.output.renderOutput(dataTable, element);\n",
              "          const docLink = document.createElement('div');\n",
              "          docLink.innerHTML = docLinkHtml;\n",
              "          element.appendChild(docLink);\n",
              "        }\n",
              "      </script>\n",
              "    </div>\n",
              "  </div>\n",
              "  "
            ]
          },
          "metadata": {},
          "execution_count": 15
        }
      ],
      "source": [
        "WD.head(2)"
      ]
    },
    {
      "cell_type": "code",
      "execution_count": null,
      "metadata": {
        "id": "wzNj7i_zJMDS"
      },
      "outputs": [],
      "source": [
        "WD.drop(columns = 'Unnamed: 0' , inplace = True )"
      ]
    },
    {
      "cell_type": "code",
      "execution_count": null,
      "metadata": {
        "colab": {
          "base_uri": "https://localhost:8080/",
          "height": 206
        },
        "id": "lTciINCcJYJi",
        "outputId": "29ed6246-6235-42a9-db51-ec02143a959f"
      },
      "outputs": [
        {
          "data": {
            "text/html": [
              "\n",
              "  <div id=\"df-d76cb0a4-2fdf-4a0b-87f2-67cbdfffbb29\">\n",
              "    <div class=\"colab-df-container\">\n",
              "      <div>\n",
              "<style scoped>\n",
              "    .dataframe tbody tr th:only-of-type {\n",
              "        vertical-align: middle;\n",
              "    }\n",
              "\n",
              "    .dataframe tbody tr th {\n",
              "        vertical-align: top;\n",
              "    }\n",
              "\n",
              "    .dataframe thead th {\n",
              "        text-align: right;\n",
              "    }\n",
              "</style>\n",
              "<table border=\"1\" class=\"dataframe\">\n",
              "  <thead>\n",
              "    <tr style=\"text-align: right;\">\n",
              "      <th></th>\n",
              "      <th>outlook</th>\n",
              "      <th>temperature</th>\n",
              "      <th>humidity</th>\n",
              "      <th>windy</th>\n",
              "      <th>play</th>\n",
              "    </tr>\n",
              "  </thead>\n",
              "  <tbody>\n",
              "    <tr>\n",
              "      <th>0</th>\n",
              "      <td>b'sunny'</td>\n",
              "      <td>85.0</td>\n",
              "      <td>85.0</td>\n",
              "      <td>b'FALSE'</td>\n",
              "      <td>b'no'</td>\n",
              "    </tr>\n",
              "    <tr>\n",
              "      <th>1</th>\n",
              "      <td>b'sunny'</td>\n",
              "      <td>80.0</td>\n",
              "      <td>90.0</td>\n",
              "      <td>b'TRUE'</td>\n",
              "      <td>b'no'</td>\n",
              "    </tr>\n",
              "    <tr>\n",
              "      <th>2</th>\n",
              "      <td>b'overcast'</td>\n",
              "      <td>83.0</td>\n",
              "      <td>86.0</td>\n",
              "      <td>b'FALSE'</td>\n",
              "      <td>b'yes'</td>\n",
              "    </tr>\n",
              "    <tr>\n",
              "      <th>3</th>\n",
              "      <td>b'rainy'</td>\n",
              "      <td>70.0</td>\n",
              "      <td>96.0</td>\n",
              "      <td>b'FALSE'</td>\n",
              "      <td>b'yes'</td>\n",
              "    </tr>\n",
              "    <tr>\n",
              "      <th>4</th>\n",
              "      <td>b'rainy'</td>\n",
              "      <td>68.0</td>\n",
              "      <td>80.0</td>\n",
              "      <td>b'FALSE'</td>\n",
              "      <td>b'yes'</td>\n",
              "    </tr>\n",
              "  </tbody>\n",
              "</table>\n",
              "</div>\n",
              "      <button class=\"colab-df-convert\" onclick=\"convertToInteractive('df-d76cb0a4-2fdf-4a0b-87f2-67cbdfffbb29')\"\n",
              "              title=\"Convert this dataframe to an interactive table.\"\n",
              "              style=\"display:none;\">\n",
              "        \n",
              "  <svg xmlns=\"http://www.w3.org/2000/svg\" height=\"24px\"viewBox=\"0 0 24 24\"\n",
              "       width=\"24px\">\n",
              "    <path d=\"M0 0h24v24H0V0z\" fill=\"none\"/>\n",
              "    <path d=\"M18.56 5.44l.94 2.06.94-2.06 2.06-.94-2.06-.94-.94-2.06-.94 2.06-2.06.94zm-11 1L8.5 8.5l.94-2.06 2.06-.94-2.06-.94L8.5 2.5l-.94 2.06-2.06.94zm10 10l.94 2.06.94-2.06 2.06-.94-2.06-.94-.94-2.06-.94 2.06-2.06.94z\"/><path d=\"M17.41 7.96l-1.37-1.37c-.4-.4-.92-.59-1.43-.59-.52 0-1.04.2-1.43.59L10.3 9.45l-7.72 7.72c-.78.78-.78 2.05 0 2.83L4 21.41c.39.39.9.59 1.41.59.51 0 1.02-.2 1.41-.59l7.78-7.78 2.81-2.81c.8-.78.8-2.07 0-2.86zM5.41 20L4 18.59l7.72-7.72 1.47 1.35L5.41 20z\"/>\n",
              "  </svg>\n",
              "      </button>\n",
              "      \n",
              "  <style>\n",
              "    .colab-df-container {\n",
              "      display:flex;\n",
              "      flex-wrap:wrap;\n",
              "      gap: 12px;\n",
              "    }\n",
              "\n",
              "    .colab-df-convert {\n",
              "      background-color: #E8F0FE;\n",
              "      border: none;\n",
              "      border-radius: 50%;\n",
              "      cursor: pointer;\n",
              "      display: none;\n",
              "      fill: #1967D2;\n",
              "      height: 32px;\n",
              "      padding: 0 0 0 0;\n",
              "      width: 32px;\n",
              "    }\n",
              "\n",
              "    .colab-df-convert:hover {\n",
              "      background-color: #E2EBFA;\n",
              "      box-shadow: 0px 1px 2px rgba(60, 64, 67, 0.3), 0px 1px 3px 1px rgba(60, 64, 67, 0.15);\n",
              "      fill: #174EA6;\n",
              "    }\n",
              "\n",
              "    [theme=dark] .colab-df-convert {\n",
              "      background-color: #3B4455;\n",
              "      fill: #D2E3FC;\n",
              "    }\n",
              "\n",
              "    [theme=dark] .colab-df-convert:hover {\n",
              "      background-color: #434B5C;\n",
              "      box-shadow: 0px 1px 3px 1px rgba(0, 0, 0, 0.15);\n",
              "      filter: drop-shadow(0px 1px 2px rgba(0, 0, 0, 0.3));\n",
              "      fill: #FFFFFF;\n",
              "    }\n",
              "  </style>\n",
              "\n",
              "      <script>\n",
              "        const buttonEl =\n",
              "          document.querySelector('#df-d76cb0a4-2fdf-4a0b-87f2-67cbdfffbb29 button.colab-df-convert');\n",
              "        buttonEl.style.display =\n",
              "          google.colab.kernel.accessAllowed ? 'block' : 'none';\n",
              "\n",
              "        async function convertToInteractive(key) {\n",
              "          const element = document.querySelector('#df-d76cb0a4-2fdf-4a0b-87f2-67cbdfffbb29');\n",
              "          const dataTable =\n",
              "            await google.colab.kernel.invokeFunction('convertToInteractive',\n",
              "                                                     [key], {});\n",
              "          if (!dataTable) return;\n",
              "\n",
              "          const docLinkHtml = 'Like what you see? Visit the ' +\n",
              "            '<a target=\"_blank\" href=https://colab.research.google.com/notebooks/data_table.ipynb>data table notebook</a>'\n",
              "            + ' to learn more about interactive tables.';\n",
              "          element.innerHTML = '';\n",
              "          dataTable['output_type'] = 'display_data';\n",
              "          await google.colab.output.renderOutput(dataTable, element);\n",
              "          const docLink = document.createElement('div');\n",
              "          docLink.innerHTML = docLinkHtml;\n",
              "          element.appendChild(docLink);\n",
              "        }\n",
              "      </script>\n",
              "    </div>\n",
              "  </div>\n",
              "  "
            ],
            "text/plain": [
              "       outlook  temperature  humidity     windy    play\n",
              "0     b'sunny'         85.0      85.0  b'FALSE'   b'no'\n",
              "1     b'sunny'         80.0      90.0   b'TRUE'   b'no'\n",
              "2  b'overcast'         83.0      86.0  b'FALSE'  b'yes'\n",
              "3     b'rainy'         70.0      96.0  b'FALSE'  b'yes'\n",
              "4     b'rainy'         68.0      80.0  b'FALSE'  b'yes'"
            ]
          },
          "execution_count": 31,
          "metadata": {},
          "output_type": "execute_result"
        }
      ],
      "source": [
        "WD.head()"
      ]
    },
    {
      "cell_type": "code",
      "execution_count": null,
      "metadata": {
        "id": "TjvkQ5UMM9eE"
      },
      "outputs": [],
      "source": [
        "WD['outlook'] = WD['outlook'].str[2:]\n",
        "WD['windy'] = WD['windy'].str[2:]\n",
        "WD['play'] = WD['play'].str[2:]"
      ]
    },
    {
      "cell_type": "code",
      "execution_count": null,
      "metadata": {
        "colab": {
          "base_uri": "https://localhost:8080/",
          "height": 112
        },
        "id": "gf6FqMIWOjW7",
        "outputId": "84db831b-3525-48bf-8bd9-21145bbf4d8d"
      },
      "outputs": [
        {
          "output_type": "execute_result",
          "data": {
            "text/plain": [
              "  outlook  temperature  humidity   windy play\n",
              "0  sunny'         85.0      85.0  FALSE'  no'\n",
              "1  sunny'         80.0      90.0   TRUE'  no'"
            ],
            "text/html": [
              "\n",
              "  <div id=\"df-303efde7-34eb-4440-a2ce-170d10f6348b\">\n",
              "    <div class=\"colab-df-container\">\n",
              "      <div>\n",
              "<style scoped>\n",
              "    .dataframe tbody tr th:only-of-type {\n",
              "        vertical-align: middle;\n",
              "    }\n",
              "\n",
              "    .dataframe tbody tr th {\n",
              "        vertical-align: top;\n",
              "    }\n",
              "\n",
              "    .dataframe thead th {\n",
              "        text-align: right;\n",
              "    }\n",
              "</style>\n",
              "<table border=\"1\" class=\"dataframe\">\n",
              "  <thead>\n",
              "    <tr style=\"text-align: right;\">\n",
              "      <th></th>\n",
              "      <th>outlook</th>\n",
              "      <th>temperature</th>\n",
              "      <th>humidity</th>\n",
              "      <th>windy</th>\n",
              "      <th>play</th>\n",
              "    </tr>\n",
              "  </thead>\n",
              "  <tbody>\n",
              "    <tr>\n",
              "      <th>0</th>\n",
              "      <td>sunny'</td>\n",
              "      <td>85.0</td>\n",
              "      <td>85.0</td>\n",
              "      <td>FALSE'</td>\n",
              "      <td>no'</td>\n",
              "    </tr>\n",
              "    <tr>\n",
              "      <th>1</th>\n",
              "      <td>sunny'</td>\n",
              "      <td>80.0</td>\n",
              "      <td>90.0</td>\n",
              "      <td>TRUE'</td>\n",
              "      <td>no'</td>\n",
              "    </tr>\n",
              "  </tbody>\n",
              "</table>\n",
              "</div>\n",
              "      <button class=\"colab-df-convert\" onclick=\"convertToInteractive('df-303efde7-34eb-4440-a2ce-170d10f6348b')\"\n",
              "              title=\"Convert this dataframe to an interactive table.\"\n",
              "              style=\"display:none;\">\n",
              "        \n",
              "  <svg xmlns=\"http://www.w3.org/2000/svg\" height=\"24px\"viewBox=\"0 0 24 24\"\n",
              "       width=\"24px\">\n",
              "    <path d=\"M0 0h24v24H0V0z\" fill=\"none\"/>\n",
              "    <path d=\"M18.56 5.44l.94 2.06.94-2.06 2.06-.94-2.06-.94-.94-2.06-.94 2.06-2.06.94zm-11 1L8.5 8.5l.94-2.06 2.06-.94-2.06-.94L8.5 2.5l-.94 2.06-2.06.94zm10 10l.94 2.06.94-2.06 2.06-.94-2.06-.94-.94-2.06-.94 2.06-2.06.94z\"/><path d=\"M17.41 7.96l-1.37-1.37c-.4-.4-.92-.59-1.43-.59-.52 0-1.04.2-1.43.59L10.3 9.45l-7.72 7.72c-.78.78-.78 2.05 0 2.83L4 21.41c.39.39.9.59 1.41.59.51 0 1.02-.2 1.41-.59l7.78-7.78 2.81-2.81c.8-.78.8-2.07 0-2.86zM5.41 20L4 18.59l7.72-7.72 1.47 1.35L5.41 20z\"/>\n",
              "  </svg>\n",
              "      </button>\n",
              "      \n",
              "  <style>\n",
              "    .colab-df-container {\n",
              "      display:flex;\n",
              "      flex-wrap:wrap;\n",
              "      gap: 12px;\n",
              "    }\n",
              "\n",
              "    .colab-df-convert {\n",
              "      background-color: #E8F0FE;\n",
              "      border: none;\n",
              "      border-radius: 50%;\n",
              "      cursor: pointer;\n",
              "      display: none;\n",
              "      fill: #1967D2;\n",
              "      height: 32px;\n",
              "      padding: 0 0 0 0;\n",
              "      width: 32px;\n",
              "    }\n",
              "\n",
              "    .colab-df-convert:hover {\n",
              "      background-color: #E2EBFA;\n",
              "      box-shadow: 0px 1px 2px rgba(60, 64, 67, 0.3), 0px 1px 3px 1px rgba(60, 64, 67, 0.15);\n",
              "      fill: #174EA6;\n",
              "    }\n",
              "\n",
              "    [theme=dark] .colab-df-convert {\n",
              "      background-color: #3B4455;\n",
              "      fill: #D2E3FC;\n",
              "    }\n",
              "\n",
              "    [theme=dark] .colab-df-convert:hover {\n",
              "      background-color: #434B5C;\n",
              "      box-shadow: 0px 1px 3px 1px rgba(0, 0, 0, 0.15);\n",
              "      filter: drop-shadow(0px 1px 2px rgba(0, 0, 0, 0.3));\n",
              "      fill: #FFFFFF;\n",
              "    }\n",
              "  </style>\n",
              "\n",
              "      <script>\n",
              "        const buttonEl =\n",
              "          document.querySelector('#df-303efde7-34eb-4440-a2ce-170d10f6348b button.colab-df-convert');\n",
              "        buttonEl.style.display =\n",
              "          google.colab.kernel.accessAllowed ? 'block' : 'none';\n",
              "\n",
              "        async function convertToInteractive(key) {\n",
              "          const element = document.querySelector('#df-303efde7-34eb-4440-a2ce-170d10f6348b');\n",
              "          const dataTable =\n",
              "            await google.colab.kernel.invokeFunction('convertToInteractive',\n",
              "                                                     [key], {});\n",
              "          if (!dataTable) return;\n",
              "\n",
              "          const docLinkHtml = 'Like what you see? Visit the ' +\n",
              "            '<a target=\"_blank\" href=https://colab.research.google.com/notebooks/data_table.ipynb>data table notebook</a>'\n",
              "            + ' to learn more about interactive tables.';\n",
              "          element.innerHTML = '';\n",
              "          dataTable['output_type'] = 'display_data';\n",
              "          await google.colab.output.renderOutput(dataTable, element);\n",
              "          const docLink = document.createElement('div');\n",
              "          docLink.innerHTML = docLinkHtml;\n",
              "          element.appendChild(docLink);\n",
              "        }\n",
              "      </script>\n",
              "    </div>\n",
              "  </div>\n",
              "  "
            ]
          },
          "metadata": {},
          "execution_count": 18
        }
      ],
      "source": [
        "WD.head(2)"
      ]
    },
    {
      "cell_type": "code",
      "execution_count": null,
      "metadata": {
        "id": "dT8Pf6QFPFs4"
      },
      "outputs": [],
      "source": [
        "WD['windy'] = WD['windy'].str[:-1]\n",
        "WD['outlook'] = WD['outlook'].str[:-1]\n",
        "WD['play'] = WD['play'].str[:-1]"
      ]
    },
    {
      "cell_type": "code",
      "execution_count": null,
      "metadata": {
        "colab": {
          "base_uri": "https://localhost:8080/",
          "height": 112
        },
        "id": "860uVpqPO9Kl",
        "outputId": "189b8b04-7fee-4aa9-9520-bd92b6cc70d8"
      },
      "outputs": [
        {
          "output_type": "execute_result",
          "data": {
            "text/plain": [
              "  outlook  temperature  humidity  windy play\n",
              "0   sunny         85.0      85.0  FALSE   no\n",
              "1   sunny         80.0      90.0   TRUE   no"
            ],
            "text/html": [
              "\n",
              "  <div id=\"df-16a1860d-ff8c-4585-a652-9dd601d96f8c\">\n",
              "    <div class=\"colab-df-container\">\n",
              "      <div>\n",
              "<style scoped>\n",
              "    .dataframe tbody tr th:only-of-type {\n",
              "        vertical-align: middle;\n",
              "    }\n",
              "\n",
              "    .dataframe tbody tr th {\n",
              "        vertical-align: top;\n",
              "    }\n",
              "\n",
              "    .dataframe thead th {\n",
              "        text-align: right;\n",
              "    }\n",
              "</style>\n",
              "<table border=\"1\" class=\"dataframe\">\n",
              "  <thead>\n",
              "    <tr style=\"text-align: right;\">\n",
              "      <th></th>\n",
              "      <th>outlook</th>\n",
              "      <th>temperature</th>\n",
              "      <th>humidity</th>\n",
              "      <th>windy</th>\n",
              "      <th>play</th>\n",
              "    </tr>\n",
              "  </thead>\n",
              "  <tbody>\n",
              "    <tr>\n",
              "      <th>0</th>\n",
              "      <td>sunny</td>\n",
              "      <td>85.0</td>\n",
              "      <td>85.0</td>\n",
              "      <td>FALSE</td>\n",
              "      <td>no</td>\n",
              "    </tr>\n",
              "    <tr>\n",
              "      <th>1</th>\n",
              "      <td>sunny</td>\n",
              "      <td>80.0</td>\n",
              "      <td>90.0</td>\n",
              "      <td>TRUE</td>\n",
              "      <td>no</td>\n",
              "    </tr>\n",
              "  </tbody>\n",
              "</table>\n",
              "</div>\n",
              "      <button class=\"colab-df-convert\" onclick=\"convertToInteractive('df-16a1860d-ff8c-4585-a652-9dd601d96f8c')\"\n",
              "              title=\"Convert this dataframe to an interactive table.\"\n",
              "              style=\"display:none;\">\n",
              "        \n",
              "  <svg xmlns=\"http://www.w3.org/2000/svg\" height=\"24px\"viewBox=\"0 0 24 24\"\n",
              "       width=\"24px\">\n",
              "    <path d=\"M0 0h24v24H0V0z\" fill=\"none\"/>\n",
              "    <path d=\"M18.56 5.44l.94 2.06.94-2.06 2.06-.94-2.06-.94-.94-2.06-.94 2.06-2.06.94zm-11 1L8.5 8.5l.94-2.06 2.06-.94-2.06-.94L8.5 2.5l-.94 2.06-2.06.94zm10 10l.94 2.06.94-2.06 2.06-.94-2.06-.94-.94-2.06-.94 2.06-2.06.94z\"/><path d=\"M17.41 7.96l-1.37-1.37c-.4-.4-.92-.59-1.43-.59-.52 0-1.04.2-1.43.59L10.3 9.45l-7.72 7.72c-.78.78-.78 2.05 0 2.83L4 21.41c.39.39.9.59 1.41.59.51 0 1.02-.2 1.41-.59l7.78-7.78 2.81-2.81c.8-.78.8-2.07 0-2.86zM5.41 20L4 18.59l7.72-7.72 1.47 1.35L5.41 20z\"/>\n",
              "  </svg>\n",
              "      </button>\n",
              "      \n",
              "  <style>\n",
              "    .colab-df-container {\n",
              "      display:flex;\n",
              "      flex-wrap:wrap;\n",
              "      gap: 12px;\n",
              "    }\n",
              "\n",
              "    .colab-df-convert {\n",
              "      background-color: #E8F0FE;\n",
              "      border: none;\n",
              "      border-radius: 50%;\n",
              "      cursor: pointer;\n",
              "      display: none;\n",
              "      fill: #1967D2;\n",
              "      height: 32px;\n",
              "      padding: 0 0 0 0;\n",
              "      width: 32px;\n",
              "    }\n",
              "\n",
              "    .colab-df-convert:hover {\n",
              "      background-color: #E2EBFA;\n",
              "      box-shadow: 0px 1px 2px rgba(60, 64, 67, 0.3), 0px 1px 3px 1px rgba(60, 64, 67, 0.15);\n",
              "      fill: #174EA6;\n",
              "    }\n",
              "\n",
              "    [theme=dark] .colab-df-convert {\n",
              "      background-color: #3B4455;\n",
              "      fill: #D2E3FC;\n",
              "    }\n",
              "\n",
              "    [theme=dark] .colab-df-convert:hover {\n",
              "      background-color: #434B5C;\n",
              "      box-shadow: 0px 1px 3px 1px rgba(0, 0, 0, 0.15);\n",
              "      filter: drop-shadow(0px 1px 2px rgba(0, 0, 0, 0.3));\n",
              "      fill: #FFFFFF;\n",
              "    }\n",
              "  </style>\n",
              "\n",
              "      <script>\n",
              "        const buttonEl =\n",
              "          document.querySelector('#df-16a1860d-ff8c-4585-a652-9dd601d96f8c button.colab-df-convert');\n",
              "        buttonEl.style.display =\n",
              "          google.colab.kernel.accessAllowed ? 'block' : 'none';\n",
              "\n",
              "        async function convertToInteractive(key) {\n",
              "          const element = document.querySelector('#df-16a1860d-ff8c-4585-a652-9dd601d96f8c');\n",
              "          const dataTable =\n",
              "            await google.colab.kernel.invokeFunction('convertToInteractive',\n",
              "                                                     [key], {});\n",
              "          if (!dataTable) return;\n",
              "\n",
              "          const docLinkHtml = 'Like what you see? Visit the ' +\n",
              "            '<a target=\"_blank\" href=https://colab.research.google.com/notebooks/data_table.ipynb>data table notebook</a>'\n",
              "            + ' to learn more about interactive tables.';\n",
              "          element.innerHTML = '';\n",
              "          dataTable['output_type'] = 'display_data';\n",
              "          await google.colab.output.renderOutput(dataTable, element);\n",
              "          const docLink = document.createElement('div');\n",
              "          docLink.innerHTML = docLinkHtml;\n",
              "          element.appendChild(docLink);\n",
              "        }\n",
              "      </script>\n",
              "    </div>\n",
              "  </div>\n",
              "  "
            ]
          },
          "metadata": {},
          "execution_count": 20
        }
      ],
      "source": [
        "WD.head(2)"
      ]
    },
    {
      "cell_type": "code",
      "execution_count": null,
      "metadata": {
        "colab": {
          "base_uri": "https://localhost:8080/"
        },
        "id": "Rp3iz-tVO_Gt",
        "outputId": "93ebce35-272c-4fd1-c464-0e60bb4ade08"
      },
      "outputs": [
        {
          "data": {
            "text/plain": [
              "outlook        0\n",
              "temperature    0\n",
              "humidity       0\n",
              "windy          0\n",
              "play           0\n",
              "dtype: int64"
            ]
          },
          "execution_count": 37,
          "metadata": {},
          "output_type": "execute_result"
        }
      ],
      "source": [
        "WD.isnull().sum()"
      ]
    },
    {
      "cell_type": "code",
      "execution_count": null,
      "metadata": {
        "colab": {
          "base_uri": "https://localhost:8080/",
          "height": 206
        },
        "id": "7vXWpCbqQvnv",
        "outputId": "e90fa476-8379-4ed0-c23e-51781dd2f0cb"
      },
      "outputs": [
        {
          "data": {
            "text/html": [
              "\n",
              "  <div id=\"df-c87d7394-d516-47d0-8479-42cbd2609a6f\">\n",
              "    <div class=\"colab-df-container\">\n",
              "      <div>\n",
              "<style scoped>\n",
              "    .dataframe tbody tr th:only-of-type {\n",
              "        vertical-align: middle;\n",
              "    }\n",
              "\n",
              "    .dataframe tbody tr th {\n",
              "        vertical-align: top;\n",
              "    }\n",
              "\n",
              "    .dataframe thead th {\n",
              "        text-align: right;\n",
              "    }\n",
              "</style>\n",
              "<table border=\"1\" class=\"dataframe\">\n",
              "  <thead>\n",
              "    <tr style=\"text-align: right;\">\n",
              "      <th></th>\n",
              "      <th>outlook</th>\n",
              "      <th>temperature</th>\n",
              "      <th>humidity</th>\n",
              "      <th>windy</th>\n",
              "      <th>play</th>\n",
              "    </tr>\n",
              "  </thead>\n",
              "  <tbody>\n",
              "    <tr>\n",
              "      <th>0</th>\n",
              "      <td>sunny</td>\n",
              "      <td>85.0</td>\n",
              "      <td>85.0</td>\n",
              "      <td>FALSE</td>\n",
              "      <td>no</td>\n",
              "    </tr>\n",
              "    <tr>\n",
              "      <th>1</th>\n",
              "      <td>sunny</td>\n",
              "      <td>80.0</td>\n",
              "      <td>90.0</td>\n",
              "      <td>TRUE</td>\n",
              "      <td>no</td>\n",
              "    </tr>\n",
              "    <tr>\n",
              "      <th>2</th>\n",
              "      <td>overcast</td>\n",
              "      <td>83.0</td>\n",
              "      <td>86.0</td>\n",
              "      <td>FALSE</td>\n",
              "      <td>yes</td>\n",
              "    </tr>\n",
              "    <tr>\n",
              "      <th>3</th>\n",
              "      <td>rainy</td>\n",
              "      <td>70.0</td>\n",
              "      <td>96.0</td>\n",
              "      <td>FALSE</td>\n",
              "      <td>yes</td>\n",
              "    </tr>\n",
              "    <tr>\n",
              "      <th>4</th>\n",
              "      <td>rainy</td>\n",
              "      <td>68.0</td>\n",
              "      <td>80.0</td>\n",
              "      <td>FALSE</td>\n",
              "      <td>yes</td>\n",
              "    </tr>\n",
              "  </tbody>\n",
              "</table>\n",
              "</div>\n",
              "      <button class=\"colab-df-convert\" onclick=\"convertToInteractive('df-c87d7394-d516-47d0-8479-42cbd2609a6f')\"\n",
              "              title=\"Convert this dataframe to an interactive table.\"\n",
              "              style=\"display:none;\">\n",
              "        \n",
              "  <svg xmlns=\"http://www.w3.org/2000/svg\" height=\"24px\"viewBox=\"0 0 24 24\"\n",
              "       width=\"24px\">\n",
              "    <path d=\"M0 0h24v24H0V0z\" fill=\"none\"/>\n",
              "    <path d=\"M18.56 5.44l.94 2.06.94-2.06 2.06-.94-2.06-.94-.94-2.06-.94 2.06-2.06.94zm-11 1L8.5 8.5l.94-2.06 2.06-.94-2.06-.94L8.5 2.5l-.94 2.06-2.06.94zm10 10l.94 2.06.94-2.06 2.06-.94-2.06-.94-.94-2.06-.94 2.06-2.06.94z\"/><path d=\"M17.41 7.96l-1.37-1.37c-.4-.4-.92-.59-1.43-.59-.52 0-1.04.2-1.43.59L10.3 9.45l-7.72 7.72c-.78.78-.78 2.05 0 2.83L4 21.41c.39.39.9.59 1.41.59.51 0 1.02-.2 1.41-.59l7.78-7.78 2.81-2.81c.8-.78.8-2.07 0-2.86zM5.41 20L4 18.59l7.72-7.72 1.47 1.35L5.41 20z\"/>\n",
              "  </svg>\n",
              "      </button>\n",
              "      \n",
              "  <style>\n",
              "    .colab-df-container {\n",
              "      display:flex;\n",
              "      flex-wrap:wrap;\n",
              "      gap: 12px;\n",
              "    }\n",
              "\n",
              "    .colab-df-convert {\n",
              "      background-color: #E8F0FE;\n",
              "      border: none;\n",
              "      border-radius: 50%;\n",
              "      cursor: pointer;\n",
              "      display: none;\n",
              "      fill: #1967D2;\n",
              "      height: 32px;\n",
              "      padding: 0 0 0 0;\n",
              "      width: 32px;\n",
              "    }\n",
              "\n",
              "    .colab-df-convert:hover {\n",
              "      background-color: #E2EBFA;\n",
              "      box-shadow: 0px 1px 2px rgba(60, 64, 67, 0.3), 0px 1px 3px 1px rgba(60, 64, 67, 0.15);\n",
              "      fill: #174EA6;\n",
              "    }\n",
              "\n",
              "    [theme=dark] .colab-df-convert {\n",
              "      background-color: #3B4455;\n",
              "      fill: #D2E3FC;\n",
              "    }\n",
              "\n",
              "    [theme=dark] .colab-df-convert:hover {\n",
              "      background-color: #434B5C;\n",
              "      box-shadow: 0px 1px 3px 1px rgba(0, 0, 0, 0.15);\n",
              "      filter: drop-shadow(0px 1px 2px rgba(0, 0, 0, 0.3));\n",
              "      fill: #FFFFFF;\n",
              "    }\n",
              "  </style>\n",
              "\n",
              "      <script>\n",
              "        const buttonEl =\n",
              "          document.querySelector('#df-c87d7394-d516-47d0-8479-42cbd2609a6f button.colab-df-convert');\n",
              "        buttonEl.style.display =\n",
              "          google.colab.kernel.accessAllowed ? 'block' : 'none';\n",
              "\n",
              "        async function convertToInteractive(key) {\n",
              "          const element = document.querySelector('#df-c87d7394-d516-47d0-8479-42cbd2609a6f');\n",
              "          const dataTable =\n",
              "            await google.colab.kernel.invokeFunction('convertToInteractive',\n",
              "                                                     [key], {});\n",
              "          if (!dataTable) return;\n",
              "\n",
              "          const docLinkHtml = 'Like what you see? Visit the ' +\n",
              "            '<a target=\"_blank\" href=https://colab.research.google.com/notebooks/data_table.ipynb>data table notebook</a>'\n",
              "            + ' to learn more about interactive tables.';\n",
              "          element.innerHTML = '';\n",
              "          dataTable['output_type'] = 'display_data';\n",
              "          await google.colab.output.renderOutput(dataTable, element);\n",
              "          const docLink = document.createElement('div');\n",
              "          docLink.innerHTML = docLinkHtml;\n",
              "          element.appendChild(docLink);\n",
              "        }\n",
              "      </script>\n",
              "    </div>\n",
              "  </div>\n",
              "  "
            ],
            "text/plain": [
              "    outlook  temperature  humidity  windy play\n",
              "0     sunny         85.0      85.0  FALSE   no\n",
              "1     sunny         80.0      90.0   TRUE   no\n",
              "2  overcast         83.0      86.0  FALSE  yes\n",
              "3     rainy         70.0      96.0  FALSE  yes\n",
              "4     rainy         68.0      80.0  FALSE  yes"
            ]
          },
          "execution_count": 38,
          "metadata": {},
          "output_type": "execute_result"
        }
      ],
      "source": [
        "WD.head()"
      ]
    },
    {
      "cell_type": "code",
      "execution_count": null,
      "metadata": {
        "id": "VrJBvIZRECjB"
      },
      "outputs": [],
      "source": [
        "WD[\"outlook\"]=label_encoder.fit_transform(WD['outlook'])"
      ]
    },
    {
      "cell_type": "code",
      "execution_count": null,
      "metadata": {
        "id": "quFUQJXKQyQE"
      },
      "outputs": [],
      "source": [
        "WD['windy'].replace({'FALSE': 0, 'TRUE': 1}, inplace=True)"
      ]
    },
    {
      "cell_type": "code",
      "execution_count": null,
      "metadata": {
        "id": "gK5DTWDUCJlM"
      },
      "outputs": [],
      "source": [
        "WD['play'].replace({'no': 0, 'yes': 1}, inplace=True)"
      ]
    },
    {
      "cell_type": "code",
      "source": [
        "WD.head(2)"
      ],
      "metadata": {
        "colab": {
          "base_uri": "https://localhost:8080/",
          "height": 112
        },
        "id": "xrkdTpBmYUox",
        "outputId": "afe1f692-4bf5-469e-e762-6170989b8d38"
      },
      "execution_count": null,
      "outputs": [
        {
          "output_type": "execute_result",
          "data": {
            "text/plain": [
              "   outlook  temperature  humidity  windy  play\n",
              "0        2         85.0      85.0      0     0\n",
              "1        2         80.0      90.0      1     0"
            ],
            "text/html": [
              "\n",
              "  <div id=\"df-7edd5f90-b9dc-4458-a192-b0a241b3d1ea\">\n",
              "    <div class=\"colab-df-container\">\n",
              "      <div>\n",
              "<style scoped>\n",
              "    .dataframe tbody tr th:only-of-type {\n",
              "        vertical-align: middle;\n",
              "    }\n",
              "\n",
              "    .dataframe tbody tr th {\n",
              "        vertical-align: top;\n",
              "    }\n",
              "\n",
              "    .dataframe thead th {\n",
              "        text-align: right;\n",
              "    }\n",
              "</style>\n",
              "<table border=\"1\" class=\"dataframe\">\n",
              "  <thead>\n",
              "    <tr style=\"text-align: right;\">\n",
              "      <th></th>\n",
              "      <th>outlook</th>\n",
              "      <th>temperature</th>\n",
              "      <th>humidity</th>\n",
              "      <th>windy</th>\n",
              "      <th>play</th>\n",
              "    </tr>\n",
              "  </thead>\n",
              "  <tbody>\n",
              "    <tr>\n",
              "      <th>0</th>\n",
              "      <td>2</td>\n",
              "      <td>85.0</td>\n",
              "      <td>85.0</td>\n",
              "      <td>0</td>\n",
              "      <td>0</td>\n",
              "    </tr>\n",
              "    <tr>\n",
              "      <th>1</th>\n",
              "      <td>2</td>\n",
              "      <td>80.0</td>\n",
              "      <td>90.0</td>\n",
              "      <td>1</td>\n",
              "      <td>0</td>\n",
              "    </tr>\n",
              "  </tbody>\n",
              "</table>\n",
              "</div>\n",
              "      <button class=\"colab-df-convert\" onclick=\"convertToInteractive('df-7edd5f90-b9dc-4458-a192-b0a241b3d1ea')\"\n",
              "              title=\"Convert this dataframe to an interactive table.\"\n",
              "              style=\"display:none;\">\n",
              "        \n",
              "  <svg xmlns=\"http://www.w3.org/2000/svg\" height=\"24px\"viewBox=\"0 0 24 24\"\n",
              "       width=\"24px\">\n",
              "    <path d=\"M0 0h24v24H0V0z\" fill=\"none\"/>\n",
              "    <path d=\"M18.56 5.44l.94 2.06.94-2.06 2.06-.94-2.06-.94-.94-2.06-.94 2.06-2.06.94zm-11 1L8.5 8.5l.94-2.06 2.06-.94-2.06-.94L8.5 2.5l-.94 2.06-2.06.94zm10 10l.94 2.06.94-2.06 2.06-.94-2.06-.94-.94-2.06-.94 2.06-2.06.94z\"/><path d=\"M17.41 7.96l-1.37-1.37c-.4-.4-.92-.59-1.43-.59-.52 0-1.04.2-1.43.59L10.3 9.45l-7.72 7.72c-.78.78-.78 2.05 0 2.83L4 21.41c.39.39.9.59 1.41.59.51 0 1.02-.2 1.41-.59l7.78-7.78 2.81-2.81c.8-.78.8-2.07 0-2.86zM5.41 20L4 18.59l7.72-7.72 1.47 1.35L5.41 20z\"/>\n",
              "  </svg>\n",
              "      </button>\n",
              "      \n",
              "  <style>\n",
              "    .colab-df-container {\n",
              "      display:flex;\n",
              "      flex-wrap:wrap;\n",
              "      gap: 12px;\n",
              "    }\n",
              "\n",
              "    .colab-df-convert {\n",
              "      background-color: #E8F0FE;\n",
              "      border: none;\n",
              "      border-radius: 50%;\n",
              "      cursor: pointer;\n",
              "      display: none;\n",
              "      fill: #1967D2;\n",
              "      height: 32px;\n",
              "      padding: 0 0 0 0;\n",
              "      width: 32px;\n",
              "    }\n",
              "\n",
              "    .colab-df-convert:hover {\n",
              "      background-color: #E2EBFA;\n",
              "      box-shadow: 0px 1px 2px rgba(60, 64, 67, 0.3), 0px 1px 3px 1px rgba(60, 64, 67, 0.15);\n",
              "      fill: #174EA6;\n",
              "    }\n",
              "\n",
              "    [theme=dark] .colab-df-convert {\n",
              "      background-color: #3B4455;\n",
              "      fill: #D2E3FC;\n",
              "    }\n",
              "\n",
              "    [theme=dark] .colab-df-convert:hover {\n",
              "      background-color: #434B5C;\n",
              "      box-shadow: 0px 1px 3px 1px rgba(0, 0, 0, 0.15);\n",
              "      filter: drop-shadow(0px 1px 2px rgba(0, 0, 0, 0.3));\n",
              "      fill: #FFFFFF;\n",
              "    }\n",
              "  </style>\n",
              "\n",
              "      <script>\n",
              "        const buttonEl =\n",
              "          document.querySelector('#df-7edd5f90-b9dc-4458-a192-b0a241b3d1ea button.colab-df-convert');\n",
              "        buttonEl.style.display =\n",
              "          google.colab.kernel.accessAllowed ? 'block' : 'none';\n",
              "\n",
              "        async function convertToInteractive(key) {\n",
              "          const element = document.querySelector('#df-7edd5f90-b9dc-4458-a192-b0a241b3d1ea');\n",
              "          const dataTable =\n",
              "            await google.colab.kernel.invokeFunction('convertToInteractive',\n",
              "                                                     [key], {});\n",
              "          if (!dataTable) return;\n",
              "\n",
              "          const docLinkHtml = 'Like what you see? Visit the ' +\n",
              "            '<a target=\"_blank\" href=https://colab.research.google.com/notebooks/data_table.ipynb>data table notebook</a>'\n",
              "            + ' to learn more about interactive tables.';\n",
              "          element.innerHTML = '';\n",
              "          dataTable['output_type'] = 'display_data';\n",
              "          await google.colab.output.renderOutput(dataTable, element);\n",
              "          const docLink = document.createElement('div');\n",
              "          docLink.innerHTML = docLinkHtml;\n",
              "          element.appendChild(docLink);\n",
              "        }\n",
              "      </script>\n",
              "    </div>\n",
              "  </div>\n",
              "  "
            ]
          },
          "metadata": {},
          "execution_count": 25
        }
      ]
    },
    {
      "cell_type": "markdown",
      "metadata": {
        "id": "_sVhnsIkPJ3w"
      },
      "source": [
        "# QUESTION NO 4"
      ]
    },
    {
      "cell_type": "markdown",
      "metadata": {
        "id": "PA0IX-LRPNsX"
      },
      "source": [
        "**Demonstration of classification process on dataset student.csv using Naïve algorithm** "
      ]
    },
    {
      "cell_type": "code",
      "execution_count": null,
      "metadata": {
        "id": "gn1ph8SFPLue"
      },
      "outputs": [],
      "source": [
        "SD = pd.read_csv(\"student.csv\")"
      ]
    },
    {
      "cell_type": "code",
      "execution_count": null,
      "metadata": {
        "colab": {
          "base_uri": "https://localhost:8080/",
          "height": 112
        },
        "id": "Sulf8n2IPSpH",
        "outputId": "16bd44ce-9c37-423c-ceee-82a13ab14dd8"
      },
      "outputs": [
        {
          "output_type": "execute_result",
          "data": {
            "text/plain": [
              "   age income student credit_ratting buy_computer\n",
              "0   30   high      no           fair           no\n",
              "1   30   high      no      excellent           no"
            ],
            "text/html": [
              "\n",
              "  <div id=\"df-afe384f9-78e3-4b42-affa-30a6cf408245\">\n",
              "    <div class=\"colab-df-container\">\n",
              "      <div>\n",
              "<style scoped>\n",
              "    .dataframe tbody tr th:only-of-type {\n",
              "        vertical-align: middle;\n",
              "    }\n",
              "\n",
              "    .dataframe tbody tr th {\n",
              "        vertical-align: top;\n",
              "    }\n",
              "\n",
              "    .dataframe thead th {\n",
              "        text-align: right;\n",
              "    }\n",
              "</style>\n",
              "<table border=\"1\" class=\"dataframe\">\n",
              "  <thead>\n",
              "    <tr style=\"text-align: right;\">\n",
              "      <th></th>\n",
              "      <th>age</th>\n",
              "      <th>income</th>\n",
              "      <th>student</th>\n",
              "      <th>credit_ratting</th>\n",
              "      <th>buy_computer</th>\n",
              "    </tr>\n",
              "  </thead>\n",
              "  <tbody>\n",
              "    <tr>\n",
              "      <th>0</th>\n",
              "      <td>30</td>\n",
              "      <td>high</td>\n",
              "      <td>no</td>\n",
              "      <td>fair</td>\n",
              "      <td>no</td>\n",
              "    </tr>\n",
              "    <tr>\n",
              "      <th>1</th>\n",
              "      <td>30</td>\n",
              "      <td>high</td>\n",
              "      <td>no</td>\n",
              "      <td>excellent</td>\n",
              "      <td>no</td>\n",
              "    </tr>\n",
              "  </tbody>\n",
              "</table>\n",
              "</div>\n",
              "      <button class=\"colab-df-convert\" onclick=\"convertToInteractive('df-afe384f9-78e3-4b42-affa-30a6cf408245')\"\n",
              "              title=\"Convert this dataframe to an interactive table.\"\n",
              "              style=\"display:none;\">\n",
              "        \n",
              "  <svg xmlns=\"http://www.w3.org/2000/svg\" height=\"24px\"viewBox=\"0 0 24 24\"\n",
              "       width=\"24px\">\n",
              "    <path d=\"M0 0h24v24H0V0z\" fill=\"none\"/>\n",
              "    <path d=\"M18.56 5.44l.94 2.06.94-2.06 2.06-.94-2.06-.94-.94-2.06-.94 2.06-2.06.94zm-11 1L8.5 8.5l.94-2.06 2.06-.94-2.06-.94L8.5 2.5l-.94 2.06-2.06.94zm10 10l.94 2.06.94-2.06 2.06-.94-2.06-.94-.94-2.06-.94 2.06-2.06.94z\"/><path d=\"M17.41 7.96l-1.37-1.37c-.4-.4-.92-.59-1.43-.59-.52 0-1.04.2-1.43.59L10.3 9.45l-7.72 7.72c-.78.78-.78 2.05 0 2.83L4 21.41c.39.39.9.59 1.41.59.51 0 1.02-.2 1.41-.59l7.78-7.78 2.81-2.81c.8-.78.8-2.07 0-2.86zM5.41 20L4 18.59l7.72-7.72 1.47 1.35L5.41 20z\"/>\n",
              "  </svg>\n",
              "      </button>\n",
              "      \n",
              "  <style>\n",
              "    .colab-df-container {\n",
              "      display:flex;\n",
              "      flex-wrap:wrap;\n",
              "      gap: 12px;\n",
              "    }\n",
              "\n",
              "    .colab-df-convert {\n",
              "      background-color: #E8F0FE;\n",
              "      border: none;\n",
              "      border-radius: 50%;\n",
              "      cursor: pointer;\n",
              "      display: none;\n",
              "      fill: #1967D2;\n",
              "      height: 32px;\n",
              "      padding: 0 0 0 0;\n",
              "      width: 32px;\n",
              "    }\n",
              "\n",
              "    .colab-df-convert:hover {\n",
              "      background-color: #E2EBFA;\n",
              "      box-shadow: 0px 1px 2px rgba(60, 64, 67, 0.3), 0px 1px 3px 1px rgba(60, 64, 67, 0.15);\n",
              "      fill: #174EA6;\n",
              "    }\n",
              "\n",
              "    [theme=dark] .colab-df-convert {\n",
              "      background-color: #3B4455;\n",
              "      fill: #D2E3FC;\n",
              "    }\n",
              "\n",
              "    [theme=dark] .colab-df-convert:hover {\n",
              "      background-color: #434B5C;\n",
              "      box-shadow: 0px 1px 3px 1px rgba(0, 0, 0, 0.15);\n",
              "      filter: drop-shadow(0px 1px 2px rgba(0, 0, 0, 0.3));\n",
              "      fill: #FFFFFF;\n",
              "    }\n",
              "  </style>\n",
              "\n",
              "      <script>\n",
              "        const buttonEl =\n",
              "          document.querySelector('#df-afe384f9-78e3-4b42-affa-30a6cf408245 button.colab-df-convert');\n",
              "        buttonEl.style.display =\n",
              "          google.colab.kernel.accessAllowed ? 'block' : 'none';\n",
              "\n",
              "        async function convertToInteractive(key) {\n",
              "          const element = document.querySelector('#df-afe384f9-78e3-4b42-affa-30a6cf408245');\n",
              "          const dataTable =\n",
              "            await google.colab.kernel.invokeFunction('convertToInteractive',\n",
              "                                                     [key], {});\n",
              "          if (!dataTable) return;\n",
              "\n",
              "          const docLinkHtml = 'Like what you see? Visit the ' +\n",
              "            '<a target=\"_blank\" href=https://colab.research.google.com/notebooks/data_table.ipynb>data table notebook</a>'\n",
              "            + ' to learn more about interactive tables.';\n",
              "          element.innerHTML = '';\n",
              "          dataTable['output_type'] = 'display_data';\n",
              "          await google.colab.output.renderOutput(dataTable, element);\n",
              "          const docLink = document.createElement('div');\n",
              "          docLink.innerHTML = docLinkHtml;\n",
              "          element.appendChild(docLink);\n",
              "        }\n",
              "      </script>\n",
              "    </div>\n",
              "  </div>\n",
              "  "
            ]
          },
          "metadata": {},
          "execution_count": 3
        }
      ],
      "source": [
        "SD.head(2)\n",
        "  "
      ]
    },
    {
      "cell_type": "code",
      "execution_count": null,
      "metadata": {
        "id": "m0kWLxiZPaMk"
      },
      "outputs": [],
      "source": [
        "SD[\"income\"]=label_encoder.fit_transform(SD['income'])"
      ]
    },
    {
      "cell_type": "code",
      "execution_count": null,
      "metadata": {
        "id": "5q0GjmNgPsPH"
      },
      "outputs": [],
      "source": [
        "SD['student'].replace({'no': 0, 'yes': 1}, inplace=True)"
      ]
    },
    {
      "cell_type": "code",
      "execution_count": null,
      "metadata": {
        "id": "0iBA1PkRQyDS"
      },
      "outputs": [],
      "source": [
        "SD['credit_ratting'].replace({'fair': 0, 'excellent': 1}, inplace=True)"
      ]
    },
    {
      "cell_type": "code",
      "execution_count": null,
      "metadata": {
        "id": "unI7ieYaaHNA"
      },
      "outputs": [],
      "source": [
        "SD['buy_computer'].replace({'no': 0, 'yes': 1}, inplace=True)"
      ]
    },
    {
      "cell_type": "code",
      "execution_count": null,
      "metadata": {
        "colab": {
          "base_uri": "https://localhost:8080/",
          "height": 112
        },
        "id": "4DaY0Y8aZtxp",
        "outputId": "1ff393e9-a599-4cf2-e465-757741160d00"
      },
      "outputs": [
        {
          "output_type": "execute_result",
          "data": {
            "text/plain": [
              "   age  income  student  credit_ratting  buy_computer\n",
              "0   30       0        0               0             0\n",
              "1   30       0        0               1             0"
            ],
            "text/html": [
              "\n",
              "  <div id=\"df-b59a1c02-06b4-4103-ab3f-341b3b653766\">\n",
              "    <div class=\"colab-df-container\">\n",
              "      <div>\n",
              "<style scoped>\n",
              "    .dataframe tbody tr th:only-of-type {\n",
              "        vertical-align: middle;\n",
              "    }\n",
              "\n",
              "    .dataframe tbody tr th {\n",
              "        vertical-align: top;\n",
              "    }\n",
              "\n",
              "    .dataframe thead th {\n",
              "        text-align: right;\n",
              "    }\n",
              "</style>\n",
              "<table border=\"1\" class=\"dataframe\">\n",
              "  <thead>\n",
              "    <tr style=\"text-align: right;\">\n",
              "      <th></th>\n",
              "      <th>age</th>\n",
              "      <th>income</th>\n",
              "      <th>student</th>\n",
              "      <th>credit_ratting</th>\n",
              "      <th>buy_computer</th>\n",
              "    </tr>\n",
              "  </thead>\n",
              "  <tbody>\n",
              "    <tr>\n",
              "      <th>0</th>\n",
              "      <td>30</td>\n",
              "      <td>0</td>\n",
              "      <td>0</td>\n",
              "      <td>0</td>\n",
              "      <td>0</td>\n",
              "    </tr>\n",
              "    <tr>\n",
              "      <th>1</th>\n",
              "      <td>30</td>\n",
              "      <td>0</td>\n",
              "      <td>0</td>\n",
              "      <td>1</td>\n",
              "      <td>0</td>\n",
              "    </tr>\n",
              "  </tbody>\n",
              "</table>\n",
              "</div>\n",
              "      <button class=\"colab-df-convert\" onclick=\"convertToInteractive('df-b59a1c02-06b4-4103-ab3f-341b3b653766')\"\n",
              "              title=\"Convert this dataframe to an interactive table.\"\n",
              "              style=\"display:none;\">\n",
              "        \n",
              "  <svg xmlns=\"http://www.w3.org/2000/svg\" height=\"24px\"viewBox=\"0 0 24 24\"\n",
              "       width=\"24px\">\n",
              "    <path d=\"M0 0h24v24H0V0z\" fill=\"none\"/>\n",
              "    <path d=\"M18.56 5.44l.94 2.06.94-2.06 2.06-.94-2.06-.94-.94-2.06-.94 2.06-2.06.94zm-11 1L8.5 8.5l.94-2.06 2.06-.94-2.06-.94L8.5 2.5l-.94 2.06-2.06.94zm10 10l.94 2.06.94-2.06 2.06-.94-2.06-.94-.94-2.06-.94 2.06-2.06.94z\"/><path d=\"M17.41 7.96l-1.37-1.37c-.4-.4-.92-.59-1.43-.59-.52 0-1.04.2-1.43.59L10.3 9.45l-7.72 7.72c-.78.78-.78 2.05 0 2.83L4 21.41c.39.39.9.59 1.41.59.51 0 1.02-.2 1.41-.59l7.78-7.78 2.81-2.81c.8-.78.8-2.07 0-2.86zM5.41 20L4 18.59l7.72-7.72 1.47 1.35L5.41 20z\"/>\n",
              "  </svg>\n",
              "      </button>\n",
              "      \n",
              "  <style>\n",
              "    .colab-df-container {\n",
              "      display:flex;\n",
              "      flex-wrap:wrap;\n",
              "      gap: 12px;\n",
              "    }\n",
              "\n",
              "    .colab-df-convert {\n",
              "      background-color: #E8F0FE;\n",
              "      border: none;\n",
              "      border-radius: 50%;\n",
              "      cursor: pointer;\n",
              "      display: none;\n",
              "      fill: #1967D2;\n",
              "      height: 32px;\n",
              "      padding: 0 0 0 0;\n",
              "      width: 32px;\n",
              "    }\n",
              "\n",
              "    .colab-df-convert:hover {\n",
              "      background-color: #E2EBFA;\n",
              "      box-shadow: 0px 1px 2px rgba(60, 64, 67, 0.3), 0px 1px 3px 1px rgba(60, 64, 67, 0.15);\n",
              "      fill: #174EA6;\n",
              "    }\n",
              "\n",
              "    [theme=dark] .colab-df-convert {\n",
              "      background-color: #3B4455;\n",
              "      fill: #D2E3FC;\n",
              "    }\n",
              "\n",
              "    [theme=dark] .colab-df-convert:hover {\n",
              "      background-color: #434B5C;\n",
              "      box-shadow: 0px 1px 3px 1px rgba(0, 0, 0, 0.15);\n",
              "      filter: drop-shadow(0px 1px 2px rgba(0, 0, 0, 0.3));\n",
              "      fill: #FFFFFF;\n",
              "    }\n",
              "  </style>\n",
              "\n",
              "      <script>\n",
              "        const buttonEl =\n",
              "          document.querySelector('#df-b59a1c02-06b4-4103-ab3f-341b3b653766 button.colab-df-convert');\n",
              "        buttonEl.style.display =\n",
              "          google.colab.kernel.accessAllowed ? 'block' : 'none';\n",
              "\n",
              "        async function convertToInteractive(key) {\n",
              "          const element = document.querySelector('#df-b59a1c02-06b4-4103-ab3f-341b3b653766');\n",
              "          const dataTable =\n",
              "            await google.colab.kernel.invokeFunction('convertToInteractive',\n",
              "                                                     [key], {});\n",
              "          if (!dataTable) return;\n",
              "\n",
              "          const docLinkHtml = 'Like what you see? Visit the ' +\n",
              "            '<a target=\"_blank\" href=https://colab.research.google.com/notebooks/data_table.ipynb>data table notebook</a>'\n",
              "            + ' to learn more about interactive tables.';\n",
              "          element.innerHTML = '';\n",
              "          dataTable['output_type'] = 'display_data';\n",
              "          await google.colab.output.renderOutput(dataTable, element);\n",
              "          const docLink = document.createElement('div');\n",
              "          docLink.innerHTML = docLinkHtml;\n",
              "          element.appendChild(docLink);\n",
              "        }\n",
              "      </script>\n",
              "    </div>\n",
              "  </div>\n",
              "  "
            ]
          },
          "metadata": {},
          "execution_count": 8
        }
      ],
      "source": [
        "SD.head(2)"
      ]
    },
    {
      "cell_type": "code",
      "execution_count": null,
      "metadata": {
        "id": "BWrVECDxakuU"
      },
      "outputs": [],
      "source": [
        "X = SD.drop(['buy_computer'], axis=1)\n",
        "y = SD['buy_computer']"
      ]
    },
    {
      "cell_type": "code",
      "execution_count": null,
      "metadata": {
        "id": "ZaCQ5rNEakqC"
      },
      "outputs": [],
      "source": [
        "from sklearn.model_selection import train_test_split\n",
        "X_train, X_test, y_train, y_test = train_test_split(X, y, test_size=0.4, random_state=1)"
      ]
    },
    {
      "cell_type": "code",
      "execution_count": null,
      "metadata": {
        "colab": {
          "base_uri": "https://localhost:8080/"
        },
        "id": "2N-r3HORaknf",
        "outputId": "3f77bf1f-9218-46c9-9f9f-b49360aabdda"
      },
      "outputs": [
        {
          "output_type": "execute_result",
          "data": {
            "text/plain": [
              "GaussianNB()"
            ]
          },
          "metadata": {},
          "execution_count": 11
        }
      ],
      "source": [
        "from sklearn.naive_bayes import GaussianNB\n",
        "gnb = GaussianNB()\n",
        "gnb.fit(X_train, y_train)"
      ]
    },
    {
      "cell_type": "code",
      "execution_count": null,
      "metadata": {
        "id": "O_F_Pfmlakko"
      },
      "outputs": [],
      "source": [
        "y_pred = gnb.predict(X_test)"
      ]
    },
    {
      "cell_type": "code",
      "execution_count": null,
      "metadata": {
        "colab": {
          "base_uri": "https://localhost:8080/"
        },
        "id": "zNlE2V-7akhf",
        "outputId": "e222e626-1029-44c3-9cc1-06d98a5dfcab"
      },
      "outputs": [
        {
          "output_type": "stream",
          "name": "stdout",
          "text": [
            "Gaussian Naive Bayes model accuracy is:  100.0\n"
          ]
        }
      ],
      "source": [
        "from sklearn import metrics\n",
        "print(\"Gaussian Naive Bayes model accuracy is: \", metrics.accuracy_score(y_test, y_pred)*100)"
      ]
    },
    {
      "cell_type": "markdown",
      "metadata": {
        "id": "FYBPtQwAWQ5q"
      },
      "source": [
        "# QUESTION NO 5"
      ]
    },
    {
      "cell_type": "markdown",
      "metadata": {
        "id": "WGH_NcSLWXPH"
      },
      "source": [
        "Demonstration of classification process on dataset credit using Decision tree."
      ]
    },
    {
      "cell_type": "code",
      "execution_count": null,
      "metadata": {
        "id": "qEFUZgQIWSuh"
      },
      "outputs": [],
      "source": [
        "CD = pd.read_csv('/content/Credit_customer.csv')"
      ]
    },
    {
      "cell_type": "code",
      "execution_count": null,
      "metadata": {
        "colab": {
          "base_uri": "https://localhost:8080/",
          "height": 240
        },
        "id": "O1FdPmc4WpXp",
        "outputId": "d0d15ecf-96d3-4fd2-d1ce-49fdd24c4cd4"
      },
      "outputs": [
        {
          "output_type": "execute_result",
          "data": {
            "text/plain": [
              "   CLIENTNUM     Attrition_Flag  Customer_Age Gender  Dependent_count  \\\n",
              "0  768805383  Existing Customer            45      M                3   \n",
              "1  818770008  Existing Customer            49      F                5   \n",
              "\n",
              "  Education_Level Marital_Status Income_Category Card_Category  \\\n",
              "0     High School        Married     $60K - $80K          Blue   \n",
              "1        Graduate         Single  Less than $40K          Blue   \n",
              "\n",
              "   Months_on_book  ...  Credit_Limit  Total_Revolving_Bal  Avg_Open_To_Buy  \\\n",
              "0              39  ...       12691.0                  777          11914.0   \n",
              "1              44  ...        8256.0                  864           7392.0   \n",
              "\n",
              "   Total_Amt_Chng_Q4_Q1  Total_Trans_Amt  Total_Trans_Ct  Total_Ct_Chng_Q4_Q1  \\\n",
              "0                 1.335             1144              42                1.625   \n",
              "1                 1.541             1291              33                3.714   \n",
              "\n",
              "   Avg_Utilization_Ratio  \\\n",
              "0                  0.061   \n",
              "1                  0.105   \n",
              "\n",
              "   Naive_Bayes_Classifier_Attrition_Flag_Card_Category_Contacts_Count_12_mon_Dependent_count_Education_Level_Months_Inactive_12_mon_1  \\\n",
              "0                                           0.000093                                                                                    \n",
              "1                                           0.000057                                                                                    \n",
              "\n",
              "   Naive_Bayes_Classifier_Attrition_Flag_Card_Category_Contacts_Count_12_mon_Dependent_count_Education_Level_Months_Inactive_12_mon_2  \n",
              "0                                            0.99991                                                                                   \n",
              "1                                            0.99994                                                                                   \n",
              "\n",
              "[2 rows x 23 columns]"
            ],
            "text/html": [
              "\n",
              "  <div id=\"df-636def76-a1aa-4df4-8621-efa503a75ffb\">\n",
              "    <div class=\"colab-df-container\">\n",
              "      <div>\n",
              "<style scoped>\n",
              "    .dataframe tbody tr th:only-of-type {\n",
              "        vertical-align: middle;\n",
              "    }\n",
              "\n",
              "    .dataframe tbody tr th {\n",
              "        vertical-align: top;\n",
              "    }\n",
              "\n",
              "    .dataframe thead th {\n",
              "        text-align: right;\n",
              "    }\n",
              "</style>\n",
              "<table border=\"1\" class=\"dataframe\">\n",
              "  <thead>\n",
              "    <tr style=\"text-align: right;\">\n",
              "      <th></th>\n",
              "      <th>CLIENTNUM</th>\n",
              "      <th>Attrition_Flag</th>\n",
              "      <th>Customer_Age</th>\n",
              "      <th>Gender</th>\n",
              "      <th>Dependent_count</th>\n",
              "      <th>Education_Level</th>\n",
              "      <th>Marital_Status</th>\n",
              "      <th>Income_Category</th>\n",
              "      <th>Card_Category</th>\n",
              "      <th>Months_on_book</th>\n",
              "      <th>...</th>\n",
              "      <th>Credit_Limit</th>\n",
              "      <th>Total_Revolving_Bal</th>\n",
              "      <th>Avg_Open_To_Buy</th>\n",
              "      <th>Total_Amt_Chng_Q4_Q1</th>\n",
              "      <th>Total_Trans_Amt</th>\n",
              "      <th>Total_Trans_Ct</th>\n",
              "      <th>Total_Ct_Chng_Q4_Q1</th>\n",
              "      <th>Avg_Utilization_Ratio</th>\n",
              "      <th>Naive_Bayes_Classifier_Attrition_Flag_Card_Category_Contacts_Count_12_mon_Dependent_count_Education_Level_Months_Inactive_12_mon_1</th>\n",
              "      <th>Naive_Bayes_Classifier_Attrition_Flag_Card_Category_Contacts_Count_12_mon_Dependent_count_Education_Level_Months_Inactive_12_mon_2</th>\n",
              "    </tr>\n",
              "  </thead>\n",
              "  <tbody>\n",
              "    <tr>\n",
              "      <th>0</th>\n",
              "      <td>768805383</td>\n",
              "      <td>Existing Customer</td>\n",
              "      <td>45</td>\n",
              "      <td>M</td>\n",
              "      <td>3</td>\n",
              "      <td>High School</td>\n",
              "      <td>Married</td>\n",
              "      <td>$60K - $80K</td>\n",
              "      <td>Blue</td>\n",
              "      <td>39</td>\n",
              "      <td>...</td>\n",
              "      <td>12691.0</td>\n",
              "      <td>777</td>\n",
              "      <td>11914.0</td>\n",
              "      <td>1.335</td>\n",
              "      <td>1144</td>\n",
              "      <td>42</td>\n",
              "      <td>1.625</td>\n",
              "      <td>0.061</td>\n",
              "      <td>0.000093</td>\n",
              "      <td>0.99991</td>\n",
              "    </tr>\n",
              "    <tr>\n",
              "      <th>1</th>\n",
              "      <td>818770008</td>\n",
              "      <td>Existing Customer</td>\n",
              "      <td>49</td>\n",
              "      <td>F</td>\n",
              "      <td>5</td>\n",
              "      <td>Graduate</td>\n",
              "      <td>Single</td>\n",
              "      <td>Less than $40K</td>\n",
              "      <td>Blue</td>\n",
              "      <td>44</td>\n",
              "      <td>...</td>\n",
              "      <td>8256.0</td>\n",
              "      <td>864</td>\n",
              "      <td>7392.0</td>\n",
              "      <td>1.541</td>\n",
              "      <td>1291</td>\n",
              "      <td>33</td>\n",
              "      <td>3.714</td>\n",
              "      <td>0.105</td>\n",
              "      <td>0.000057</td>\n",
              "      <td>0.99994</td>\n",
              "    </tr>\n",
              "  </tbody>\n",
              "</table>\n",
              "<p>2 rows × 23 columns</p>\n",
              "</div>\n",
              "      <button class=\"colab-df-convert\" onclick=\"convertToInteractive('df-636def76-a1aa-4df4-8621-efa503a75ffb')\"\n",
              "              title=\"Convert this dataframe to an interactive table.\"\n",
              "              style=\"display:none;\">\n",
              "        \n",
              "  <svg xmlns=\"http://www.w3.org/2000/svg\" height=\"24px\"viewBox=\"0 0 24 24\"\n",
              "       width=\"24px\">\n",
              "    <path d=\"M0 0h24v24H0V0z\" fill=\"none\"/>\n",
              "    <path d=\"M18.56 5.44l.94 2.06.94-2.06 2.06-.94-2.06-.94-.94-2.06-.94 2.06-2.06.94zm-11 1L8.5 8.5l.94-2.06 2.06-.94-2.06-.94L8.5 2.5l-.94 2.06-2.06.94zm10 10l.94 2.06.94-2.06 2.06-.94-2.06-.94-.94-2.06-.94 2.06-2.06.94z\"/><path d=\"M17.41 7.96l-1.37-1.37c-.4-.4-.92-.59-1.43-.59-.52 0-1.04.2-1.43.59L10.3 9.45l-7.72 7.72c-.78.78-.78 2.05 0 2.83L4 21.41c.39.39.9.59 1.41.59.51 0 1.02-.2 1.41-.59l7.78-7.78 2.81-2.81c.8-.78.8-2.07 0-2.86zM5.41 20L4 18.59l7.72-7.72 1.47 1.35L5.41 20z\"/>\n",
              "  </svg>\n",
              "      </button>\n",
              "      \n",
              "  <style>\n",
              "    .colab-df-container {\n",
              "      display:flex;\n",
              "      flex-wrap:wrap;\n",
              "      gap: 12px;\n",
              "    }\n",
              "\n",
              "    .colab-df-convert {\n",
              "      background-color: #E8F0FE;\n",
              "      border: none;\n",
              "      border-radius: 50%;\n",
              "      cursor: pointer;\n",
              "      display: none;\n",
              "      fill: #1967D2;\n",
              "      height: 32px;\n",
              "      padding: 0 0 0 0;\n",
              "      width: 32px;\n",
              "    }\n",
              "\n",
              "    .colab-df-convert:hover {\n",
              "      background-color: #E2EBFA;\n",
              "      box-shadow: 0px 1px 2px rgba(60, 64, 67, 0.3), 0px 1px 3px 1px rgba(60, 64, 67, 0.15);\n",
              "      fill: #174EA6;\n",
              "    }\n",
              "\n",
              "    [theme=dark] .colab-df-convert {\n",
              "      background-color: #3B4455;\n",
              "      fill: #D2E3FC;\n",
              "    }\n",
              "\n",
              "    [theme=dark] .colab-df-convert:hover {\n",
              "      background-color: #434B5C;\n",
              "      box-shadow: 0px 1px 3px 1px rgba(0, 0, 0, 0.15);\n",
              "      filter: drop-shadow(0px 1px 2px rgba(0, 0, 0, 0.3));\n",
              "      fill: #FFFFFF;\n",
              "    }\n",
              "  </style>\n",
              "\n",
              "      <script>\n",
              "        const buttonEl =\n",
              "          document.querySelector('#df-636def76-a1aa-4df4-8621-efa503a75ffb button.colab-df-convert');\n",
              "        buttonEl.style.display =\n",
              "          google.colab.kernel.accessAllowed ? 'block' : 'none';\n",
              "\n",
              "        async function convertToInteractive(key) {\n",
              "          const element = document.querySelector('#df-636def76-a1aa-4df4-8621-efa503a75ffb');\n",
              "          const dataTable =\n",
              "            await google.colab.kernel.invokeFunction('convertToInteractive',\n",
              "                                                     [key], {});\n",
              "          if (!dataTable) return;\n",
              "\n",
              "          const docLinkHtml = 'Like what you see? Visit the ' +\n",
              "            '<a target=\"_blank\" href=https://colab.research.google.com/notebooks/data_table.ipynb>data table notebook</a>'\n",
              "            + ' to learn more about interactive tables.';\n",
              "          element.innerHTML = '';\n",
              "          dataTable['output_type'] = 'display_data';\n",
              "          await google.colab.output.renderOutput(dataTable, element);\n",
              "          const docLink = document.createElement('div');\n",
              "          docLink.innerHTML = docLinkHtml;\n",
              "          element.appendChild(docLink);\n",
              "        }\n",
              "      </script>\n",
              "    </div>\n",
              "  </div>\n",
              "  "
            ]
          },
          "metadata": {},
          "execution_count": 15
        }
      ],
      "source": [
        "CD.head(2)"
      ]
    },
    {
      "cell_type": "code",
      "execution_count": null,
      "metadata": {
        "colab": {
          "base_uri": "https://localhost:8080/",
          "height": 308
        },
        "id": "zOgR248jW7OT",
        "outputId": "ee84dfdd-f252-4535-acc7-a95a341505e6"
      },
      "outputs": [
        {
          "output_type": "execute_result",
          "data": {
            "text/plain": [
              "      Attrition_Flag  Customer_Age Gender  Dependent_count Education_Level  \\\n",
              "0  Existing Customer            45      M                3     High School   \n",
              "1  Existing Customer            49      F                5        Graduate   \n",
              "2  Existing Customer            51      M                3        Graduate   \n",
              "3  Existing Customer            40      F                4     High School   \n",
              "\n",
              "  Marital_Status Income_Category Card_Category  Months_on_book  \\\n",
              "0        Married     $60K - $80K          Blue              39   \n",
              "1         Single  Less than $40K          Blue              44   \n",
              "2        Married    $80K - $120K          Blue              36   \n",
              "3        Unknown  Less than $40K          Blue              34   \n",
              "\n",
              "   Total_Relationship_Count  Months_Inactive_12_mon  Contacts_Count_12_mon  \\\n",
              "0                         5                       1                      3   \n",
              "1                         6                       1                      2   \n",
              "2                         4                       1                      0   \n",
              "3                         3                       4                      1   \n",
              "\n",
              "   Credit_Limit  Total_Revolving_Bal  Avg_Open_To_Buy  Total_Amt_Chng_Q4_Q1  \\\n",
              "0       12691.0                  777          11914.0                 1.335   \n",
              "1        8256.0                  864           7392.0                 1.541   \n",
              "2        3418.0                    0           3418.0                 2.594   \n",
              "3        3313.0                 2517            796.0                 1.405   \n",
              "\n",
              "   Total_Trans_Amt  Total_Trans_Ct  Total_Ct_Chng_Q4_Q1  Avg_Utilization_Ratio  \n",
              "0             1144              42                1.625                  0.061  \n",
              "1             1291              33                3.714                  0.105  \n",
              "2             1887              20                2.333                  0.000  \n",
              "3             1171              20                2.333                  0.760  "
            ],
            "text/html": [
              "\n",
              "  <div id=\"df-9796e202-4d43-4451-9ce2-cdce2042cd89\">\n",
              "    <div class=\"colab-df-container\">\n",
              "      <div>\n",
              "<style scoped>\n",
              "    .dataframe tbody tr th:only-of-type {\n",
              "        vertical-align: middle;\n",
              "    }\n",
              "\n",
              "    .dataframe tbody tr th {\n",
              "        vertical-align: top;\n",
              "    }\n",
              "\n",
              "    .dataframe thead th {\n",
              "        text-align: right;\n",
              "    }\n",
              "</style>\n",
              "<table border=\"1\" class=\"dataframe\">\n",
              "  <thead>\n",
              "    <tr style=\"text-align: right;\">\n",
              "      <th></th>\n",
              "      <th>Attrition_Flag</th>\n",
              "      <th>Customer_Age</th>\n",
              "      <th>Gender</th>\n",
              "      <th>Dependent_count</th>\n",
              "      <th>Education_Level</th>\n",
              "      <th>Marital_Status</th>\n",
              "      <th>Income_Category</th>\n",
              "      <th>Card_Category</th>\n",
              "      <th>Months_on_book</th>\n",
              "      <th>Total_Relationship_Count</th>\n",
              "      <th>Months_Inactive_12_mon</th>\n",
              "      <th>Contacts_Count_12_mon</th>\n",
              "      <th>Credit_Limit</th>\n",
              "      <th>Total_Revolving_Bal</th>\n",
              "      <th>Avg_Open_To_Buy</th>\n",
              "      <th>Total_Amt_Chng_Q4_Q1</th>\n",
              "      <th>Total_Trans_Amt</th>\n",
              "      <th>Total_Trans_Ct</th>\n",
              "      <th>Total_Ct_Chng_Q4_Q1</th>\n",
              "      <th>Avg_Utilization_Ratio</th>\n",
              "    </tr>\n",
              "  </thead>\n",
              "  <tbody>\n",
              "    <tr>\n",
              "      <th>0</th>\n",
              "      <td>Existing Customer</td>\n",
              "      <td>45</td>\n",
              "      <td>M</td>\n",
              "      <td>3</td>\n",
              "      <td>High School</td>\n",
              "      <td>Married</td>\n",
              "      <td>$60K - $80K</td>\n",
              "      <td>Blue</td>\n",
              "      <td>39</td>\n",
              "      <td>5</td>\n",
              "      <td>1</td>\n",
              "      <td>3</td>\n",
              "      <td>12691.0</td>\n",
              "      <td>777</td>\n",
              "      <td>11914.0</td>\n",
              "      <td>1.335</td>\n",
              "      <td>1144</td>\n",
              "      <td>42</td>\n",
              "      <td>1.625</td>\n",
              "      <td>0.061</td>\n",
              "    </tr>\n",
              "    <tr>\n",
              "      <th>1</th>\n",
              "      <td>Existing Customer</td>\n",
              "      <td>49</td>\n",
              "      <td>F</td>\n",
              "      <td>5</td>\n",
              "      <td>Graduate</td>\n",
              "      <td>Single</td>\n",
              "      <td>Less than $40K</td>\n",
              "      <td>Blue</td>\n",
              "      <td>44</td>\n",
              "      <td>6</td>\n",
              "      <td>1</td>\n",
              "      <td>2</td>\n",
              "      <td>8256.0</td>\n",
              "      <td>864</td>\n",
              "      <td>7392.0</td>\n",
              "      <td>1.541</td>\n",
              "      <td>1291</td>\n",
              "      <td>33</td>\n",
              "      <td>3.714</td>\n",
              "      <td>0.105</td>\n",
              "    </tr>\n",
              "    <tr>\n",
              "      <th>2</th>\n",
              "      <td>Existing Customer</td>\n",
              "      <td>51</td>\n",
              "      <td>M</td>\n",
              "      <td>3</td>\n",
              "      <td>Graduate</td>\n",
              "      <td>Married</td>\n",
              "      <td>$80K - $120K</td>\n",
              "      <td>Blue</td>\n",
              "      <td>36</td>\n",
              "      <td>4</td>\n",
              "      <td>1</td>\n",
              "      <td>0</td>\n",
              "      <td>3418.0</td>\n",
              "      <td>0</td>\n",
              "      <td>3418.0</td>\n",
              "      <td>2.594</td>\n",
              "      <td>1887</td>\n",
              "      <td>20</td>\n",
              "      <td>2.333</td>\n",
              "      <td>0.000</td>\n",
              "    </tr>\n",
              "    <tr>\n",
              "      <th>3</th>\n",
              "      <td>Existing Customer</td>\n",
              "      <td>40</td>\n",
              "      <td>F</td>\n",
              "      <td>4</td>\n",
              "      <td>High School</td>\n",
              "      <td>Unknown</td>\n",
              "      <td>Less than $40K</td>\n",
              "      <td>Blue</td>\n",
              "      <td>34</td>\n",
              "      <td>3</td>\n",
              "      <td>4</td>\n",
              "      <td>1</td>\n",
              "      <td>3313.0</td>\n",
              "      <td>2517</td>\n",
              "      <td>796.0</td>\n",
              "      <td>1.405</td>\n",
              "      <td>1171</td>\n",
              "      <td>20</td>\n",
              "      <td>2.333</td>\n",
              "      <td>0.760</td>\n",
              "    </tr>\n",
              "  </tbody>\n",
              "</table>\n",
              "</div>\n",
              "      <button class=\"colab-df-convert\" onclick=\"convertToInteractive('df-9796e202-4d43-4451-9ce2-cdce2042cd89')\"\n",
              "              title=\"Convert this dataframe to an interactive table.\"\n",
              "              style=\"display:none;\">\n",
              "        \n",
              "  <svg xmlns=\"http://www.w3.org/2000/svg\" height=\"24px\"viewBox=\"0 0 24 24\"\n",
              "       width=\"24px\">\n",
              "    <path d=\"M0 0h24v24H0V0z\" fill=\"none\"/>\n",
              "    <path d=\"M18.56 5.44l.94 2.06.94-2.06 2.06-.94-2.06-.94-.94-2.06-.94 2.06-2.06.94zm-11 1L8.5 8.5l.94-2.06 2.06-.94-2.06-.94L8.5 2.5l-.94 2.06-2.06.94zm10 10l.94 2.06.94-2.06 2.06-.94-2.06-.94-.94-2.06-.94 2.06-2.06.94z\"/><path d=\"M17.41 7.96l-1.37-1.37c-.4-.4-.92-.59-1.43-.59-.52 0-1.04.2-1.43.59L10.3 9.45l-7.72 7.72c-.78.78-.78 2.05 0 2.83L4 21.41c.39.39.9.59 1.41.59.51 0 1.02-.2 1.41-.59l7.78-7.78 2.81-2.81c.8-.78.8-2.07 0-2.86zM5.41 20L4 18.59l7.72-7.72 1.47 1.35L5.41 20z\"/>\n",
              "  </svg>\n",
              "      </button>\n",
              "      \n",
              "  <style>\n",
              "    .colab-df-container {\n",
              "      display:flex;\n",
              "      flex-wrap:wrap;\n",
              "      gap: 12px;\n",
              "    }\n",
              "\n",
              "    .colab-df-convert {\n",
              "      background-color: #E8F0FE;\n",
              "      border: none;\n",
              "      border-radius: 50%;\n",
              "      cursor: pointer;\n",
              "      display: none;\n",
              "      fill: #1967D2;\n",
              "      height: 32px;\n",
              "      padding: 0 0 0 0;\n",
              "      width: 32px;\n",
              "    }\n",
              "\n",
              "    .colab-df-convert:hover {\n",
              "      background-color: #E2EBFA;\n",
              "      box-shadow: 0px 1px 2px rgba(60, 64, 67, 0.3), 0px 1px 3px 1px rgba(60, 64, 67, 0.15);\n",
              "      fill: #174EA6;\n",
              "    }\n",
              "\n",
              "    [theme=dark] .colab-df-convert {\n",
              "      background-color: #3B4455;\n",
              "      fill: #D2E3FC;\n",
              "    }\n",
              "\n",
              "    [theme=dark] .colab-df-convert:hover {\n",
              "      background-color: #434B5C;\n",
              "      box-shadow: 0px 1px 3px 1px rgba(0, 0, 0, 0.15);\n",
              "      filter: drop-shadow(0px 1px 2px rgba(0, 0, 0, 0.3));\n",
              "      fill: #FFFFFF;\n",
              "    }\n",
              "  </style>\n",
              "\n",
              "      <script>\n",
              "        const buttonEl =\n",
              "          document.querySelector('#df-9796e202-4d43-4451-9ce2-cdce2042cd89 button.colab-df-convert');\n",
              "        buttonEl.style.display =\n",
              "          google.colab.kernel.accessAllowed ? 'block' : 'none';\n",
              "\n",
              "        async function convertToInteractive(key) {\n",
              "          const element = document.querySelector('#df-9796e202-4d43-4451-9ce2-cdce2042cd89');\n",
              "          const dataTable =\n",
              "            await google.colab.kernel.invokeFunction('convertToInteractive',\n",
              "                                                     [key], {});\n",
              "          if (!dataTable) return;\n",
              "\n",
              "          const docLinkHtml = 'Like what you see? Visit the ' +\n",
              "            '<a target=\"_blank\" href=https://colab.research.google.com/notebooks/data_table.ipynb>data table notebook</a>'\n",
              "            + ' to learn more about interactive tables.';\n",
              "          element.innerHTML = '';\n",
              "          dataTable['output_type'] = 'display_data';\n",
              "          await google.colab.output.renderOutput(dataTable, element);\n",
              "          const docLink = document.createElement('div');\n",
              "          docLink.innerHTML = docLinkHtml;\n",
              "          element.appendChild(docLink);\n",
              "        }\n",
              "      </script>\n",
              "    </div>\n",
              "  </div>\n",
              "  "
            ]
          },
          "metadata": {},
          "execution_count": 16
        }
      ],
      "source": [
        "CD = CD.iloc[:, :-2]\n",
        "CD.drop(['CLIENTNUM'], axis=1, inplace=True)\n",
        "CD.head(4)"
      ]
    },
    {
      "cell_type": "code",
      "execution_count": null,
      "metadata": {
        "colab": {
          "base_uri": "https://localhost:8080/"
        },
        "id": "JMdRqOYpXK9G",
        "outputId": "c988afff-93b2-4851-936d-adf6a220e8d5"
      },
      "outputs": [
        {
          "output_type": "execute_result",
          "data": {
            "text/plain": [
              "['Attrition_Flag',\n",
              " 'Gender',\n",
              " 'Education_Level',\n",
              " 'Marital_Status',\n",
              " 'Income_Category',\n",
              " 'Card_Category']"
            ]
          },
          "metadata": {},
          "execution_count": 18
        }
      ],
      "source": [
        "cat_col_names = CD.columns[CD.dtypes==object].tolist()\n",
        "cat_col_names"
      ]
    },
    {
      "cell_type": "code",
      "execution_count": null,
      "metadata": {
        "id": "50kqqkuuXb7N"
      },
      "outputs": [],
      "source": [
        "CD[cat_col_names] = CD[cat_col_names].apply(\n",
        "    lambda col: label_encoder.fit_transform(col))"
      ]
    },
    {
      "cell_type": "code",
      "execution_count": null,
      "metadata": {
        "id": "iG0ZlcObXsvw"
      },
      "outputs": [],
      "source": [
        "x = CD.drop(['Attrition_Flag'], axis=1)\n",
        "y = CD['Attrition_Flag']"
      ]
    },
    {
      "cell_type": "code",
      "execution_count": null,
      "metadata": {
        "id": "GrzapxutX0rw"
      },
      "outputs": [],
      "source": [
        "x_train, x_test, y_train, y_test = train_test_split(\n",
        "    x, y, test_size=0.3, random_state=0)"
      ]
    },
    {
      "cell_type": "code",
      "execution_count": null,
      "metadata": {
        "id": "VjROH6vfWqse"
      },
      "outputs": [],
      "source": [
        "from sklearn.tree import DecisionTreeClassifier\n",
        "from sklearn.metrics import roc_curve, auc"
      ]
    },
    {
      "cell_type": "code",
      "execution_count": null,
      "metadata": {
        "colab": {
          "base_uri": "https://localhost:8080/"
        },
        "id": "tWMZMm90X5qL",
        "outputId": "3bffd51e-415c-4d41-a9f0-19ca98207f9f"
      },
      "outputs": [
        {
          "output_type": "stream",
          "name": "stdout",
          "text": [
            "AUC: 88.13 %\n"
          ]
        }
      ],
      "source": [
        "model_DecTreeClass = DecisionTreeClassifier(random_state=0)\n",
        "model_DecTreeClass.fit(x_train, y_train)\n",
        "y_pred_DecTreeClass = model_DecTreeClass.predict(x_test)\n",
        "false_positive_rate, true_positive_rate, thresholds = roc_curve(y_test, y_pred_DecTreeClass)\n",
        "roc_auc = auc(false_positive_rate, true_positive_rate)\n",
        "print('AUC: %.2f' % (roc_auc*100), \"%\")"
      ]
    },
    {
      "cell_type": "markdown",
      "metadata": {
        "id": "Rev3S431bk3E"
      },
      "source": [
        "# QUESTION NO 6"
      ]
    },
    {
      "cell_type": "markdown",
      "source": [
        "Demonstration of classification rule process on dataset cancer.csv using KNN algorithm"
      ],
      "metadata": {
        "id": "5D05OILPJ5nd"
      }
    },
    {
      "cell_type": "code",
      "source": [
        "CData = pd.read_csv('cancer.csv')"
      ],
      "metadata": {
        "id": "cBtV9LeWMQ3K"
      },
      "execution_count": null,
      "outputs": []
    },
    {
      "cell_type": "code",
      "source": [
        "CData.head(2)"
      ],
      "metadata": {
        "colab": {
          "base_uri": "https://localhost:8080/",
          "height": 223
        },
        "id": "hN2xspynMzVl",
        "outputId": "47e77eef-4203-4348-8784-315fbc597590"
      },
      "execution_count": null,
      "outputs": [
        {
          "output_type": "execute_result",
          "data": {
            "text/plain": [
              "       id diagnosis  radius_mean  texture_mean  perimeter_mean  area_mean  \\\n",
              "0  842302         M        17.99         10.38           122.8     1001.0   \n",
              "1  842517         M        20.57         17.77           132.9     1326.0   \n",
              "\n",
              "   smoothness_mean  compactness_mean  concavity_mean  concave points_mean  \\\n",
              "0          0.11840           0.27760          0.3001              0.14710   \n",
              "1          0.08474           0.07864          0.0869              0.07017   \n",
              "\n",
              "   ...  texture_worst  perimeter_worst  area_worst  smoothness_worst  \\\n",
              "0  ...          17.33            184.6      2019.0            0.1622   \n",
              "1  ...          23.41            158.8      1956.0            0.1238   \n",
              "\n",
              "   compactness_worst  concavity_worst  concave points_worst  symmetry_worst  \\\n",
              "0             0.6656           0.7119                0.2654          0.4601   \n",
              "1             0.1866           0.2416                0.1860          0.2750   \n",
              "\n",
              "   fractal_dimension_worst  Unnamed: 32  \n",
              "0                  0.11890          NaN  \n",
              "1                  0.08902          NaN  \n",
              "\n",
              "[2 rows x 33 columns]"
            ],
            "text/html": [
              "\n",
              "  <div id=\"df-541d7f0c-ab03-4723-b681-1c5551731b9d\">\n",
              "    <div class=\"colab-df-container\">\n",
              "      <div>\n",
              "<style scoped>\n",
              "    .dataframe tbody tr th:only-of-type {\n",
              "        vertical-align: middle;\n",
              "    }\n",
              "\n",
              "    .dataframe tbody tr th {\n",
              "        vertical-align: top;\n",
              "    }\n",
              "\n",
              "    .dataframe thead th {\n",
              "        text-align: right;\n",
              "    }\n",
              "</style>\n",
              "<table border=\"1\" class=\"dataframe\">\n",
              "  <thead>\n",
              "    <tr style=\"text-align: right;\">\n",
              "      <th></th>\n",
              "      <th>id</th>\n",
              "      <th>diagnosis</th>\n",
              "      <th>radius_mean</th>\n",
              "      <th>texture_mean</th>\n",
              "      <th>perimeter_mean</th>\n",
              "      <th>area_mean</th>\n",
              "      <th>smoothness_mean</th>\n",
              "      <th>compactness_mean</th>\n",
              "      <th>concavity_mean</th>\n",
              "      <th>concave points_mean</th>\n",
              "      <th>...</th>\n",
              "      <th>texture_worst</th>\n",
              "      <th>perimeter_worst</th>\n",
              "      <th>area_worst</th>\n",
              "      <th>smoothness_worst</th>\n",
              "      <th>compactness_worst</th>\n",
              "      <th>concavity_worst</th>\n",
              "      <th>concave points_worst</th>\n",
              "      <th>symmetry_worst</th>\n",
              "      <th>fractal_dimension_worst</th>\n",
              "      <th>Unnamed: 32</th>\n",
              "    </tr>\n",
              "  </thead>\n",
              "  <tbody>\n",
              "    <tr>\n",
              "      <th>0</th>\n",
              "      <td>842302</td>\n",
              "      <td>M</td>\n",
              "      <td>17.99</td>\n",
              "      <td>10.38</td>\n",
              "      <td>122.8</td>\n",
              "      <td>1001.0</td>\n",
              "      <td>0.11840</td>\n",
              "      <td>0.27760</td>\n",
              "      <td>0.3001</td>\n",
              "      <td>0.14710</td>\n",
              "      <td>...</td>\n",
              "      <td>17.33</td>\n",
              "      <td>184.6</td>\n",
              "      <td>2019.0</td>\n",
              "      <td>0.1622</td>\n",
              "      <td>0.6656</td>\n",
              "      <td>0.7119</td>\n",
              "      <td>0.2654</td>\n",
              "      <td>0.4601</td>\n",
              "      <td>0.11890</td>\n",
              "      <td>NaN</td>\n",
              "    </tr>\n",
              "    <tr>\n",
              "      <th>1</th>\n",
              "      <td>842517</td>\n",
              "      <td>M</td>\n",
              "      <td>20.57</td>\n",
              "      <td>17.77</td>\n",
              "      <td>132.9</td>\n",
              "      <td>1326.0</td>\n",
              "      <td>0.08474</td>\n",
              "      <td>0.07864</td>\n",
              "      <td>0.0869</td>\n",
              "      <td>0.07017</td>\n",
              "      <td>...</td>\n",
              "      <td>23.41</td>\n",
              "      <td>158.8</td>\n",
              "      <td>1956.0</td>\n",
              "      <td>0.1238</td>\n",
              "      <td>0.1866</td>\n",
              "      <td>0.2416</td>\n",
              "      <td>0.1860</td>\n",
              "      <td>0.2750</td>\n",
              "      <td>0.08902</td>\n",
              "      <td>NaN</td>\n",
              "    </tr>\n",
              "  </tbody>\n",
              "</table>\n",
              "<p>2 rows × 33 columns</p>\n",
              "</div>\n",
              "      <button class=\"colab-df-convert\" onclick=\"convertToInteractive('df-541d7f0c-ab03-4723-b681-1c5551731b9d')\"\n",
              "              title=\"Convert this dataframe to an interactive table.\"\n",
              "              style=\"display:none;\">\n",
              "        \n",
              "  <svg xmlns=\"http://www.w3.org/2000/svg\" height=\"24px\"viewBox=\"0 0 24 24\"\n",
              "       width=\"24px\">\n",
              "    <path d=\"M0 0h24v24H0V0z\" fill=\"none\"/>\n",
              "    <path d=\"M18.56 5.44l.94 2.06.94-2.06 2.06-.94-2.06-.94-.94-2.06-.94 2.06-2.06.94zm-11 1L8.5 8.5l.94-2.06 2.06-.94-2.06-.94L8.5 2.5l-.94 2.06-2.06.94zm10 10l.94 2.06.94-2.06 2.06-.94-2.06-.94-.94-2.06-.94 2.06-2.06.94z\"/><path d=\"M17.41 7.96l-1.37-1.37c-.4-.4-.92-.59-1.43-.59-.52 0-1.04.2-1.43.59L10.3 9.45l-7.72 7.72c-.78.78-.78 2.05 0 2.83L4 21.41c.39.39.9.59 1.41.59.51 0 1.02-.2 1.41-.59l7.78-7.78 2.81-2.81c.8-.78.8-2.07 0-2.86zM5.41 20L4 18.59l7.72-7.72 1.47 1.35L5.41 20z\"/>\n",
              "  </svg>\n",
              "      </button>\n",
              "      \n",
              "  <style>\n",
              "    .colab-df-container {\n",
              "      display:flex;\n",
              "      flex-wrap:wrap;\n",
              "      gap: 12px;\n",
              "    }\n",
              "\n",
              "    .colab-df-convert {\n",
              "      background-color: #E8F0FE;\n",
              "      border: none;\n",
              "      border-radius: 50%;\n",
              "      cursor: pointer;\n",
              "      display: none;\n",
              "      fill: #1967D2;\n",
              "      height: 32px;\n",
              "      padding: 0 0 0 0;\n",
              "      width: 32px;\n",
              "    }\n",
              "\n",
              "    .colab-df-convert:hover {\n",
              "      background-color: #E2EBFA;\n",
              "      box-shadow: 0px 1px 2px rgba(60, 64, 67, 0.3), 0px 1px 3px 1px rgba(60, 64, 67, 0.15);\n",
              "      fill: #174EA6;\n",
              "    }\n",
              "\n",
              "    [theme=dark] .colab-df-convert {\n",
              "      background-color: #3B4455;\n",
              "      fill: #D2E3FC;\n",
              "    }\n",
              "\n",
              "    [theme=dark] .colab-df-convert:hover {\n",
              "      background-color: #434B5C;\n",
              "      box-shadow: 0px 1px 3px 1px rgba(0, 0, 0, 0.15);\n",
              "      filter: drop-shadow(0px 1px 2px rgba(0, 0, 0, 0.3));\n",
              "      fill: #FFFFFF;\n",
              "    }\n",
              "  </style>\n",
              "\n",
              "      <script>\n",
              "        const buttonEl =\n",
              "          document.querySelector('#df-541d7f0c-ab03-4723-b681-1c5551731b9d button.colab-df-convert');\n",
              "        buttonEl.style.display =\n",
              "          google.colab.kernel.accessAllowed ? 'block' : 'none';\n",
              "\n",
              "        async function convertToInteractive(key) {\n",
              "          const element = document.querySelector('#df-541d7f0c-ab03-4723-b681-1c5551731b9d');\n",
              "          const dataTable =\n",
              "            await google.colab.kernel.invokeFunction('convertToInteractive',\n",
              "                                                     [key], {});\n",
              "          if (!dataTable) return;\n",
              "\n",
              "          const docLinkHtml = 'Like what you see? Visit the ' +\n",
              "            '<a target=\"_blank\" href=https://colab.research.google.com/notebooks/data_table.ipynb>data table notebook</a>'\n",
              "            + ' to learn more about interactive tables.';\n",
              "          element.innerHTML = '';\n",
              "          dataTable['output_type'] = 'display_data';\n",
              "          await google.colab.output.renderOutput(dataTable, element);\n",
              "          const docLink = document.createElement('div');\n",
              "          docLink.innerHTML = docLinkHtml;\n",
              "          element.appendChild(docLink);\n",
              "        }\n",
              "      </script>\n",
              "    </div>\n",
              "  </div>\n",
              "  "
            ]
          },
          "metadata": {},
          "execution_count": 25
        }
      ]
    },
    {
      "cell_type": "code",
      "source": [
        "CData.info()"
      ],
      "metadata": {
        "colab": {
          "base_uri": "https://localhost:8080/"
        },
        "id": "keL9axPfM3Lr",
        "outputId": "b918a293-62f7-460c-8134-fb6f05bc8553"
      },
      "execution_count": null,
      "outputs": [
        {
          "output_type": "stream",
          "name": "stdout",
          "text": [
            "<class 'pandas.core.frame.DataFrame'>\n",
            "RangeIndex: 569 entries, 0 to 568\n",
            "Data columns (total 33 columns):\n",
            " #   Column                   Non-Null Count  Dtype  \n",
            "---  ------                   --------------  -----  \n",
            " 0   id                       569 non-null    int64  \n",
            " 1   diagnosis                569 non-null    object \n",
            " 2   radius_mean              569 non-null    float64\n",
            " 3   texture_mean             569 non-null    float64\n",
            " 4   perimeter_mean           569 non-null    float64\n",
            " 5   area_mean                569 non-null    float64\n",
            " 6   smoothness_mean          569 non-null    float64\n",
            " 7   compactness_mean         569 non-null    float64\n",
            " 8   concavity_mean           569 non-null    float64\n",
            " 9   concave points_mean      569 non-null    float64\n",
            " 10  symmetry_mean            569 non-null    float64\n",
            " 11  fractal_dimension_mean   569 non-null    float64\n",
            " 12  radius_se                569 non-null    float64\n",
            " 13  texture_se               569 non-null    float64\n",
            " 14  perimeter_se             569 non-null    float64\n",
            " 15  area_se                  569 non-null    float64\n",
            " 16  smoothness_se            569 non-null    float64\n",
            " 17  compactness_se           569 non-null    float64\n",
            " 18  concavity_se             569 non-null    float64\n",
            " 19  concave points_se        569 non-null    float64\n",
            " 20  symmetry_se              569 non-null    float64\n",
            " 21  fractal_dimension_se     569 non-null    float64\n",
            " 22  radius_worst             569 non-null    float64\n",
            " 23  texture_worst            569 non-null    float64\n",
            " 24  perimeter_worst          569 non-null    float64\n",
            " 25  area_worst               569 non-null    float64\n",
            " 26  smoothness_worst         569 non-null    float64\n",
            " 27  compactness_worst        569 non-null    float64\n",
            " 28  concavity_worst          569 non-null    float64\n",
            " 29  concave points_worst     569 non-null    float64\n",
            " 30  symmetry_worst           569 non-null    float64\n",
            " 31  fractal_dimension_worst  569 non-null    float64\n",
            " 32  Unnamed: 32              0 non-null      float64\n",
            "dtypes: float64(31), int64(1), object(1)\n",
            "memory usage: 146.8+ KB\n"
          ]
        }
      ]
    },
    {
      "cell_type": "code",
      "source": [
        "CData.isnull().sum()"
      ],
      "metadata": {
        "colab": {
          "base_uri": "https://localhost:8080/"
        },
        "id": "eguV6lxdNFAv",
        "outputId": "a0bb5a8b-5302-4f54-cb0c-11808d8015bb"
      },
      "execution_count": null,
      "outputs": [
        {
          "output_type": "execute_result",
          "data": {
            "text/plain": [
              "id                           0\n",
              "diagnosis                    0\n",
              "radius_mean                  0\n",
              "texture_mean                 0\n",
              "perimeter_mean               0\n",
              "area_mean                    0\n",
              "smoothness_mean              0\n",
              "compactness_mean             0\n",
              "concavity_mean               0\n",
              "concave points_mean          0\n",
              "symmetry_mean                0\n",
              "fractal_dimension_mean       0\n",
              "radius_se                    0\n",
              "texture_se                   0\n",
              "perimeter_se                 0\n",
              "area_se                      0\n",
              "smoothness_se                0\n",
              "compactness_se               0\n",
              "concavity_se                 0\n",
              "concave points_se            0\n",
              "symmetry_se                  0\n",
              "fractal_dimension_se         0\n",
              "radius_worst                 0\n",
              "texture_worst                0\n",
              "perimeter_worst              0\n",
              "area_worst                   0\n",
              "smoothness_worst             0\n",
              "compactness_worst            0\n",
              "concavity_worst              0\n",
              "concave points_worst         0\n",
              "symmetry_worst               0\n",
              "fractal_dimension_worst      0\n",
              "Unnamed: 32                569\n",
              "dtype: int64"
            ]
          },
          "metadata": {},
          "execution_count": 26
        }
      ]
    },
    {
      "cell_type": "code",
      "source": [
        "CData=CData.drop([\"Unnamed: 32\",\"id\"],axis=1)"
      ],
      "metadata": {
        "id": "CqqprkXSNLkI"
      },
      "execution_count": null,
      "outputs": []
    },
    {
      "cell_type": "code",
      "source": [
        "CData[\"diagnosis\"]=CData[\"diagnosis\"].map({'B':0,'M':1}).astype(int)\n",
        "CData.head()"
      ],
      "metadata": {
        "colab": {
          "base_uri": "https://localhost:8080/",
          "height": 317
        },
        "id": "A9rwTV_4NVVf",
        "outputId": "8dd63b27-d392-4ab7-a288-3e7c0375342c"
      },
      "execution_count": null,
      "outputs": [
        {
          "output_type": "execute_result",
          "data": {
            "text/plain": [
              "   diagnosis  radius_mean  texture_mean  perimeter_mean  area_mean  \\\n",
              "0          1        17.99         10.38          122.80     1001.0   \n",
              "1          1        20.57         17.77          132.90     1326.0   \n",
              "2          1        19.69         21.25          130.00     1203.0   \n",
              "3          1        11.42         20.38           77.58      386.1   \n",
              "4          1        20.29         14.34          135.10     1297.0   \n",
              "\n",
              "   smoothness_mean  compactness_mean  concavity_mean  concave points_mean  \\\n",
              "0          0.11840           0.27760          0.3001              0.14710   \n",
              "1          0.08474           0.07864          0.0869              0.07017   \n",
              "2          0.10960           0.15990          0.1974              0.12790   \n",
              "3          0.14250           0.28390          0.2414              0.10520   \n",
              "4          0.10030           0.13280          0.1980              0.10430   \n",
              "\n",
              "   symmetry_mean  ...  radius_worst  texture_worst  perimeter_worst  \\\n",
              "0         0.2419  ...         25.38          17.33           184.60   \n",
              "1         0.1812  ...         24.99          23.41           158.80   \n",
              "2         0.2069  ...         23.57          25.53           152.50   \n",
              "3         0.2597  ...         14.91          26.50            98.87   \n",
              "4         0.1809  ...         22.54          16.67           152.20   \n",
              "\n",
              "   area_worst  smoothness_worst  compactness_worst  concavity_worst  \\\n",
              "0      2019.0            0.1622             0.6656           0.7119   \n",
              "1      1956.0            0.1238             0.1866           0.2416   \n",
              "2      1709.0            0.1444             0.4245           0.4504   \n",
              "3       567.7            0.2098             0.8663           0.6869   \n",
              "4      1575.0            0.1374             0.2050           0.4000   \n",
              "\n",
              "   concave points_worst  symmetry_worst  fractal_dimension_worst  \n",
              "0                0.2654          0.4601                  0.11890  \n",
              "1                0.1860          0.2750                  0.08902  \n",
              "2                0.2430          0.3613                  0.08758  \n",
              "3                0.2575          0.6638                  0.17300  \n",
              "4                0.1625          0.2364                  0.07678  \n",
              "\n",
              "[5 rows x 31 columns]"
            ],
            "text/html": [
              "\n",
              "  <div id=\"df-ebc52ffe-1439-4077-be54-a30db1f9737f\">\n",
              "    <div class=\"colab-df-container\">\n",
              "      <div>\n",
              "<style scoped>\n",
              "    .dataframe tbody tr th:only-of-type {\n",
              "        vertical-align: middle;\n",
              "    }\n",
              "\n",
              "    .dataframe tbody tr th {\n",
              "        vertical-align: top;\n",
              "    }\n",
              "\n",
              "    .dataframe thead th {\n",
              "        text-align: right;\n",
              "    }\n",
              "</style>\n",
              "<table border=\"1\" class=\"dataframe\">\n",
              "  <thead>\n",
              "    <tr style=\"text-align: right;\">\n",
              "      <th></th>\n",
              "      <th>diagnosis</th>\n",
              "      <th>radius_mean</th>\n",
              "      <th>texture_mean</th>\n",
              "      <th>perimeter_mean</th>\n",
              "      <th>area_mean</th>\n",
              "      <th>smoothness_mean</th>\n",
              "      <th>compactness_mean</th>\n",
              "      <th>concavity_mean</th>\n",
              "      <th>concave points_mean</th>\n",
              "      <th>symmetry_mean</th>\n",
              "      <th>...</th>\n",
              "      <th>radius_worst</th>\n",
              "      <th>texture_worst</th>\n",
              "      <th>perimeter_worst</th>\n",
              "      <th>area_worst</th>\n",
              "      <th>smoothness_worst</th>\n",
              "      <th>compactness_worst</th>\n",
              "      <th>concavity_worst</th>\n",
              "      <th>concave points_worst</th>\n",
              "      <th>symmetry_worst</th>\n",
              "      <th>fractal_dimension_worst</th>\n",
              "    </tr>\n",
              "  </thead>\n",
              "  <tbody>\n",
              "    <tr>\n",
              "      <th>0</th>\n",
              "      <td>1</td>\n",
              "      <td>17.99</td>\n",
              "      <td>10.38</td>\n",
              "      <td>122.80</td>\n",
              "      <td>1001.0</td>\n",
              "      <td>0.11840</td>\n",
              "      <td>0.27760</td>\n",
              "      <td>0.3001</td>\n",
              "      <td>0.14710</td>\n",
              "      <td>0.2419</td>\n",
              "      <td>...</td>\n",
              "      <td>25.38</td>\n",
              "      <td>17.33</td>\n",
              "      <td>184.60</td>\n",
              "      <td>2019.0</td>\n",
              "      <td>0.1622</td>\n",
              "      <td>0.6656</td>\n",
              "      <td>0.7119</td>\n",
              "      <td>0.2654</td>\n",
              "      <td>0.4601</td>\n",
              "      <td>0.11890</td>\n",
              "    </tr>\n",
              "    <tr>\n",
              "      <th>1</th>\n",
              "      <td>1</td>\n",
              "      <td>20.57</td>\n",
              "      <td>17.77</td>\n",
              "      <td>132.90</td>\n",
              "      <td>1326.0</td>\n",
              "      <td>0.08474</td>\n",
              "      <td>0.07864</td>\n",
              "      <td>0.0869</td>\n",
              "      <td>0.07017</td>\n",
              "      <td>0.1812</td>\n",
              "      <td>...</td>\n",
              "      <td>24.99</td>\n",
              "      <td>23.41</td>\n",
              "      <td>158.80</td>\n",
              "      <td>1956.0</td>\n",
              "      <td>0.1238</td>\n",
              "      <td>0.1866</td>\n",
              "      <td>0.2416</td>\n",
              "      <td>0.1860</td>\n",
              "      <td>0.2750</td>\n",
              "      <td>0.08902</td>\n",
              "    </tr>\n",
              "    <tr>\n",
              "      <th>2</th>\n",
              "      <td>1</td>\n",
              "      <td>19.69</td>\n",
              "      <td>21.25</td>\n",
              "      <td>130.00</td>\n",
              "      <td>1203.0</td>\n",
              "      <td>0.10960</td>\n",
              "      <td>0.15990</td>\n",
              "      <td>0.1974</td>\n",
              "      <td>0.12790</td>\n",
              "      <td>0.2069</td>\n",
              "      <td>...</td>\n",
              "      <td>23.57</td>\n",
              "      <td>25.53</td>\n",
              "      <td>152.50</td>\n",
              "      <td>1709.0</td>\n",
              "      <td>0.1444</td>\n",
              "      <td>0.4245</td>\n",
              "      <td>0.4504</td>\n",
              "      <td>0.2430</td>\n",
              "      <td>0.3613</td>\n",
              "      <td>0.08758</td>\n",
              "    </tr>\n",
              "    <tr>\n",
              "      <th>3</th>\n",
              "      <td>1</td>\n",
              "      <td>11.42</td>\n",
              "      <td>20.38</td>\n",
              "      <td>77.58</td>\n",
              "      <td>386.1</td>\n",
              "      <td>0.14250</td>\n",
              "      <td>0.28390</td>\n",
              "      <td>0.2414</td>\n",
              "      <td>0.10520</td>\n",
              "      <td>0.2597</td>\n",
              "      <td>...</td>\n",
              "      <td>14.91</td>\n",
              "      <td>26.50</td>\n",
              "      <td>98.87</td>\n",
              "      <td>567.7</td>\n",
              "      <td>0.2098</td>\n",
              "      <td>0.8663</td>\n",
              "      <td>0.6869</td>\n",
              "      <td>0.2575</td>\n",
              "      <td>0.6638</td>\n",
              "      <td>0.17300</td>\n",
              "    </tr>\n",
              "    <tr>\n",
              "      <th>4</th>\n",
              "      <td>1</td>\n",
              "      <td>20.29</td>\n",
              "      <td>14.34</td>\n",
              "      <td>135.10</td>\n",
              "      <td>1297.0</td>\n",
              "      <td>0.10030</td>\n",
              "      <td>0.13280</td>\n",
              "      <td>0.1980</td>\n",
              "      <td>0.10430</td>\n",
              "      <td>0.1809</td>\n",
              "      <td>...</td>\n",
              "      <td>22.54</td>\n",
              "      <td>16.67</td>\n",
              "      <td>152.20</td>\n",
              "      <td>1575.0</td>\n",
              "      <td>0.1374</td>\n",
              "      <td>0.2050</td>\n",
              "      <td>0.4000</td>\n",
              "      <td>0.1625</td>\n",
              "      <td>0.2364</td>\n",
              "      <td>0.07678</td>\n",
              "    </tr>\n",
              "  </tbody>\n",
              "</table>\n",
              "<p>5 rows × 31 columns</p>\n",
              "</div>\n",
              "      <button class=\"colab-df-convert\" onclick=\"convertToInteractive('df-ebc52ffe-1439-4077-be54-a30db1f9737f')\"\n",
              "              title=\"Convert this dataframe to an interactive table.\"\n",
              "              style=\"display:none;\">\n",
              "        \n",
              "  <svg xmlns=\"http://www.w3.org/2000/svg\" height=\"24px\"viewBox=\"0 0 24 24\"\n",
              "       width=\"24px\">\n",
              "    <path d=\"M0 0h24v24H0V0z\" fill=\"none\"/>\n",
              "    <path d=\"M18.56 5.44l.94 2.06.94-2.06 2.06-.94-2.06-.94-.94-2.06-.94 2.06-2.06.94zm-11 1L8.5 8.5l.94-2.06 2.06-.94-2.06-.94L8.5 2.5l-.94 2.06-2.06.94zm10 10l.94 2.06.94-2.06 2.06-.94-2.06-.94-.94-2.06-.94 2.06-2.06.94z\"/><path d=\"M17.41 7.96l-1.37-1.37c-.4-.4-.92-.59-1.43-.59-.52 0-1.04.2-1.43.59L10.3 9.45l-7.72 7.72c-.78.78-.78 2.05 0 2.83L4 21.41c.39.39.9.59 1.41.59.51 0 1.02-.2 1.41-.59l7.78-7.78 2.81-2.81c.8-.78.8-2.07 0-2.86zM5.41 20L4 18.59l7.72-7.72 1.47 1.35L5.41 20z\"/>\n",
              "  </svg>\n",
              "      </button>\n",
              "      \n",
              "  <style>\n",
              "    .colab-df-container {\n",
              "      display:flex;\n",
              "      flex-wrap:wrap;\n",
              "      gap: 12px;\n",
              "    }\n",
              "\n",
              "    .colab-df-convert {\n",
              "      background-color: #E8F0FE;\n",
              "      border: none;\n",
              "      border-radius: 50%;\n",
              "      cursor: pointer;\n",
              "      display: none;\n",
              "      fill: #1967D2;\n",
              "      height: 32px;\n",
              "      padding: 0 0 0 0;\n",
              "      width: 32px;\n",
              "    }\n",
              "\n",
              "    .colab-df-convert:hover {\n",
              "      background-color: #E2EBFA;\n",
              "      box-shadow: 0px 1px 2px rgba(60, 64, 67, 0.3), 0px 1px 3px 1px rgba(60, 64, 67, 0.15);\n",
              "      fill: #174EA6;\n",
              "    }\n",
              "\n",
              "    [theme=dark] .colab-df-convert {\n",
              "      background-color: #3B4455;\n",
              "      fill: #D2E3FC;\n",
              "    }\n",
              "\n",
              "    [theme=dark] .colab-df-convert:hover {\n",
              "      background-color: #434B5C;\n",
              "      box-shadow: 0px 1px 3px 1px rgba(0, 0, 0, 0.15);\n",
              "      filter: drop-shadow(0px 1px 2px rgba(0, 0, 0, 0.3));\n",
              "      fill: #FFFFFF;\n",
              "    }\n",
              "  </style>\n",
              "\n",
              "      <script>\n",
              "        const buttonEl =\n",
              "          document.querySelector('#df-ebc52ffe-1439-4077-be54-a30db1f9737f button.colab-df-convert');\n",
              "        buttonEl.style.display =\n",
              "          google.colab.kernel.accessAllowed ? 'block' : 'none';\n",
              "\n",
              "        async function convertToInteractive(key) {\n",
              "          const element = document.querySelector('#df-ebc52ffe-1439-4077-be54-a30db1f9737f');\n",
              "          const dataTable =\n",
              "            await google.colab.kernel.invokeFunction('convertToInteractive',\n",
              "                                                     [key], {});\n",
              "          if (!dataTable) return;\n",
              "\n",
              "          const docLinkHtml = 'Like what you see? Visit the ' +\n",
              "            '<a target=\"_blank\" href=https://colab.research.google.com/notebooks/data_table.ipynb>data table notebook</a>'\n",
              "            + ' to learn more about interactive tables.';\n",
              "          element.innerHTML = '';\n",
              "          dataTable['output_type'] = 'display_data';\n",
              "          await google.colab.output.renderOutput(dataTable, element);\n",
              "          const docLink = document.createElement('div');\n",
              "          docLink.innerHTML = docLinkHtml;\n",
              "          element.appendChild(docLink);\n",
              "        }\n",
              "      </script>\n",
              "    </div>\n",
              "  </div>\n",
              "  "
            ]
          },
          "metadata": {},
          "execution_count": 28
        }
      ]
    },
    {
      "cell_type": "code",
      "source": [
        "x=CData[['radius_mean','perimeter_mean','area_mean','compactness_mean','concave points_mean','radius_se','perimeter_se', 'area_se','compactness_se', 'concave points_se','radius_worst','perimeter_worst','compactness_worst','concave points_worst','texture_worst','area_worst']]\n",
        "y=CData[['diagnosis']]"
      ],
      "metadata": {
        "id": "2yt97yvQNeUC"
      },
      "execution_count": null,
      "outputs": []
    },
    {
      "cell_type": "code",
      "source": [
        "x_train, x_test, y_train, y_test = train_test_split(x, y, test_size=0.3, random_state=1)"
      ],
      "metadata": {
        "id": "rUnPpC6VNttW"
      },
      "execution_count": null,
      "outputs": []
    },
    {
      "cell_type": "code",
      "source": [
        "from sklearn.neighbors import KNeighborsClassifier\n",
        "from sklearn import metrics"
      ],
      "metadata": {
        "id": "aUTEoVzUNw4_"
      },
      "execution_count": null,
      "outputs": []
    },
    {
      "cell_type": "code",
      "source": [
        "model = KNeighborsClassifier(n_neighbors=5)\n",
        "model.fit(x_train, y_train)\n",
        "y_pred =model.predict(x_test)"
      ],
      "metadata": {
        "colab": {
          "base_uri": "https://localhost:8080/"
        },
        "id": "5FqMnfHmOAQE",
        "outputId": "59c78508-fe6c-41f6-a970-d0f27ec71feb"
      },
      "execution_count": null,
      "outputs": [
        {
          "output_type": "stream",
          "name": "stderr",
          "text": [
            "/usr/local/lib/python3.7/dist-packages/sklearn/neighbors/_classification.py:198: DataConversionWarning: A column-vector y was passed when a 1d array was expected. Please change the shape of y to (n_samples,), for example using ravel().\n",
            "  return self._fit(X, y)\n"
          ]
        }
      ]
    },
    {
      "cell_type": "code",
      "source": [
        "print(\"KNN model accuracy is: \", metrics.accuracy_score(y_test, y_pred)*100)"
      ],
      "metadata": {
        "colab": {
          "base_uri": "https://localhost:8080/"
        },
        "id": "mqbUFtGYP4ge",
        "outputId": "dc420bfb-3e37-44a9-e1f1-984686001070"
      },
      "execution_count": null,
      "outputs": [
        {
          "output_type": "stream",
          "name": "stdout",
          "text": [
            "KNN model accuracy is:  93.56725146198829\n"
          ]
        }
      ]
    },
    {
      "cell_type": "markdown",
      "source": [
        "# QUESTION NO 7"
      ],
      "metadata": {
        "id": "NoI2h3NIQSDp"
      }
    },
    {
      "cell_type": "code",
      "execution_count": null,
      "metadata": {
        "id": "fnAdJceKUOL3"
      },
      "outputs": [],
      "source": [
        "df = pd.read_csv('Iris.csv')"
      ]
    },
    {
      "cell_type": "markdown",
      "source": [
        "![Capture.PNG](data:image/png;base64,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)"
      ],
      "metadata": {
        "id": "oVHU078KWgOL"
      }
    },
    {
      "cell_type": "markdown",
      "source": [
        "**Demonstration of clustering process on dataset iris.csv using complete link agglomerative algorithm.**"
      ],
      "metadata": {
        "id": "enomkTL7QYuu"
      }
    },
    {
      "cell_type": "code",
      "source": [
        "DEN_GRAPH = linkage(df.loc[:,[\"SepalLengthCm\",\"SepalWidthCm\",\"PetalLengthCm\",\"PetalWidthCm\"]],method=\"complete\")\n",
        "plt.figure(figsize=(20,9))\n",
        "dendrogram(DEN_GRAPH, leaf_rotation=90)\n",
        "plt.xlabel('Flowers')\n",
        "plt.ylabel('Distance')\n",
        "plt.suptitle(\"DENDROGRAM COMPLETE LINK METHOD\",fontsize=20, fontweight = 'bold' , color = 'red') \n",
        "plt.show()"
      ],
      "metadata": {
        "colab": {
          "base_uri": "https://localhost:8080/",
          "height": 616
        },
        "id": "rBRDeKX5QUcW",
        "outputId": "748cd981-2a7e-4dde-90d9-fdce45360c0f"
      },
      "execution_count": null,
      "outputs": [
        {
          "output_type": "display_data",
          "data": {
            "text/plain": [
              "<Figure size 1440x648 with 1 Axes>"
            ],
            "image/png": "[encoded data removed]"
          },
          "metadata": {
            "needs_background": "light"
          }
        }
      ]
    },
    {
      "cell_type": "markdown",
      "source": [
        "# QUESTION NO 8"
      ],
      "metadata": {
        "id": "wKFM2P_XV2dD"
      }
    },
    {
      "cell_type": "markdown",
      "source": [
        "**Demonstration of clustering process on dataset iris.csv using complete link agglomerative algorithm.**\n"
      ],
      "metadata": {
        "id": "GShydKBIWE7k"
      }
    },
    {
      "cell_type": "code",
      "source": [
        "DEN_GRAPH = linkage(df.loc[:,[\"SepalLengthCm\",\"SepalWidthCm\",\"PetalLengthCm\",\"PetalWidthCm\"]],method=\"single\")\n",
        "plt.figure(figsize=(20,9))\n",
        "dendrogram(DEN_GRAPH, leaf_rotation=90)\n",
        "plt.xlabel('Flowers')\n",
        "plt.ylabel('Distance')\n",
        "plt.suptitle(\"DENDROGRAM SINGLE LINK METHOD\",fontsize=20, fontweight = 'bold' , color = 'red') \n",
        "plt.show()"
      ],
      "metadata": {
        "colab": {
          "base_uri": "https://localhost:8080/",
          "height": 616
        },
        "id": "NjxgqyjUTRhg",
        "outputId": "23413404-6608-4c7b-c985-3625f4ae8518"
      },
      "execution_count": null,
      "outputs": [
        {
          "output_type": "display_data",
          "data": {
            "text/plain": [
              "<Figure size 1440x648 with 1 Axes>"
            ],
            "image/png": "[encoded data removed]"
          },
          "metadata": {
            "needs_background": "light"
          }
        }
      ]
    },
    {
      "cell_type": "markdown",
      "source": [
        "# QUESTION NO 9"
      ],
      "metadata": {
        "id": "TzJ_4eJWWzFQ"
      }
    },
    {
      "cell_type": "markdown",
      "source": [
        "Demonstration of clustering rule process on dataset iris using simple \n",
        "k-means (k = 3)\n"
      ],
      "metadata": {
        "id": "Ki4AS4zoW2Pt"
      }
    },
    {
      "cell_type": "code",
      "source": [
        "import numpy as np\n",
        "import pandas as pd\n",
        "import matplotlib.pyplot as plt\n",
        "import plotly.express as px\n",
        "import seaborn as sns\n",
        "from sklearn.preprocessing import MinMaxScaler"
      ],
      "metadata": {
        "id": "6fHlX9DbV_px"
      },
      "execution_count": null,
      "outputs": []
    },
    {
      "cell_type": "code",
      "source": [
        "df = pd.read_csv('/content/Iris.csv')"
      ],
      "metadata": {
        "id": "KWNXeJla7nT_"
      },
      "execution_count": null,
      "outputs": []
    },
    {
      "cell_type": "code",
      "source": [
        "df.drop('Id',inplace=True,axis=1) #Drop Id column"
      ],
      "metadata": {
        "id": "6uQOrr677bxJ"
      },
      "execution_count": null,
      "outputs": []
    },
    {
      "cell_type": "code",
      "source": [
        "df.head().style.background_gradient(sns.color_palette(\"YlOrBr\", as_cmap=True))"
      ],
      "metadata": {
        "colab": {
          "base_uri": "https://localhost:8080/",
          "height": 206
        },
        "id": "-Nu4ln5f7j12",
        "outputId": "c0868a00-2383-4182-c350-271386bce9e3"
      },
      "execution_count": null,
      "outputs": [
        {
          "output_type": "execute_result",
          "data": {
            "text/plain": [
              "<pandas.io.formats.style.Styler at 0x7fd2cd2d2690>"
            ],
            "text/html": [
              "<style type=\"text/css\">\n",
              "#T_35dd1_row0_col0, #T_35dd1_row3_col2, #T_35dd1_row4_col1 {\n",
              "  background-color: #662506;\n",
              "  color: #f1f1f1;\n",
              "}\n",
              "#T_35dd1_row0_col1 {\n",
              "  background-color: #a93c03;\n",
              "  color: #f1f1f1;\n",
              "}\n",
              "#T_35dd1_row0_col2, #T_35dd1_row1_col2, #T_35dd1_row4_col2 {\n",
              "  background-color: #fe9a2a;\n",
              "  color: #000000;\n",
              "}\n",
              "#T_35dd1_row0_col3, #T_35dd1_row1_col1, #T_35dd1_row1_col3, #T_35dd1_row2_col2, #T_35dd1_row2_col3, #T_35dd1_row3_col0, #T_35dd1_row3_col3, #T_35dd1_row4_col3 {\n",
              "  background-color: #ffffe5;\n",
              "  color: #000000;\n",
              "}\n",
              "#T_35dd1_row1_col0 {\n",
              "  background-color: #f07818;\n",
              "  color: #f1f1f1;\n",
              "}\n",
              "#T_35dd1_row2_col0 {\n",
              "  background-color: #feeba2;\n",
              "  color: #000000;\n",
              "}\n",
              "#T_35dd1_row2_col1 {\n",
              "  background-color: #fece65;\n",
              "  color: #000000;\n",
              "}\n",
              "#T_35dd1_row3_col1 {\n",
              "  background-color: #fff1ae;\n",
              "  color: #000000;\n",
              "}\n",
              "#T_35dd1_row4_col0 {\n",
              "  background-color: #b84203;\n",
              "  color: #f1f1f1;\n",
              "}\n",
              "</style>\n",
              "<table id=\"T_35dd1_\" class=\"dataframe\">\n",
              "  <thead>\n",
              "    <tr>\n",
              "      <th class=\"blank level0\" >&nbsp;</th>\n",
              "      <th class=\"col_heading level0 col0\" >SepalLengthCm</th>\n",
              "      <th class=\"col_heading level0 col1\" >SepalWidthCm</th>\n",
              "      <th class=\"col_heading level0 col2\" >PetalLengthCm</th>\n",
              "      <th class=\"col_heading level0 col3\" >PetalWidthCm</th>\n",
              "      <th class=\"col_heading level0 col4\" >Species</th>\n",
              "    </tr>\n",
              "  </thead>\n",
              "  <tbody>\n",
              "    <tr>\n",
              "      <th id=\"T_35dd1_level0_row0\" class=\"row_heading level0 row0\" >0</th>\n",
              "      <td id=\"T_35dd1_row0_col0\" class=\"data row0 col0\" >5.100000</td>\n",
              "      <td id=\"T_35dd1_row0_col1\" class=\"data row0 col1\" >3.500000</td>\n",
              "      <td id=\"T_35dd1_row0_col2\" class=\"data row0 col2\" >1.400000</td>\n",
              "      <td id=\"T_35dd1_row0_col3\" class=\"data row0 col3\" >0.200000</td>\n",
              "      <td id=\"T_35dd1_row0_col4\" class=\"data row0 col4\" >Iris-setosa</td>\n",
              "    </tr>\n",
              "    <tr>\n",
              "      <th id=\"T_35dd1_level0_row1\" class=\"row_heading level0 row1\" >1</th>\n",
              "      <td id=\"T_35dd1_row1_col0\" class=\"data row1 col0\" >4.900000</td>\n",
              "      <td id=\"T_35dd1_row1_col1\" class=\"data row1 col1\" >3.000000</td>\n",
              "      <td id=\"T_35dd1_row1_col2\" class=\"data row1 col2\" >1.400000</td>\n",
              "      <td id=\"T_35dd1_row1_col3\" class=\"data row1 col3\" >0.200000</td>\n",
              "      <td id=\"T_35dd1_row1_col4\" class=\"data row1 col4\" >Iris-setosa</td>\n",
              "    </tr>\n",
              "    <tr>\n",
              "      <th id=\"T_35dd1_level0_row2\" class=\"row_heading level0 row2\" >2</th>\n",
              "      <td id=\"T_35dd1_row2_col0\" class=\"data row2 col0\" >4.700000</td>\n",
              "      <td id=\"T_35dd1_row2_col1\" class=\"data row2 col1\" >3.200000</td>\n",
              "      <td id=\"T_35dd1_row2_col2\" class=\"data row2 col2\" >1.300000</td>\n",
              "      <td id=\"T_35dd1_row2_col3\" class=\"data row2 col3\" >0.200000</td>\n",
              "      <td id=\"T_35dd1_row2_col4\" class=\"data row2 col4\" >Iris-setosa</td>\n",
              "    </tr>\n",
              "    <tr>\n",
              "      <th id=\"T_35dd1_level0_row3\" class=\"row_heading level0 row3\" >3</th>\n",
              "      <td id=\"T_35dd1_row3_col0\" class=\"data row3 col0\" >4.600000</td>\n",
              "      <td id=\"T_35dd1_row3_col1\" class=\"data row3 col1\" >3.100000</td>\n",
              "      <td id=\"T_35dd1_row3_col2\" class=\"data row3 col2\" >1.500000</td>\n",
              "      <td id=\"T_35dd1_row3_col3\" class=\"data row3 col3\" >0.200000</td>\n",
              "      <td id=\"T_35dd1_row3_col4\" class=\"data row3 col4\" >Iris-setosa</td>\n",
              "    </tr>\n",
              "    <tr>\n",
              "      <th id=\"T_35dd1_level0_row4\" class=\"row_heading level0 row4\" >4</th>\n",
              "      <td id=\"T_35dd1_row4_col0\" class=\"data row4 col0\" >5.000000</td>\n",
              "      <td id=\"T_35dd1_row4_col1\" class=\"data row4 col1\" >3.600000</td>\n",
              "      <td id=\"T_35dd1_row4_col2\" class=\"data row4 col2\" >1.400000</td>\n",
              "      <td id=\"T_35dd1_row4_col3\" class=\"data row4 col3\" >0.200000</td>\n",
              "      <td id=\"T_35dd1_row4_col4\" class=\"data row4 col4\" >Iris-setosa</td>\n",
              "    </tr>\n",
              "  </tbody>\n",
              "</table>\n"
            ]
          },
          "metadata": {},
          "execution_count": 5
        }
      ]
    },
    {
      "cell_type": "code",
      "source": [
        "X = df.iloc[:,:-1] #Set our training data\n",
        "y = df.iloc[:,-1] "
      ],
      "metadata": {
        "id": "2Lpqw7W57v-i"
      },
      "execution_count": null,
      "outputs": []
    },
    {
      "cell_type": "code",
      "source": [
        "from sklearn.model_selection import train_test_split\n",
        "X_train, X_test, y_train, y_test = train_test_split(X.values, y.values, test_size=.2, random_state=41)"
      ],
      "metadata": {
        "id": "ofwtQxEm75lY"
      },
      "execution_count": null,
      "outputs": []
    },
    {
      "cell_type": "code",
      "source": [
        "class KNN:\n",
        "    def __init__(self, n_neighbors=5):\n",
        "        self.n_neighbors = n_neighbors\n",
        "        \n",
        "    def euclidean_distance(self, x1,x2):\n",
        "        return np.sum(np.square(x1 - x2)**2)\n",
        "\n",
        "    def fit(self, X_train, y_train):\n",
        "        # Note in knn fit function just stores the values of X_train, y_train\n",
        "        self.X_train = X_train\n",
        "        self.y_train = y_train\n",
        "\n",
        "    def predict(self, X):\n",
        "        #create empty array to store the predictions\n",
        "        predictions = []\n",
        "         # loop over X examples\n",
        "        for x in X:\n",
        "            #get prediction using the prediction helper funciton\n",
        "            prediction = self._predict(x)\n",
        "            # append the prediction to the predictions list\n",
        "            predictions.append(prediction)\n",
        "        return np.array(predictions)\n",
        "\n",
        "    def _predict(self, x):\n",
        "        # create empty array to store distances\n",
        "        distances = []\n",
        "        # loop over all training examples  and compute the distance between x and all the training examples \n",
        "        for x_train in self.X_train:\n",
        "            distance = self.euclidean_distance(x, x_train)\n",
        "            distances.append(distance)\n",
        "        distances = np.array(distances)\n",
        "        \n",
        "        #Sort by ascendingly distance  and return indices of the given n neighbours\n",
        "        n_neighbors_idxs = np.argsort(distances)[: self.n_neighbors]\n",
        "        \n",
        "        # Get labels of nneighbour indexes\n",
        "        labels = y_train[n_neighbors_idxs]                  \n",
        "        labels = list(labels)\n",
        "        #get the highest present class in the array\n",
        "        most_occuring_value = max(labels, key=labels.count)\n",
        "        return most_occuring_value"
      ],
      "metadata": {
        "id": "94Lds9Py8ByY"
      },
      "execution_count": null,
      "outputs": []
    },
    {
      "cell_type": "code",
      "source": [
        "model = KNN(7)\n",
        "model.fit(X_train, y_train)"
      ],
      "metadata": {
        "id": "I1zXZ-Dc8Ztg"
      },
      "execution_count": null,
      "outputs": []
    },
    {
      "cell_type": "code",
      "source": [
        "from sklearn.metrics import accuracy_score\n",
        "predictions = model.predict(X_test)\n",
        "\n",
        "accuracy = accuracy_score(y_test, predictions)\n",
        "\n",
        "print(f\" our model got accuracy score of : {accuracy}\")    "
      ],
      "metadata": {
        "colab": {
          "base_uri": "https://localhost:8080/"
        },
        "id": "-Pd6XbNH8gLj",
        "outputId": "0a9427b9-e257-4851-cd2a-e92488837ce8"
      },
      "execution_count": null,
      "outputs": [
        {
          "output_type": "stream",
          "name": "stdout",
          "text": [
            " our model got accuracy score of : 0.9666666666666667\n"
          ]
        }
      ]
    }
  ],
  "metadata": {
    "colab": {
      "provenance": [],
      "include_colab_link": true
    },
    "kernelspec": {
      "display_name": "Python 3",
      "name": "python3"
    },
    "language_info": {
      "name": "python"
    }
  },
  "nbformat": 4,
  "nbformat_minor": 0
}